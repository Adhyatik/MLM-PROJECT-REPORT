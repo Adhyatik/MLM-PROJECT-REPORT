{
  "nbformat": 4,
  "nbformat_minor": 0,
  "metadata": {
    "colab": {
      "provenance": [],
      "include_colab_link": true
    },
    "kernelspec": {
      "name": "python3",
      "display_name": "Python 3"
    },
    "language_info": {
      "name": "python"
    }
  },
  "cells": [
    {
      "cell_type": "markdown",
      "metadata": {
        "id": "view-in-github",
        "colab_type": "text"
      },
      "source": [
        "<a href=\"https://colab.research.google.com/github/Adhyatik/MLM-PROJECT-REPORT/blob/main/simpleNN_singleNeuron.ipynb\" target=\"_parent\"><img src=\"https://colab.research.google.com/assets/colab-badge.svg\" alt=\"Open In Colab\"/></a>"
      ]
    },
    {
      "cell_type": "code",
      "source": [
        "# Last amended: Ist July, 2024\n",
        "# Ref: https://www.kaggle.com/code/ryanholbrook/a-single-neuron\n",
        "# Try to standardscale and then execute this notebook"
      ],
      "metadata": {
        "id": "vTDfGIp_Vf8U"
      },
      "execution_count": 1,
      "outputs": []
    },
    {
      "cell_type": "code",
      "execution_count": 2,
      "metadata": {
        "id": "egD0Pwrp7KlC"
      },
      "outputs": [],
      "source": [
        "# 1.0 Call libraries\n",
        "import pandas as pd\n",
        "import numpy as np\n",
        "from  pathlib import Path\n",
        "\n",
        "# 1.0.1\n",
        "import tensorflow as tf\n",
        "from tensorflow import keras\n",
        "from tensorflow.keras import layers"
      ]
    },
    {
      "cell_type": "code",
      "source": [
        "# 1.1 Display multiple commands output from a cell\n",
        "from IPython.core.interactiveshell import InteractiveShell\n",
        "InteractiveShell.ast_node_interactivity = \"all\""
      ],
      "metadata": {
        "id": "L7ho_mDmbgnA"
      },
      "execution_count": 3,
      "outputs": []
    },
    {
      "cell_type": "code",
      "source": [
        "# 2.0\n",
        "from google.colab import drive\n",
        "drive.mount('/gdrive')"
      ],
      "metadata": {
        "colab": {
          "base_uri": "https://localhost:8080/"
        },
        "id": "lY1pILSSIi27",
        "outputId": "31fb4a43-d11b-4e2e-c62e-5d567d7d4bf2"
      },
      "execution_count": 4,
      "outputs": [
        {
          "output_type": "stream",
          "name": "stdout",
          "text": [
            "Mounted at /gdrive\n"
          ]
        }
      ]
    },
    {
      "cell_type": "code",
      "source": [
        "# 2.1 Where is our data file:\n",
        "pathToFolder = \"/gdrive/MyDrive/deeplearning/red_wine.csv\""
      ],
      "metadata": {
        "id": "05WsWkOGJAUm"
      },
      "execution_count": 5,
      "outputs": []
    },
    {
      "cell_type": "code",
      "source": [
        "# 2.2 Full file path:\n",
        "path = Path(pathToFolder) / \"red_wine.csv\""
      ],
      "metadata": {
        "id": "rjbcpsYaJLLz"
      },
      "execution_count": 6,
      "outputs": []
    },
    {
      "cell_type": "code",
      "source": [
        "# 3.0 Read data\n",
        "red_wine = pd.read_csv(\"/gdrive/MyDrive/deeplearning/red_wine.csv\")\n",
        "red_wine.head()"
      ],
      "metadata": {
        "colab": {
          "base_uri": "https://localhost:8080/",
          "height": 206
        },
        "id": "IDybeYGSJSOO",
        "outputId": "d2034ee8-fc11-4ca9-8c6a-4d83c8f5d3f3"
      },
      "execution_count": 7,
      "outputs": [
        {
          "output_type": "execute_result",
          "data": {
            "text/plain": [
              "   fixed acidity  volatile acidity  citric acid  residual sugar  chlorides  \\\n",
              "0            7.4              0.70         0.00             1.9      0.076   \n",
              "1            7.8              0.88         0.00             2.6      0.098   \n",
              "2            7.8              0.76         0.04             2.3      0.092   \n",
              "3           11.2              0.28         0.56             1.9      0.075   \n",
              "4            7.4              0.70         0.00             1.9      0.076   \n",
              "\n",
              "   free sulfur dioxide  total sulfur dioxide  density    pH  sulphates  \\\n",
              "0                 11.0                  34.0   0.9978  3.51       0.56   \n",
              "1                 25.0                  67.0   0.9968  3.20       0.68   \n",
              "2                 15.0                  54.0   0.9970  3.26       0.65   \n",
              "3                 17.0                  60.0   0.9980  3.16       0.58   \n",
              "4                 11.0                  34.0   0.9978  3.51       0.56   \n",
              "\n",
              "   alcohol  quality  \n",
              "0      9.4        5  \n",
              "1      9.8        5  \n",
              "2      9.8        5  \n",
              "3      9.8        6  \n",
              "4      9.4        5  "
            ],
            "text/html": [
              "\n",
              "  <div id=\"df-13d1723f-6ba1-466e-b364-987e37113339\" class=\"colab-df-container\">\n",
              "    <div>\n",
              "<style scoped>\n",
              "    .dataframe tbody tr th:only-of-type {\n",
              "        vertical-align: middle;\n",
              "    }\n",
              "\n",
              "    .dataframe tbody tr th {\n",
              "        vertical-align: top;\n",
              "    }\n",
              "\n",
              "    .dataframe thead th {\n",
              "        text-align: right;\n",
              "    }\n",
              "</style>\n",
              "<table border=\"1\" class=\"dataframe\">\n",
              "  <thead>\n",
              "    <tr style=\"text-align: right;\">\n",
              "      <th></th>\n",
              "      <th>fixed acidity</th>\n",
              "      <th>volatile acidity</th>\n",
              "      <th>citric acid</th>\n",
              "      <th>residual sugar</th>\n",
              "      <th>chlorides</th>\n",
              "      <th>free sulfur dioxide</th>\n",
              "      <th>total sulfur dioxide</th>\n",
              "      <th>density</th>\n",
              "      <th>pH</th>\n",
              "      <th>sulphates</th>\n",
              "      <th>alcohol</th>\n",
              "      <th>quality</th>\n",
              "    </tr>\n",
              "  </thead>\n",
              "  <tbody>\n",
              "    <tr>\n",
              "      <th>0</th>\n",
              "      <td>7.4</td>\n",
              "      <td>0.70</td>\n",
              "      <td>0.00</td>\n",
              "      <td>1.9</td>\n",
              "      <td>0.076</td>\n",
              "      <td>11.0</td>\n",
              "      <td>34.0</td>\n",
              "      <td>0.9978</td>\n",
              "      <td>3.51</td>\n",
              "      <td>0.56</td>\n",
              "      <td>9.4</td>\n",
              "      <td>5</td>\n",
              "    </tr>\n",
              "    <tr>\n",
              "      <th>1</th>\n",
              "      <td>7.8</td>\n",
              "      <td>0.88</td>\n",
              "      <td>0.00</td>\n",
              "      <td>2.6</td>\n",
              "      <td>0.098</td>\n",
              "      <td>25.0</td>\n",
              "      <td>67.0</td>\n",
              "      <td>0.9968</td>\n",
              "      <td>3.20</td>\n",
              "      <td>0.68</td>\n",
              "      <td>9.8</td>\n",
              "      <td>5</td>\n",
              "    </tr>\n",
              "    <tr>\n",
              "      <th>2</th>\n",
              "      <td>7.8</td>\n",
              "      <td>0.76</td>\n",
              "      <td>0.04</td>\n",
              "      <td>2.3</td>\n",
              "      <td>0.092</td>\n",
              "      <td>15.0</td>\n",
              "      <td>54.0</td>\n",
              "      <td>0.9970</td>\n",
              "      <td>3.26</td>\n",
              "      <td>0.65</td>\n",
              "      <td>9.8</td>\n",
              "      <td>5</td>\n",
              "    </tr>\n",
              "    <tr>\n",
              "      <th>3</th>\n",
              "      <td>11.2</td>\n",
              "      <td>0.28</td>\n",
              "      <td>0.56</td>\n",
              "      <td>1.9</td>\n",
              "      <td>0.075</td>\n",
              "      <td>17.0</td>\n",
              "      <td>60.0</td>\n",
              "      <td>0.9980</td>\n",
              "      <td>3.16</td>\n",
              "      <td>0.58</td>\n",
              "      <td>9.8</td>\n",
              "      <td>6</td>\n",
              "    </tr>\n",
              "    <tr>\n",
              "      <th>4</th>\n",
              "      <td>7.4</td>\n",
              "      <td>0.70</td>\n",
              "      <td>0.00</td>\n",
              "      <td>1.9</td>\n",
              "      <td>0.076</td>\n",
              "      <td>11.0</td>\n",
              "      <td>34.0</td>\n",
              "      <td>0.9978</td>\n",
              "      <td>3.51</td>\n",
              "      <td>0.56</td>\n",
              "      <td>9.4</td>\n",
              "      <td>5</td>\n",
              "    </tr>\n",
              "  </tbody>\n",
              "</table>\n",
              "</div>\n",
              "    <div class=\"colab-df-buttons\">\n",
              "\n",
              "  <div class=\"colab-df-container\">\n",
              "    <button class=\"colab-df-convert\" onclick=\"convertToInteractive('df-13d1723f-6ba1-466e-b364-987e37113339')\"\n",
              "            title=\"Convert this dataframe to an interactive table.\"\n",
              "            style=\"display:none;\">\n",
              "\n",
              "  <svg xmlns=\"http://www.w3.org/2000/svg\" height=\"24px\" viewBox=\"0 -960 960 960\">\n",
              "    <path d=\"M120-120v-720h720v720H120Zm60-500h600v-160H180v160Zm220 220h160v-160H400v160Zm0 220h160v-160H400v160ZM180-400h160v-160H180v160Zm440 0h160v-160H620v160ZM180-180h160v-160H180v160Zm440 0h160v-160H620v160Z\"/>\n",
              "  </svg>\n",
              "    </button>\n",
              "\n",
              "  <style>\n",
              "    .colab-df-container {\n",
              "      display:flex;\n",
              "      gap: 12px;\n",
              "    }\n",
              "\n",
              "    .colab-df-convert {\n",
              "      background-color: #E8F0FE;\n",
              "      border: none;\n",
              "      border-radius: 50%;\n",
              "      cursor: pointer;\n",
              "      display: none;\n",
              "      fill: #1967D2;\n",
              "      height: 32px;\n",
              "      padding: 0 0 0 0;\n",
              "      width: 32px;\n",
              "    }\n",
              "\n",
              "    .colab-df-convert:hover {\n",
              "      background-color: #E2EBFA;\n",
              "      box-shadow: 0px 1px 2px rgba(60, 64, 67, 0.3), 0px 1px 3px 1px rgba(60, 64, 67, 0.15);\n",
              "      fill: #174EA6;\n",
              "    }\n",
              "\n",
              "    .colab-df-buttons div {\n",
              "      margin-bottom: 4px;\n",
              "    }\n",
              "\n",
              "    [theme=dark] .colab-df-convert {\n",
              "      background-color: #3B4455;\n",
              "      fill: #D2E3FC;\n",
              "    }\n",
              "\n",
              "    [theme=dark] .colab-df-convert:hover {\n",
              "      background-color: #434B5C;\n",
              "      box-shadow: 0px 1px 3px 1px rgba(0, 0, 0, 0.15);\n",
              "      filter: drop-shadow(0px 1px 2px rgba(0, 0, 0, 0.3));\n",
              "      fill: #FFFFFF;\n",
              "    }\n",
              "  </style>\n",
              "\n",
              "    <script>\n",
              "      const buttonEl =\n",
              "        document.querySelector('#df-13d1723f-6ba1-466e-b364-987e37113339 button.colab-df-convert');\n",
              "      buttonEl.style.display =\n",
              "        google.colab.kernel.accessAllowed ? 'block' : 'none';\n",
              "\n",
              "      async function convertToInteractive(key) {\n",
              "        const element = document.querySelector('#df-13d1723f-6ba1-466e-b364-987e37113339');\n",
              "        const dataTable =\n",
              "          await google.colab.kernel.invokeFunction('convertToInteractive',\n",
              "                                                    [key], {});\n",
              "        if (!dataTable) return;\n",
              "\n",
              "        const docLinkHtml = 'Like what you see? Visit the ' +\n",
              "          '<a target=\"_blank\" href=https://colab.research.google.com/notebooks/data_table.ipynb>data table notebook</a>'\n",
              "          + ' to learn more about interactive tables.';\n",
              "        element.innerHTML = '';\n",
              "        dataTable['output_type'] = 'display_data';\n",
              "        await google.colab.output.renderOutput(dataTable, element);\n",
              "        const docLink = document.createElement('div');\n",
              "        docLink.innerHTML = docLinkHtml;\n",
              "        element.appendChild(docLink);\n",
              "      }\n",
              "    </script>\n",
              "  </div>\n",
              "\n",
              "\n",
              "<div id=\"df-a72238f9-9a04-4c07-9f55-28fbdfd9f41a\">\n",
              "  <button class=\"colab-df-quickchart\" onclick=\"quickchart('df-a72238f9-9a04-4c07-9f55-28fbdfd9f41a')\"\n",
              "            title=\"Suggest charts\"\n",
              "            style=\"display:none;\">\n",
              "\n",
              "<svg xmlns=\"http://www.w3.org/2000/svg\" height=\"24px\"viewBox=\"0 0 24 24\"\n",
              "     width=\"24px\">\n",
              "    <g>\n",
              "        <path d=\"M19 3H5c-1.1 0-2 .9-2 2v14c0 1.1.9 2 2 2h14c1.1 0 2-.9 2-2V5c0-1.1-.9-2-2-2zM9 17H7v-7h2v7zm4 0h-2V7h2v10zm4 0h-2v-4h2v4z\"/>\n",
              "    </g>\n",
              "</svg>\n",
              "  </button>\n",
              "\n",
              "<style>\n",
              "  .colab-df-quickchart {\n",
              "      --bg-color: #E8F0FE;\n",
              "      --fill-color: #1967D2;\n",
              "      --hover-bg-color: #E2EBFA;\n",
              "      --hover-fill-color: #174EA6;\n",
              "      --disabled-fill-color: #AAA;\n",
              "      --disabled-bg-color: #DDD;\n",
              "  }\n",
              "\n",
              "  [theme=dark] .colab-df-quickchart {\n",
              "      --bg-color: #3B4455;\n",
              "      --fill-color: #D2E3FC;\n",
              "      --hover-bg-color: #434B5C;\n",
              "      --hover-fill-color: #FFFFFF;\n",
              "      --disabled-bg-color: #3B4455;\n",
              "      --disabled-fill-color: #666;\n",
              "  }\n",
              "\n",
              "  .colab-df-quickchart {\n",
              "    background-color: var(--bg-color);\n",
              "    border: none;\n",
              "    border-radius: 50%;\n",
              "    cursor: pointer;\n",
              "    display: none;\n",
              "    fill: var(--fill-color);\n",
              "    height: 32px;\n",
              "    padding: 0;\n",
              "    width: 32px;\n",
              "  }\n",
              "\n",
              "  .colab-df-quickchart:hover {\n",
              "    background-color: var(--hover-bg-color);\n",
              "    box-shadow: 0 1px 2px rgba(60, 64, 67, 0.3), 0 1px 3px 1px rgba(60, 64, 67, 0.15);\n",
              "    fill: var(--button-hover-fill-color);\n",
              "  }\n",
              "\n",
              "  .colab-df-quickchart-complete:disabled,\n",
              "  .colab-df-quickchart-complete:disabled:hover {\n",
              "    background-color: var(--disabled-bg-color);\n",
              "    fill: var(--disabled-fill-color);\n",
              "    box-shadow: none;\n",
              "  }\n",
              "\n",
              "  .colab-df-spinner {\n",
              "    border: 2px solid var(--fill-color);\n",
              "    border-color: transparent;\n",
              "    border-bottom-color: var(--fill-color);\n",
              "    animation:\n",
              "      spin 1s steps(1) infinite;\n",
              "  }\n",
              "\n",
              "  @keyframes spin {\n",
              "    0% {\n",
              "      border-color: transparent;\n",
              "      border-bottom-color: var(--fill-color);\n",
              "      border-left-color: var(--fill-color);\n",
              "    }\n",
              "    20% {\n",
              "      border-color: transparent;\n",
              "      border-left-color: var(--fill-color);\n",
              "      border-top-color: var(--fill-color);\n",
              "    }\n",
              "    30% {\n",
              "      border-color: transparent;\n",
              "      border-left-color: var(--fill-color);\n",
              "      border-top-color: var(--fill-color);\n",
              "      border-right-color: var(--fill-color);\n",
              "    }\n",
              "    40% {\n",
              "      border-color: transparent;\n",
              "      border-right-color: var(--fill-color);\n",
              "      border-top-color: var(--fill-color);\n",
              "    }\n",
              "    60% {\n",
              "      border-color: transparent;\n",
              "      border-right-color: var(--fill-color);\n",
              "    }\n",
              "    80% {\n",
              "      border-color: transparent;\n",
              "      border-right-color: var(--fill-color);\n",
              "      border-bottom-color: var(--fill-color);\n",
              "    }\n",
              "    90% {\n",
              "      border-color: transparent;\n",
              "      border-bottom-color: var(--fill-color);\n",
              "    }\n",
              "  }\n",
              "</style>\n",
              "\n",
              "  <script>\n",
              "    async function quickchart(key) {\n",
              "      const quickchartButtonEl =\n",
              "        document.querySelector('#' + key + ' button');\n",
              "      quickchartButtonEl.disabled = true;  // To prevent multiple clicks.\n",
              "      quickchartButtonEl.classList.add('colab-df-spinner');\n",
              "      try {\n",
              "        const charts = await google.colab.kernel.invokeFunction(\n",
              "            'suggestCharts', [key], {});\n",
              "      } catch (error) {\n",
              "        console.error('Error during call to suggestCharts:', error);\n",
              "      }\n",
              "      quickchartButtonEl.classList.remove('colab-df-spinner');\n",
              "      quickchartButtonEl.classList.add('colab-df-quickchart-complete');\n",
              "    }\n",
              "    (() => {\n",
              "      let quickchartButtonEl =\n",
              "        document.querySelector('#df-a72238f9-9a04-4c07-9f55-28fbdfd9f41a button');\n",
              "      quickchartButtonEl.style.display =\n",
              "        google.colab.kernel.accessAllowed ? 'block' : 'none';\n",
              "    })();\n",
              "  </script>\n",
              "</div>\n",
              "\n",
              "    </div>\n",
              "  </div>\n"
            ],
            "application/vnd.google.colaboratory.intrinsic+json": {
              "type": "dataframe",
              "variable_name": "red_wine",
              "summary": "{\n  \"name\": \"red_wine\",\n  \"rows\": 1599,\n  \"fields\": [\n    {\n      \"column\": \"fixed acidity\",\n      \"properties\": {\n        \"dtype\": \"number\",\n        \"std\": 1.7410963181276953,\n        \"min\": 4.6,\n        \"max\": 15.9,\n        \"num_unique_values\": 96,\n        \"samples\": [\n          5.3,\n          12.7,\n          12.6\n        ],\n        \"semantic_type\": \"\",\n        \"description\": \"\"\n      }\n    },\n    {\n      \"column\": \"volatile acidity\",\n      \"properties\": {\n        \"dtype\": \"number\",\n        \"std\": 0.17905970415353537,\n        \"min\": 0.12,\n        \"max\": 1.58,\n        \"num_unique_values\": 143,\n        \"samples\": [\n          1.025,\n          0.4,\n          0.87\n        ],\n        \"semantic_type\": \"\",\n        \"description\": \"\"\n      }\n    },\n    {\n      \"column\": \"citric acid\",\n      \"properties\": {\n        \"dtype\": \"number\",\n        \"std\": 0.19480113740531857,\n        \"min\": 0.0,\n        \"max\": 1.0,\n        \"num_unique_values\": 80,\n        \"samples\": [\n          0.37,\n          0.0,\n          0.09\n        ],\n        \"semantic_type\": \"\",\n        \"description\": \"\"\n      }\n    },\n    {\n      \"column\": \"residual sugar\",\n      \"properties\": {\n        \"dtype\": \"number\",\n        \"std\": 1.4099280595072798,\n        \"min\": 0.9,\n        \"max\": 15.5,\n        \"num_unique_values\": 91,\n        \"samples\": [\n          11.0,\n          3.0,\n          15.5\n        ],\n        \"semantic_type\": \"\",\n        \"description\": \"\"\n      }\n    },\n    {\n      \"column\": \"chlorides\",\n      \"properties\": {\n        \"dtype\": \"number\",\n        \"std\": 0.0470653020100901,\n        \"min\": 0.012,\n        \"max\": 0.611,\n        \"num_unique_values\": 153,\n        \"samples\": [\n          0.096,\n          0.3429999999999999,\n          0.159\n        ],\n        \"semantic_type\": \"\",\n        \"description\": \"\"\n      }\n    },\n    {\n      \"column\": \"free sulfur dioxide\",\n      \"properties\": {\n        \"dtype\": \"number\",\n        \"std\": 10.460156969809725,\n        \"min\": 1.0,\n        \"max\": 72.0,\n        \"num_unique_values\": 60,\n        \"samples\": [\n          11.0,\n          9.0,\n          32.0\n        ],\n        \"semantic_type\": \"\",\n        \"description\": \"\"\n      }\n    },\n    {\n      \"column\": \"total sulfur dioxide\",\n      \"properties\": {\n        \"dtype\": \"number\",\n        \"std\": 32.895324478299074,\n        \"min\": 6.0,\n        \"max\": 289.0,\n        \"num_unique_values\": 144,\n        \"samples\": [\n          68.0,\n          35.0,\n          101.0\n        ],\n        \"semantic_type\": \"\",\n        \"description\": \"\"\n      }\n    },\n    {\n      \"column\": \"density\",\n      \"properties\": {\n        \"dtype\": \"number\",\n        \"std\": 0.0018873339538425554,\n        \"min\": 0.99007,\n        \"max\": 1.00369,\n        \"num_unique_values\": 436,\n        \"samples\": [\n          0.99974,\n          1.0001,\n          0.99471\n        ],\n        \"semantic_type\": \"\",\n        \"description\": \"\"\n      }\n    },\n    {\n      \"column\": \"pH\",\n      \"properties\": {\n        \"dtype\": \"number\",\n        \"std\": 0.15438646490354277,\n        \"min\": 2.74,\n        \"max\": 4.01,\n        \"num_unique_values\": 89,\n        \"samples\": [\n          3.07,\n          3.0,\n          3.15\n        ],\n        \"semantic_type\": \"\",\n        \"description\": \"\"\n      }\n    },\n    {\n      \"column\": \"sulphates\",\n      \"properties\": {\n        \"dtype\": \"number\",\n        \"std\": 0.16950697959010996,\n        \"min\": 0.33,\n        \"max\": 2.0,\n        \"num_unique_values\": 96,\n        \"samples\": [\n          1.07,\n          1.04,\n          1.18\n        ],\n        \"semantic_type\": \"\",\n        \"description\": \"\"\n      }\n    },\n    {\n      \"column\": \"alcohol\",\n      \"properties\": {\n        \"dtype\": \"number\",\n        \"std\": 1.0656675818473946,\n        \"min\": 8.4,\n        \"max\": 14.9,\n        \"num_unique_values\": 65,\n        \"samples\": [\n          8.5,\n          9.95,\n          9.4\n        ],\n        \"semantic_type\": \"\",\n        \"description\": \"\"\n      }\n    },\n    {\n      \"column\": \"quality\",\n      \"properties\": {\n        \"dtype\": \"number\",\n        \"std\": 0,\n        \"min\": 3,\n        \"max\": 8,\n        \"num_unique_values\": 6,\n        \"samples\": [\n          5,\n          6,\n          3\n        ],\n        \"semantic_type\": \"\",\n        \"description\": \"\"\n      }\n    }\n  ]\n}"
            }
          },
          "metadata": {},
          "execution_count": 7
        }
      ]
    },
    {
      "source": [
        "# @title fixed acidity\n",
        "\n",
        "from matplotlib import pyplot as plt\n",
        "red_wine['fixed acidity'].plot(kind='hist', bins=20, title='fixed acidity')\n",
        "plt.gca().spines[['top', 'right',]].set_visible(False)"
      ],
      "cell_type": "code",
      "execution_count": 13,
      "outputs": [
        {
          "output_type": "execute_result",
          "data": {
            "text/plain": [
              "<Axes: title={'center': 'fixed acidity'}, ylabel='Frequency'>"
            ]
          },
          "metadata": {},
          "execution_count": 13
        },
        {
          "output_type": "display_data",
          "data": {
            "text/plain": [
              "<Figure size 640x480 with 1 Axes>"
            ],
            "image/png": "[encoded data removed]"
          },
          "metadata": {}
        }
      ],
      "metadata": {
        "cellView": "form",
        "id": "QS-nCZX1fTPf",
        "outputId": "ebd67f91-8ca6-4fe1-80ca-e44ef6b07739",
        "colab": {
          "base_uri": "https://localhost:8080/",
          "height": 469
        }
      }
    },
    {
      "cell_type": "code",
      "source": [
        "# 3.1\n",
        "red_wine.shape   # (1599, 12)\n",
        "red_wine.dtypes"
      ],
      "metadata": {
        "colab": {
          "base_uri": "https://localhost:8080/"
        },
        "id": "bb9z8Q_8JZRl",
        "outputId": "759b58e4-10da-47d8-d476-a70e74807506"
      },
      "execution_count": 8,
      "outputs": [
        {
          "output_type": "execute_result",
          "data": {
            "text/plain": [
              "(1599, 12)"
            ]
          },
          "metadata": {},
          "execution_count": 8
        },
        {
          "output_type": "execute_result",
          "data": {
            "text/plain": [
              "fixed acidity           float64\n",
              "volatile acidity        float64\n",
              "citric acid             float64\n",
              "residual sugar          float64\n",
              "chlorides               float64\n",
              "free sulfur dioxide     float64\n",
              "total sulfur dioxide    float64\n",
              "density                 float64\n",
              "pH                      float64\n",
              "sulphates               float64\n",
              "alcohol                 float64\n",
              "quality                   int64\n",
              "dtype: object"
            ]
          },
          "metadata": {},
          "execution_count": 8
        }
      ]
    },
    {
      "cell_type": "code",
      "source": [
        "# 3.2 Get target and predictors:\n",
        "y = red_wine.pop(\"quality\")\n",
        "X = red_wine"
      ],
      "metadata": {
        "id": "dbBF3xBGSdUe"
      },
      "execution_count": 9,
      "outputs": []
    },
    {
      "cell_type": "code",
      "source": [
        "# 4.0 Build model:\n",
        "\n",
        "model = tf.keras.Sequential()"
      ],
      "metadata": {
        "id": "5GLTfq28Jhy8"
      },
      "execution_count": 23,
      "outputs": []
    },
    {
      "cell_type": "code",
      "source": [
        "# 4.1 # to above model add\n",
        "model.add(layers.Input( shape = (11,) ) )"
      ],
      "metadata": {
        "id": "gkcpIJhTKNjq"
      },
      "execution_count": 24,
      "outputs": []
    },
    {
      "cell_type": "code",
      "source": [
        "# 4.2 # one neuron is added (1) and bias is automatically and then compile the model\n",
        "# experiment with activation function as linear and sigmoid and see the difference in mae and sigmoid will give more error due to the large predicted - observed\n",
        "model.add(layers.Dense(1, activation= \"sigmoid\"))"
      ],
      "metadata": {
        "id": "6e2ANk0kMjFa"
      },
      "execution_count": 26,
      "outputs": []
    },
    {
      "cell_type": "markdown",
      "source": [
        "![image.png](data:image/png;base64,iVBORw0KGgoAAAANSUhEUgAAAS8AAAE9CAYAAABawORIAAAgAElEQVR4Xu2dCbxV4/rHH0WopJAU5ZYGReNp1HSLkszEpUIkpUGXXN1u5Jah2+VmiMhQKkkURaYmmjSPmuekQaFBE139//v7uiun0zln77X3Gt5Vz/P57E+Hs4Z3/d61f+eZn5P+LyaioggoAopAhBB4//335SQlrwjtmC5VEVAEDAJKXvoiKAKKQCQRUPKK5LbpohUBRUDJS98BRUARiCQCSl6R3DZdtCKgCCh56TugCCgCkURAySuS26aLVgQUASUvfQcUAUUgkggoeUVy23TRioAioOSl74AioAhEEgElr0humy5aEVAElLz0HVAEFIFIIqDkFclt00UrAoqAkpe+A4qAIhBJBJS8IrltumhFQBFQ8tJ3QBFQBCKJgJJXJLdNF60IKAJKXvoOKAKKQCQRUPKK5LbpohUBRUDJS98BRUARiCQCSl6R3DZdtCKgCCh56TugCCgCkURAySuS26aLVgQUASUvfQcUAUUgkggoeUVy23TRioAiEDnyYrj33r17Zffu3bJv3z7Zv3+//PLLL/Lbb7/Jf//7X8mZM6fkyJFDcuXKJblz55bTTz9dzjzzTPPhdyqKgCJwfCAQGfLas2ePfP/997J9+3ZDUqeccoqcccYZhpxOO+00Q0wnn3yyIbHDhw8bQjtw4MARgjvppJOkQIECUqhQITnnnHMMwakoAopAdBGwnrx++OEH+fbbb+Xnn3+WPHnyGPI566yzzM+Jyq+//io7d+6UHTt2yE8//WRI7oILLpDzzz9ftbFEQdTjFAHLELCWvDANV69eLWhcaEpFixaVfPnypQwfRLZ582bzQfu66KKLDCGqKAKKQLQQsI688Glt3LjRaFuQVcmSJSVv3ryeo4rpuWHDBtmyZYvkz59fLr74YuMnU1EEFIFoIGAVeR06dEiWLVtmtC00oiJFiviOIubo8uXLja+sbNmyhshUFAFFwH4ErCGvgwcPyuLFiw1il1xyiSufVqowQ1wrV64U/GsQWMGCBVO9pJ6vCCgCPiNgBXlBXAsWLDBmW/ny5UMz39auXSvfffedMSHVD+bzm6eXVwRSRCB08sJUhLhIdahYsaKJBIYp69atMwR26aWXmqimiiKgCNiJQKjkhXMeU5GcrEqVKoWmcWXcGkxI0irS0tJMHpmKIqAI2IdAqORFtG/Tpk1SpUqVQH1c8bYBUkUb5N/KlStrQms8wPT3ikAICIRGXuRxzZ8/36RCBBFVdIstfri5c+ea/LILL7zQ7el6vCKgCPiMQGjkhWaDoNnYKvi+1q9fL1WrVlXz0dZN0nWdsAiEQl6kJCxdutT4lPxIQPVqNzEb0b6ooSQCqaIIKAL2IBAKeTlpEeRz2S4Ug+PAr1atmmpftm+Wru+EQiBw8iJ7HvLCSY9GY7ugfc2ePdvUV5L1r6IIKAJ2IBA4ea1atcqU/+BH8lOmTZsmPXv2NMRDixzIsnv37tK4cWPXt6XWkhrImjVrCq11VBQBRSB8BAIlL7SYGTNmmAgeH7/kiy++kKuvvtrUK6YXiGfEiBFyyy23uLo1fcEgwQoVKpieYCqKgCIQPgKBkhdF0KRHoHW56cflBiZa3pQuXdp0pnjooYekW7duJmv/pZdekscee8yYf0QQ3QYKIC9qHosXL+5mOXqsIqAI+IRAoORF6gGtbi677DKfHkfk008/NVpXvXr1ZPLkyUfd5+abb5YPPvhA3n77bWnRooWrNdBbjNw0m1M7XD2QHqwIRByBQMlrxYoVQi0jxdeJCv4qyAhT8OOPPzY/O0JLaHxZlBeh0WGK/v3vf5c+ffrIgAED5L777jvqNh9++KHcdNNN0qZNG3nttdcSXYI5buvWrULhdp06dVydpwcrAoqAPwgESl5EGYkwklXvRmjdDEnh6J83b54x3fBn4Xz/6quv5LPPPjviiG/WrJmMGjVKpk+ffoyGB/lw7wYNGsikSZPcLMEM/Fi4cKFx2p966qmuztWDFQFFwHsEAiWvmTNnmt7xfNwKyaJoPeSGff311yaS2Lt3b+nVq5fxZTkCoY0fP940GMyYWEofezpFQISQoBtBu2P9mI1etKN2c289VhFQBI5FIFDyIn2BXKnChQsntReYgu3atZO6desK12rSpIl88sknR6UvNGrUSCZMmJApeaHBnX322UmRF22j0eY04pjU1ulJioDnCARKXlOmTDHa0Lnnnpv0g5DmMHLkSDP5h3Y6GXtu+WU2kubB+tH8iFiqKAKKQLgIBEpeU6dOlVKlSsl5552X1FNTqoPJR8IosxoxHzNG//xy2ONjQ9sj2KBNCpPaPj1JEfAUgUDJC7KhvQxak1uBPDAJSX8gZ6tr164m7wrfVfqhGYmkSgwdOlRatmzpagnkj5FgS9NEpm+rKAKKQLgIBEpeON3xOSWT6Emy6b/+9S958sknTZkPEUVMxGuvvVbGjBlzxO8FyaDdkU/mJKkyXbtfv34pJamS4wVRUqCdO3fucHdN764IKAISKHnRBocSnXLlyrmCnvyu66+/Xq666ioZO3bsEaLq0qWL9O3b10QdMRcd+fzzz+Waa67JtDzo3XfflVtvvdXV/TmYttBEMAkWaH2ja/j0BEXAcwQCJS/KcujlhfaSqHAOfi5MNRJR0/ubiAA2bNjQ+L5IjyB/yxH8U//85z+PKsx+9NFHkyrM5pq0rIbA3Kw90WfU4xQBRcA9AoGSF6kK33zzjdSqVcuaYRuJQkaCKuYidZMqioAiED4CgZIXTndypcqUKROpuYjOulNN8wh/u3UFisDxg0Cg5AVsaF74jJiLGBXZtm2b0IcMjRHnv4oioAiEj0Dg5EUxNQXa1AgyITsKsmjRIkNabgMNUXg2XaMiEFUEAicvukRQI0iJUDIpE0ED7fQg0+TUoJHX+ykC2SMQOHmxHHKwGDZbo0YN0yjQZiG9g6JsIp4qioAiYA8CoZAXDvBZs2aZGke37XGChG7Xrl2CyahaV5Co670UgcQQCIW8WJozUozaRBunCGHeklF/+umnRyq4kNi261GKQPQRCI28gI6uEAcPHjTDZ3PmzGkVmmvWrBGijPTbpwhcRRFQBOxCIFTyog6RekcKq22K5BERResqUaKEyUlTUQQUAfsQCJW8gAO/EhoYnSZsGOrKeshFo5CbrHpaTNuwLvteHV2RIhAuAqGTF49PzeCyZcvMAA20nbAE4lqyZInpfMF8RjpWUFtJ14ratWuHtSy9ryKgCGSCgBXkxbocB36hQoVM/WDQnRswFVeuXGm6pFIGxP337dsnt912m2krPWTIENfDavWNUwQUAf8QsIa8eEQKt9HAKIDGBxaEo5yo4rp162Tz5s1mMEhGE5G0jk6dOplRaS+88IJ06NDBv93QKysCikDCCFhFXqya6CMEhtaDGUnnVb+0MMxEoorcE20vu976ENeDDz5oiOy5556THDlyJAxyWAfO2fCTvDBhtSzctEtiLfjlkvPzSaeGJaVuqYJhLUnvqwh4hoB15MWToQ2RgU8mPtoXBEbLZ69IjJIfrk1vMfxbJMomouXRPvree++V6667Tvg5kXM82ymXF5qyaofc/dYc+e1wjLXSScwalpeaV5Gryyc3wcnlMvRwRcA3BKwkL+dpDxw4IBs3bhT8UQx6ZXAH2hGJo24F84/AAL41NC4SYyFFyMuNMKyWqduUC33wwQdH9c93cx0/jz3022H587NfyeadB+TeuiWk/Z8vkpNznCSDZ2yU/4xbKWflySVTuzaQPLnsLs3yEyO9dvQRsJq80pMYE4MgMXLDIC+igXnz5jX+MTQgklypk4Sk+HAc5If5CVkxbRvNDbKCBFOZAEREsmnTpoYASaUoVqyYVW/Clyu3y92D5kj14mfJe21rHbW2dm/Pk8+XbJPn/1JJbqjsfhCKVQ+qizmhEYgEeTk7xOxEiMj5QEwQVVYCWUF0tJAmERbC8qoQHDK9+uqrjSbH4NuMI9iSfat27v9V0p6YECOWItL31kpHLjNq3nfS5f1FcnbeXDK3e6MYEf/+q217DkrNpydK8xrF5Okby5v/1+ezFfLK5LXy9E3lpXn1o4n1i6XbpO3QeXJ77P/3jv1eRRGIKgKRIq/MQKbjAx9IjJ72aGB86L8FcXnlJ8vs3vjOGIJLd9j33nvPDAjxQq7tN0227j4oc7pfcYSkOr+7QD5etFUOxwj80wfqSrki+cyt3p+7Sf42crG80jJNrrr093mY98e0q89i2tWo+y+TtAsLHLWkjT/ul/rPfCm1Ljpbhrep6cVy9RqKQCgIRJ68QkEt3U0xT1u3bi1MJerfv7+0adMm5SX9+4uV0v/LNfJZ57pStnA+Eyms+tR4qV+6oHy0aIs83LiMtKt/kblPp+EL5JPFW2VBj0Zy5um/d3m9481ZMnX1DzKxS325qGDeo9az+8AhqdhznFx6/pkytlOdlNeqF1AEwkJAycsD5DFne/bsKb169ZIePXqYqUWpyIy1P8rtr8+Ubk3LStt6JWTplj1y9YtT5bU70uSNaevllJw5ZNi9NQyppT05XoqelVvGdPijAqDlG7Nk2prMyWvX/kNSqZeSVyr7o+fagYCSl4f7MHDgQGnbtq2Zxk1Sa7L97okWoh1VLlbAkNSrMf/VszFtbOHjjWXQ9A3Sb9JqWRz7ec32vXJNzMTsGMvdQhtzRM1GDzdVL2UtAkpeHm/NuHHjzCRvevSPHDlS8uX73TflVloNmi1fxzQwSKr14Lny638Py/vtasmiWMLp9S9PlyH3VDcaWZ/PV5iIIpFFR9Rh7xZtPT6KCCh5+bBrc+bMMUXd1Gl++umnpmOGWxkYMw97jV0mA2KmIn6tjg1KygOXlzIO+ypPjJdmaUVj5LXbkNnix6+Uk3P+L/wYu1EiqRLPxVIlbtRUCbfbosdbhICSl0+bQTcKoo9EQiGwsmXLurrT6phJ2KjvZClT6AxZ+f3PMjrm06pUNL+5Rvth82X51j2yedcBqVPyHBnY6ugJ5Jid9Z/5SrbEfu8kqeIne+vrDZqk6moX9GCbEVDy8nF3KDS/4YYbTJud0aNHS7169Vzdjfwt8riIIhJNzPG/5K7hs7+Vbh98Y67V49pyck/t4sdcd3KsPOieLMqD+t1eRa6poOVBrjZDD7YOASUvn7cEzeuuu+4y5PXWW2+ZFjuJysOxpNSRseTUprE6xP4t/pheRNlP7T6TzGXGP1RfSp17dDqEc30Ks58/Upj9fyY9QguzE0Vfj7MdASWvAHaIVIquXbvKs88+60kqRQBL1lsoAtYjoOQV4BbRVuehhx6Sjh07RqatToDw6K0UAVcIKHm5giv1g+lEQR7YlVdeKe+8805SHTJSX4VeQRGIPgJKXiHs4YwZM0xPMLq2fvzxx6ZXmYoioAi4Q0DJyx1enh1NB1dSKfCH0VanVKlSnl1bL6QInAgIKHmFuMsMtb3mmmtkw4YN8tFHH8lll10W4mr01opAtBBQ8gp5v+hJ9pe//EW++uorGT58uMnMV1EEFIH4CCh5xcfI9yPoRUYE8vXXX5cXX3xR2rdv7/s99QaKQNQRUPKyaAf79Okj3bp1i9SEIovg06WcYAgoeVm24Qy3ZUIRZUX8bPOEIsug0+WcYAgoeVm44RMnTpSbb75Z0tLSzIQievCrKAKKwNEIKHlZ+kZ88803ZsAH/cDoSmHbhCJLYdNlnUAIKHlZvNlMKGLEGiPfILBKlf6YJmTxsnVpikAgCCh5BQJz8jdhzNuNN94oc+fOFTarSZMmyV9Mz1QEjiMEIkdeZKTv3btXdu/ebQbK7t+//5jRZzly5JBcuXKZgbTO3Eb8RoxEi6Iwoejuu+82baXffPNNUxupogic6AhEhryYeM2AV0wo5jMy3IKJ1ZBTxonZhw8fNoTmTMyG4JjfyJRtWjOfc845AsFFSbyeUBSlZ9e1KgKZIWA9ef3www/y7bffCgNe8+TJY8iHydf8nKiguezcuVN27NghdDdlavYFF1xgestHTRt744035P7775c777xTXn311aQnFCWKnR6nCNiKgLXkhWm4evVqQeNCUypatGjSk3jSgw+Rbd682XzQvujsACFGScaMGSPNmzeXOnXqGFMSDVRFETjRELCOvDCPNm7caLQt0gRKliwpefNm3uY4lc3C9KQgmohe/vz55eKLLzZ+sqjI7NmzTR3khRdeaNrqRI2Ao4KzrtNeBKwir0OHDsmyZcuMtoVGVKRIEd+Rwxxdvny5UF/IhB+ILCqybt06k0qBNkkqBQSsogicKAhYQ14HDx6UxYsXG9wvueQSVz6tVDcL4lq5cqXgX4PAotQcEB/e9ddfb0ifIR9169ZNFQ49XxGIBAJWkBfEtWDBAmO2lS9fPjTzbe3atfLdd98ZDSZKZhj4MaEIX9jgwYNNix0VReB4RyB08sJUhLiI+lWsWNFEAsMUTDEI7NJLLzVRzagI2mPnzp2lf//+8q9//UseeeSRqCxd16kIJIVAqOSFcx5TkZwsSl9scZhjQpJWQWE0eWRREp1QFKXd0rWmgkCo5EW0b9OmTVKlSpVAfVzxAINU0Qb5t3LlypFLaB01apTJwqdH/rBhwyJHwPH2R3+vCIBAaORFHtf8+fNNKkQQUUW3240fiXpC8stIR4iafP3118aRD770x49SECJqWOt6w0EgNPJCs0HQbGwVfF/r16+XqlWrRlJ7IQJJKgWlVEwogshUFIHjBYFQyIuUhKVLlxqfkh8JqF5tDmYj2hcZ7FHNodq6dauZUEQy7tixYw3mKorA8YBAKOTlpEWQz2W7UAyOA79atWqR1L7AFxOd9InJkyfLu+++a8hMRRGIOgKBkxfZ85AXTvoo1OShfVGKQ30lWf9RFcqhOnToYFrqvPTSS9KuXbuoPoquWxEwCAROXqtWrTLlP/iR/BJqI6n348M8RMpn8Pkk28iP62F21axZ07TWibKkn1D0/PPPR/55orwXuvbUEAiUvNBiZsyYYSJ4fPyS8847z/T+Si+pkBd9wdC+KlSoYHqCRV3eeustue++++T2228XWuzg0FdRBKKGQKDkRRE06RFoXW76cbkFFQ2Je9B1gZwnhrmmQl7cH/Ii3aB48eJul2Pl8RMmTDATivDlgZFOKLJym3RR2SAQKHmRekCrm8suuyywTWES9csvv5wyedFbDMe3zakdbkFlQhGpFHTSoCuFn9qw27Xp8YpAPAQCJa8VK1YItYwUXycqtHRmBNgXX3xhfFj87AgtoXH8U16ERpfZl88r8iLlgMJtGgBGQTbvPCATln8f+2yXmet+lEO/HZbB91SX+qULHrV8mjJCYKSvfPLJJzqhKAqbq2s0CARKXkQZiTC6TZak7QskhaN/3rx5xnSjELlx48bGIY9JyM+ZiVfkxcCPhQsXGqf9qaeeav3rU/XJCfLD3l+OWmdm5MUBtMhmQhF/AHghrrzySuufTxeoCARKXjNnzjS94/m4FZJF0XrIDaP0pWfPntK7d2/p1auXPPbYY1lezivyQrtj/ZiNdHi1XW54ebpUuOBMuaJsIflsyTYZPvvbTDUv5zl4PiYU4f8aOHCgtGjRwvZH1PWd4AgESl7Tpk0zuVKFCxdOCvYBAwaY/CQa7nEtUh8wdbJLX/CKvMiTmj49RggRjDj2GLNEhszYmC15sSE6oSip11JPCgmBQMlrypQppszm3HPPTfpxb7nlFjN0gsk/tNOJ13PLK/Lii8360fxIWPVLdu7/VdKemCA3VC4ifW/9Y0L2qHnfSZf3F8nZeXPJ3O6NYoT9+wq27TkoNZ+eKM1rFJOnb8zcl5goeTnP1K9fP3nwwQelVatWZkJR2D3W/MJarxttBAIlr6lTp0qpUqWEPKxkhNwtfF8kjDKrEfMxXvTPK/LCx4a2R7AhHmEm82zpz7m23zTZuvugzOl+xRGS6vzuAvl40VY5HCPRTx+oK+WK/G66vj93k/xt5GJ5pWWaXHVp5ri6JS+uS0tpTEe0XF6SKFRDpIq7nh8tBAIlL8iG9jJoTW4F8mjUqJGpz6O8pWvXribvCgd+dkMzvCIvsvRJsKVpot85Uf/+YqX0/3KNfNa5rpQtnC9mzolUfWq8iRR+tGiLPNy4jLSr/3upUqfhC+STxVtlQY9GcubpmSebJkNeXHvWrFkmV+5Pf/qTKepORWN2u996vCIQD4FAyQun+9lnn51Uome3bt1Me+Mnn3xSunfvbhzLzZo1M18uerdn5ffyirzI8YIoSerMnTt3PFxT+v2MtT/K7a/PlG5Ny0rbeiVk6ZY9cvWLU+W1O9LkjWnr5ZScOWTYvTUMqaU9OV6KnpVbxnSoneU9kyUvLkh6CKkUpLgQ1S1TpkxKz6YnKwJeIRAoedEGB5IpV66cq/WT30VjPTqDogE4RNWlSxfp27eviTr+/e9/P3JNuojSQTQr4aEhPjdCW2hGpGFG+V3fSE5WxZ7jpHKxAoakXp28Vp6NaWMLH28sg6ZvkH6TVsvi2M9rtu+Va2ImZseGJY02lpWkQl5c88cffzT48/z8oYhKrpub/dVjo4dAoORFYz+SIdFeEhXOwc+FqUYeUnp/ExHAhg0bGt/X+PHjpUGDBuayfpAXLashMDdrT/QZMzuu1aDZ8nVMA4OkWg+eK7/+97C8366WLNq0S66PpUEMiSWcopH1+XyFvNe2llQvnvWwkFTJi/Xt379fbrvtNhk3bpwMGTJEbr311lQeT89VBFJGIFDyItmUkpRatWpZM2wjUQRJsEXrw4ldokSJRE9L+riBMfOw19hlMiBmKuLX6tigpDxweSnjsK/yxHhpllY0Rl67DZktfvxKOTln1t0uvCAvHgS/4wMPPCCkrNCRApNcRREIC4FAyYuXn1wp/CZRmovIuj/44ANp3bq1UFzOYFrKlPAFYUL50ZVhdcwkbNR3spQpdIas/P5nGR3zaVUq+vs07/bD5svyrXtk864DUqfkOTKwVfaarFfk5bykiU4o2rdvn68F+GF9afS+diAQKHnxyGhe+IyYixgV2bZtm9CHrHr16qYtNBoYXRlw4NMdA3OVwAEdSr0cJkL+FnlcRBGJJub4X3IX2fLdPvjGwNfj2nJyT+1jO138dcRCGb1gc5YQ929RRZqWTy5ZmIuSa3fHHXcYEh86dOgxXWbfe+89080Dc15FEfADgcDJi2JqCrSpEbRlTmM8YBctWmS0q4yBBvxxfDkJKPAvETnyzq644gpDZLVr107Juf9wLCl1ZCw5FZKBbByh6Lp2n0nmP8c/VF9KnZv3mEfwm7y44Zdffik33XST0USZUOQk75LMCwbgwf+H2FUUAa8RCJy86BJBjSAlQlHojeX0IIuXnIpDm8ABRPbhhx+aeZTkoVHCxJeXwnG/88O8fjkSuR4RZMxnNFBSKcChRo0a5l+qEthjopR+mNaJrE+POX4RCJy8gJKeXny5ecltLz3hy0nRMhFPN8J5jnlJ5wuE54XI+LhNF3Fz76CPddrqON1rSa0gEozkyJHDOPc7deoU9LL0fsc5AqGQFw5wsrfJ2HbbHifI/di1a5dgMsbTuuKtiS/zpEmTjFYGodGChoilY16ilUWhzU52z0nJVsWKFYXWQZiL6YXSIlJNUimr4o8dZiodbfE/YrKDK8nDCCP0nARoAkKktJBGk0wHk3j7qb+3A4FQyItHd0aK4SOysW4O8xaH/Omnn+5pcAHipi+YQ2TkrnEPvmhoZDjAkymfCvN14plIYqVhpKNxpV8P2nXnzp3l2WefdbVMOu++/fbbJiDAAF3qWXlf8LFB/pjlTjtxIpvk4a1bt86YqeCKxkwhPYEFcv+ihqsrsE7Ag0MjL7CmK8TBgwfNINScOXNaBf+aNWuEKCO98PnS+CVoJCR+Er3EZ4QmgUnpRC9pmY3pZbPcf//9JrIIiWUlEBgERGF+POE4SsGGDx9u/IQkxxIYID8Qok9EGJqCD5IUF2ZV4rtk4AiVGJCfSvQRCJW8KHYm9YDCapt8QERE+evNmvjrHpTwhSMPDq2Mrg74BongkYpB9PK6667Ltgg9qHWmvw/NIB9//PG4t8Zhj1ZJMCMrwUx/9NFHTRseTD+IhmG5qUalec9GjBhhysgwOSFbamSPxwBK3I04jg4IlbzAkRcWDQyV3oahrqyHXDTytcJeDyaQY17STQNTlhQTtDL8ZWisYQrrgWjo/0X6CyQDUWQnpFFQH5pRSDW58847zTM+88wzxszzWuPk2pQ20ZEETZ+fwVElmgiETl7Ahq8CU4EBGkGU3mT3l3/JkiXG8WubaUFp1cSJE415Se4UJi1pCLQJQisL2+mPf5CyIQgB85EPqRLpBdORZpQEQRxi4pgePXrI008/bbQsJj35PRuTgEn79u2FRFpaiKM5+l1sH016sHvVVpAXEDkOfMqGSpcuHfjLhKm4cuVKY6bxBbP5Zc7K6Y9/DCLDPxTWGDOijZho//nPf4yJBmGld+KDKwSHZkVUkpIrjqdHW5s2bQL9tkC2pHA0b97cDN+1PW0nUHAicDNryAus0C7QwOiXhb/JT0e5szeYEphn5CoRVg/bVEzmnYH4ifSRhvH5558b57Tj9Mcs+vOf/xz4FxONivy2V155xfi5IC3Iin/5A8UcTMxEzEV6s2U1/SkZPNycA24M32ViEpqYbYEjN89yoh1rFXkBPtFHCIzQN9oDnVf90oLwbxFV5J5oe8dDp1CehXbVmJc4/dEmMYNJxUArw1+WqlkGCbnJmIdcBw0aZExC0h8Q/HUERSCPsPuD0Z4c8iKlAm1MJRoIWEdewIY2RFIi0Ta0LwiMqJ9XJIZmwrXpLcYXm0TZILS8MF6J9E5/nOWYnLSydoiMygG3uNLVFsc8fio3ybXsK2khf/vb3wTf4uDBg432ZYMQGGF2pbb6sWE3EluDleTlLJ3UgY0bNwr+KL4kDO5AO0o01yc9BHxpCQygBaBxkRgLKS5dYG8AACAASURBVEJeJ4qgzZLpj3nJl5Up4PSnx2TDvKRTLZnq8YQ0BvxZdAbhBcJHmKiQGkPBOtOJyN+CSG2RJ554Qp566imTH+a2HMyWZziR1mE1eaUnMcpPIDH+4kNemD580fCPoTXhq8Dh6kS6OA7y4wsLWTFtGw0DsoIEUylVOR5eELQgGixiXkJkfGHBEWJBK0MLKVas2DGPisYK6SOYjmD673//22TQxxPMTcxF/gChgXmdChHv/vF+DyZEbyk7gmTVgR8PsXB/HwnyciDCCQwROR+IKbusbr5YEB3JiCTCQlj6Qmb+wvGHAWc/Whl+KMietBXHvKxfv74hK/xWEFV63MGZ4/BrZafJUh5EagJ5dLbWtBJIoJaVDP+//vWv4X479e7ZIhAp8srsSahf48OXiZA8GhgfvmgQl1t/jr4vvwdNSIplGjkf/GaQEk5tzEU0tox/NMA7X758phaRNkAZBT8jGluHDh0E88xm+cc//iGvvfaaKSZPxIy2+VmO57VFnryO582x5dmICkJiaGWUL2VWfM1a+aOB6UVve7Ss9GU9mJaU5ODDTDXa6TcupOzgCyR5lQlVKnYioORl575YuSp8Y9RXxhNIDGc+eVOkoEBoVAMwcYjSnyjIww8/bFpdo3Xa5puLAn5BrFHJKwiUj5N7tGvXzvi14tUv8rjpnfkQGdFMNDg3kckwYXMK8+khRpKvin0IKHnZtyfWrojW3dRUuhW0LkxF6h+jJERGGbpClYCKfQgoedm3J1auiAhhhQoVTLQWM4rIb8aOqekXzjGksZBPRzIwfbzIZPcyRYUcMWpRSffwQ2jPg+lLkELFPgSUvOzbEytX5EQfib45HyfXjv+moynpKJAV/+0kEjt5YX6YX36TFwm9l19+uan2sKWdNIXk4ExjRZt64IXx0ip5hYG6z/fc/+tvMm7pNhm7eKss37ZHtu/5RQrkPkWqFz9L7v9zSbmkSD6fV/DH5YlQUk9JtwlSKbwUv8mLNUMUn376qak+sEFYB/l4CG2b7rrrLkNkmSUU+7HeGTNmCN1LSHmhE0hGQVOltRGBGYIefoqSl5/ohnTtZ8etlJcmrcn07ifnPEnevKua1C8dTIdYWuP07dvXdO3wWvwmL9ZLNQYdXW1JWE1PXqzPaTmESX/PPfeYkiu/p9HjB6T5JFUvGfPgCG5QnUABPsTvpyh5+YluSNd+ZfJaWbXtZ7mmQhEpXSivFDzjVFm3Y5/0/my5TF39gxQ7K7dMeaRBIKvjSz9nzhyTH+a1BEFe9M3nAwHbIBnJy1kTydiOLxJyufvuuw2Rea3tcj8SkenA0b9/f9NS2xG6wTDwhP/H7/wWJS+/Ebbo+gcO/SY1n54ouw8ckgU9GsVMyVy+r+7ee+81f4UdUyfZGzp1q4mcj+aRTFQ0s2tTtE5lAANGbJCsyCv92sizI6DCv6SoQGLNmjUzARQvhFQZMCFYQiDHEZKTKR+DxILoRKzk5cVueniNnft/lbQnJsgNlYtI31v/6Lgwat530uX9RXJ23lwyt3ujWNnT7zfdtuegIaTmNYrJ0zeWj7uSq16YKqu//1mW9moip57s/1Qi/DGUbzHFJxUJi7zoSovWSO2nDUJ3FfB0K5hw/CGhNMuL9k89e/aUf/7zn6aMrF69embqFXMomLFAbWwQouQVBMou73Ftv2mydfdBmdP9iiMk1fndBfLxoq1yOPYX9dMH6kq5/znd35+7Sf42crG80jJNrrr0vGzvhOl4Rd/J0viSQvJq7PggpFWrViZVAse91xKE2di0aVOjxeBPskEoGGcmZTxxSrUo0brhhhukRYsWpjY11UlMzn1pLUWQgO4jjJYjF465AJSRgVkQouQVBMou7/HvL1ZK/y/XyGed60rZwvliXx6Rqk+NN072jxZtkYcbl5F29S8yV+00fIF8EosqYgaeefopWd6JCOStA2bIpp/2yycx8rugQGLzD10u/ZjDMSVoPEhLaK8lCPJi0hGDbl988UWvl5/U9bIzG9P7vegCwh8OyMWvoc40koS4SIfBvKagn869QTVDUPJK6hXy96QZa3+U21+fKd2alpW29UrI0i175OoXp8prd6TJG9PWyyk5c8iwe2sYUkt7crwUjTngx3SonS1xtRkyV+Zv3CmD76luUiaCEsyLd955x7zUXksQ5EVyLV9SWvnYIBnJC6JwIo7VqlUzw0Qw1YNoaU7FBEOZWRMDkyF48tCCEiWvoJB2cZ9Dvx2Wij3HSeViBQxJvRqLHj4b08YWPt5YBk3fIP0mrZbFsZ/XbN8r18RMzI4NSxptLDPBOX/3oDmyIpbvNahVNalRItjOsfxl5stP7zU3fe8Tgctv8sIxTfLtsGHDTFG5DeKQl0NY9B5DwyK3Cp9T0ELzShpZEtUkMOOXlpfZcyl5Bb3bCd6v1aDZ8nVMA4OkWg+eK7/+97C8366WLNq0S65/eboMiWlQaGR9Pl8h77Wtlak2tf3nX+TON2fFTMUDMujuailpXE47biebnpcUJ3A8E4EZjZAMUSkKtL0Uv8mLYcgVK1Y0Q5EhCRuEqeMUjTvJqXTtCFOGDh1q/jiREvPcc88FuhQlr0DhTvxmA2PmYa+xy2RAzFTEr9WxQUl54PJSxmFf5Ynx0iytaIy8dhsyW/z4lULyaXrZ+ON+aRkjrp37fjWmYtqFBRK/eSZH0rYZh29GIXJFKZBTHsRfYDrXOv9CcoTP0RiYjehlbWNKD5TAyS+88IKJqBFwsGUkGomhTHO3RZhFAE50oA16bKCSly1vQYZ1rI6ZhI1ikcEyhc6QlbHUhtExn1alor9nLLcfNl+Wb90jm3cdkDolz5GBMXMwvXB8yzdmyS8xbW1ojLgq/u+8VB6V8Dy1jMwFSETQyPjQy4sIFx0aMC+iJJQ1YeqmmuYRpWdOdK100qUg/vrrrzfpEX4EZOKtRckrHkIh/p78LfK4iCISTczxv+Su4bO/lW4f/J4c2OPacnJP7eJHrbLrqMUyYs6mbFeePt0i0UfkRaXOL6tOqhmvQ8Y35SL0t6fEBq0hKtOa6KaKhkM7aFvGsyW6T34fhzZKIMaRsGo/lbz83ukUrv9wLCl1ZCw5tWn5wtK/RZUjV9q884DU7jPJ/Pf4h+pLqXOPHlfmF3lh9tGQMLuhJ6wJZzJaFwmRzGjEWU+NIHWOnB8FobzlkUceMZn62sf+6B1zyAtyp/ga0zEMUfIKA/UI3hOH/fDhw4WBs9kJxEX/d16s9DMZW7dubTLVKR2xva0y5Ex5C5njELaKnQgoedm5L6GvCtMQHxUmAVnTJJo6fbwyqxuEkPBvtWzZUgYMGHBMHR0N/eg/RdoBYX2bhbw0TEU6J9g6os1m/IJaW+TIi1IN6qjotYQ5sn///mNGn/FFwklMIaozt5EImC0Ro6A21+19GLZKAz4GbVDOs3PnTjO7keJe/FZkUTMBqE+fPkd1UcWpDdZDhgzJdkAHnQjQvpYuXZrU1HO3z5PM8bxTdEZo0KCB6devYi8CkSEvhqBST0WBLFoBXxjC8JBTxonZaABEx5yJ2RAcPhiiZXQcoBredtMlqFcGIoGoiBxRZAt2RI+ItEFaRAnTy8yZM02LGEfAkRIatJV4IfytW7cac4wauKeffjqoR3R1HwILaI5oXX73xXK1MD34GASsJy9ybKidYmgpuUS8UOQK8XOiQqY0WsSOHTuEKBJ+Gdr6kpF8omljEDraD9rVhx9+aFocFyxY8EhUkIgiWmpWArkRMUTzBTsKhR966KG4yarO9SjgpYRk4sSJhhhtcobTqrpRo0YmL61t27aJvl56XEgIWEtemIYkvqFxoSkVLVrUk8ZqEBldPfmgNZBYd7z/hWXyM0mmaFfUoIEt/ie0K8xB2vq60UTxB+EPo+VvlSp/REETeYfRiNHUyLyndIjCYRuE0haa+NWpU8c8l4r9CFhHXvi0iGyhbZGljcPUj7/OmJ58qck9osyFeYJetQsJe9uJli1cuPCI74oCWjRV/DgQFiUmqdTBUZ5COxQ32u+aNWtMzhRN/Xbt2mX2lmtMmTIl9AnaaONEFhG00uw0z7D3Vu//BwJWkRejtAilo22hEcXzoXixkZijfBmd8Ljffbe9WHNm18C8xuzBHOQDQaR3tnvZyynRZ2A/P/roI2OGkYGNuc7/41/WSgcE8r+IaKJdhyG4Eug/hS8V4rJlSlAYWETtntaQF72AKIBFiPa4+aueKugQFy1bIAAcyviAoiDpne1OeUaNGjWMdnXdddcF0oo3M5zQZinYff75502QBZPUSWyFuCjiZboMbgFIle6gpGNAtkHK2rVrDXGhhdP9U9MigkQ/9XtZQV4Q14IFC4zZRvV+WOYbLzO+D0xIG/1gRE3xNaFZUW/HWunbBAFAWPzrx8CFRF4zHPmkWeCQHzNmjHHm41/MKKxv/fr1Rwq0iUDid1u3bp28+eabQtvlIGTkyJGmLTKERbQVDVAlWgiETl6YERAXLzvtR/jLHKbwJYIUaN9iQwcE1oOjHcIaP368Mbvo7OnkXtFPKV5bGj/xJGF18ODB0q9fPxMEcfpMZXZPNDA6ENBdNb3gxKcUh2Z2EBmlOQRo/BDIsmvXrkYzJO/s1Vdf9WwwhR/r1WtmjUCo5IVzHlORl5dSkrA0rozwYELiCyGU70x+DuolwrxisKeTe5XR2c6XOwhfYCLPi7ZFagEaVzzhjxNlQ/gXs2pKiOn4wAMPGPOddArMS698YVyTflOQLG4B/g2q13o8bPT3ySEQKnkR7SPPiHB7kD6ueFBBqmiD/IuW4yaNIN61M/s9RInPCu0KBzc5VPh/ICrMQSJhthB7xvWTP4efjb1EK8xOeD6eKTshDw1fGUSDmUwHU1IzwMDtPkCuJN6S+c+LThUAOWmdO3cO/I9SMu+FnpM9AqGRF7lGTEHB52CLJpEeKvxwTP7FfGFGndfiONv5QqNpQU7kGGEOkiiK3y0qgplNL3PKizJrl4OmRdY+aRGJCmU6lOe89dZbgvaJCU97HcxkgiqQO/4+548e7xN/BDCziVgTOYS4SINgbbRK5mPTH8lEsdDjMkcgNPJCs0HQbGwVvpQ4l3n5UzUf+TJiXmEOYh7hH0rvbG/SpEmg/b+9xpw2z2hguADQeNILPjn+ELhNaHWuQakOQ2vBj+nb8QbK4nwn4bRhw4YCrmXKZN7f32sM9HrBIhAKeeF/QPOwrTwkI/SYjXzpqKFMRhNK72wnwx2tBLJ2zEG+zGE627161cAJhzv9upzuqc610bpwjBNJ9Eowq/mjwnuExoWQyIwvC7+aJpl6hbTd1wmFvJy0CPK5bBfylHDgM1YqnvYFOVG4jHaF7wrnNObO5ZdfbsxBcq+Ot5A8mhYDWUk9gKBIj6B3lyNgRgpK4cKFbd9qXV/EEAicvMieh7zQOoIck5TsvqBVzJ4920S9MhswQGY2Jg2ERaIjz5fe2c7wT69HfiX7LF6fh7Oe2kR8l7xIzoCOxx9/3LTOQQuj6+ajjz7q9a31eoqAeedOin1BY+NLgxGa0vEFx4/kh+BbGj16tIwYMcKkYZDXQxcEioFpd5KMj41aS7LGcTo7kUgn94qkUVry4EjGHGS0uh8Ofj+wSuWa+OyokcRJjg8vfddUMMI5DkbUNMbTWFNZh5574iIQKHnxUhNZI4LnVxIif+WfeuqpTHcUDQhzDieuGyF8j1YFIdLKhS8sBEWeEIRFwfOJ9AXFOc+zUwdKXWJme0naBFFCCF9FEfADgUDJiyJoTAy0Lr9C1nT5pGUxrYbxqeFjwmeFQ5kMdUw6fDBuZdq0aUZzc7oyeD1A1c16Jq/aIXcNnC09rolNDqpz9OQgN9dJ5li0qZtvvtnsISVK6hxPBkU9xwsEAiUvUg9odUP/qKCFhEc6BuCnIUrldgQXRcREtpIxO71+1rDIi5yr++67T26//XbT2sbWxFmv8dbr2YlAoORFvg7mhJvR6eQM4VvBbCOhk58dwVmO45+IFxpdPFMUvwwpGmiA+KncCL4zNDYSScOWMMgLjZbJQZTtkAF/PKR4hL2Pev/UEAiUvIgyEmF023qELGlICkc/fpTixYubFisMhKCshu6g/JydYDrSPRSH+qhRo1yjRm4RDf7w4dDCJUwJkrxI/6CQmhFgL730UmTmLoa5P3rvYBAIlLzIgcJ0S6bhG8miaD34sYjwMbG3d+/e0qtXL3nssceyRYsIJLVxJDaioZHI6FbQ7lg/ZmNYbWecNacnrzLnnSH/GbdKlm3dI7lz5ZTG5QrJI00ulrPy5HL7iMccj5mM75AyG1o2x6tLTPmGegFFwAUCgZIXTm9ypZJNWGSqCxOXSXvgWkQNCdNnZ8JAXNQKEuVEQ3Pa/brAyByKBkK9XIUKFUJvW+yQ19WxSdqfL90mvx0+OtPlooJ55aNOtSVPruTbCzl9tkgRwVz3K7XF7T7o8YqAg0Cg5EVhLmU21PQlK7fccovJ5qYHO3lc2fXcwjmPj4zjIDkSRpMV0jxYP5qfV21akl2LQ16c3yztAunYsKSce8ZpsmTzbukxZoms2PazdIr9vy6Nk6vpo7CZVAhSS0iFKFWqVLJL1fMUAd8QCJS8pk6dar4IyZbIUKqD7wttAIc75mNW0T80BzK+MRX5AqKtpSL42ND2CDaE3aTQIa+KRfPL6PY0I/zjyb79ab80/M9XcuFZeWRiF/dkjYZKGRN+SXLiotISO5W91XOjiUCg5AXZkNyZzOQayIPGd/hfcBzTDZMvFg78jEMziApyLC1aMBW9SM2gZo8vNhHLsHObHPLKSrtq/NwUWffDXlnzVFNXbyWBjJYtW8pVV10lw4YNO6ESb10BpQdbgUCg5IXTnfwqooVuhTA9A06pmevevbuJGDZr1swkjdIz3fF7kaAKcdGPi/QKWqN4ITivIUoKtGlqF6b4QV60Z6ZRH5FFGgG6bfwXJh567xMTgUDJixwrSIaUBTeCwxinOxoBBdAOUXXp0kX69u1roo5kvyMMVYjXfoWUjfS1eImshZIgukRgfoad4+Sl2YhGS7tlxpOBIxqtiiIQBQQCJS+nBxPaS6LCOfi5MNVIc0jvbyICSMM5zFFKf6gx9Iu8aHMMgblZe6LP6Pa49A77W6oWlQ4NLjIO+6VbdstjY5bKiljaRCIOe9I/aLGM5kr2/G233eZ2KXq8IhAaAoGSF8mmFPXWqlUrcqUlJKhiLpYuXTq0zXJu7JBX01iqxBdJpkqwF2izaMOQV6oBjdBB0QWccAgESl6YKORK0ZbXxrmIWe2+s+5U0zy8ervSJ6mWKnSGPDtupayMpUeQpNoolqTaNU6SKh1eSYUgCEEkNpkusV49i15HEUgWgUDJi0WieeEzCrMrg1uw6JlOHzI0xqg3FqSxIkEO0lUgrmQiv27x0+MVAT8QCJy8KKamQJsawah0JVi0aJEhLbeBBj82LJVrkrdFRwjKrEj0jUIn21SeV889vhEInLzoEkGNICVCyaRMBL0dTg8yG5JTU3l2IrCUVjEMgzKrqGuQqWCh5x4fCAROXsBGTy+GzTIqi/HwNgsObaJyyY7tCvvZKGuiiJ0C9h49epie8iqKwPGAQCjkhQN81qxZpsbRbXucIEHftWuXYDJGVevCIc9kH9pX9+/fX9q0aRMkfHovRcBXBEIhL57IGSlGbaKNvhfMWzLq6U0fpeCC87ZAvEz2oaqBTXbbt9/Xt04vrgh4gEBo5MXa6fZAGQ/DZ3PmzOnB43h3CabeEGWkFYzbrqverSK5K1G4TjcN/kDQTcOG1tXJPYmepQhkjUCo5IVZg2ZAYbVNkTwiopQCsaaodVWgtpMcLhomkgpRrFgxff8VgeMSgVDJC0Qxb9DAyDfKbKhr0KizHnLRihQpYsV63Dw/Y9mY7ENwgck+GbttuLmWHqsI2I5A6OQFQNQM0gCPARqMJgtLIC40FzpflC1bNqxlJHXfIUOGmLpOevTzc9RM3aQeWk86oRGwgrzYAceBT9kQ9YNBd27AVGRIB11SKZcJ+v6pvIW0s3nwwQfNZB9tZ5MKknpulBCwhrwAjWJhNDAKoPE3BaE9EFWk1o/x9QwGscF0TfQFIuWE/lvMUHzxxRelffv2iZ6qxykCkUfAKvICTaKPEBiDMzAj6bzqlxaEmUhUkXui7aXSWz/oNwF8mOzD6Lfhw4ebekUVReBEQsA68gJ8tCEy8MnER/uCwIj6eUVilPxwbWdyNomyQWh5Xr1YpHAwhoweY9QretHm2qu16XUUgaAQsJK8nIc/cOCAbNy4UfBHMeiVTghoRySOuhVMLAID+NbQuEiMhRRxzkdJ0BTpKEvZD/35dbJPlHZP1+olAlaTV3oSI/ESEiM3DPIqUKCA5M2b1/jH0JpIcqVOEpLiw3GQH+YVZMW0bTQ3yAoSDHsCUDKbSEE75iF+OVpjRy0HLZln1nMUgawQiAR5OYtH24CInA/EBFFlJZAVREcLaXKeICzbC8Gzehbytpjswzg3JvuEPQREv1KKQNgIRIq8MgOLjg98IDF62qOB8aHlC8TllZ8szI3SyT5hoq/3thWByJOXrcB6sS40TaYiPfPMM9rOxgtA9RrHFQJKXpZuJ9rkXXfdJaNHj5ZBgwaZDqgqioAi8AcCSl4Wvg0k61LmQ6kS5FWvXj0LV6lLUgTCRUDJK1z8j7k7cyrpCkHiLF0holZjaRmcupzjGAElL4s2d86cOSYVgvpO+nBRrqSiCCgCmSOg5GXJmzFu3Dhp1qyZmarEZB/6cakoAopA1ggoeVnwdgwcOFDatm1r8rhee+01nexjwZ7oEuxHQMkrxD3SyT4hgq+3jjwCSl4hbSHlS61bt5Z3331XXn75ZbnvvvtCWoneVhGIJgJKXiHs2969e+WWW26RadOmyXvvvWcKrVUUAUXAHQJKXu7wSvno9JN9xo4dG9lhtikDoRdQBFJEQMkrRQDdnE7SKSPJ6IZBDhcteVQUAUUgOQSUvJLDzfVZkyZNkptuukkuueQS00Awan3EXD+wnqAI+IyAkpfPAHP5oUOHmsk+1113nfk5Sl1bA4BHb6EIJIWAkldSsCV+kk72SRwrPVIRcIOAkpcbtFwcS38xRpGRdAqBdejQwcXZeqgioAjEQ0DJKx5CSfyeDq+33XabTJgwwQyAJS1CRRFQBLxFQMnLWzzlxx9/NL4tBtiOGTNGateu7fEd9HKKgCIAAkpeHr4Ha9euNQmnmIxM9mEWpIoioAj4g4CSl0e4MtkHjat48eJmsk+UBth6BIFeRhEIFAElLw/g/vDDD6VFixbSuHFjeeedd3SyjweY6iUUgXgIKHnFQyjO753JPvfcc4+88sorkR2tliIMeroiEDgCkSMv2shQ2Lx7924zUHb//v3HjD7LkSOH5MqVy2hAztxGZjcyEs0r0XY2XiGp11EEkkMgMuTFxOvvv//eTM1mPiNzGc844wxDThknZh8+fNgQmjMxG4JjfiNTtmmxfM455wgEl6xw7VatWgmDYJns07x582QvpecpAopAkghYT14//PCDfPvtt/Lzzz9Lnjx5DPkw+ZqfExV6Z+3cuVN27NghTOZhajb94c8//3zX2hjXYbLP4sWLzWSf+vXrJ7oMPU4RUAQ8RMBa8sI0XL16taBxoSkVLVrUk77uENnmzZvNB+3roosuMoSYiGzYsMGkQkCkDMioWLFiIqfpMYqAIuADAtaRF76kjRs3Gm2LIRQlS5Y0LWS8FkxPyIj+Wvnz55eLL77Y+MmyEjQtRpKh9dHORif7eL0jej1FwB0CVpHXoUOHZNmyZUbbQiMqUqSIu6dJ4mi0qOXLl5vEUmYkQmQZZfz48WayT/Xq1WXUqFGeaIBJLFVPUQQUgXQIWENeDFlFu0HoeeXGp5XqjkJclPPgX4PAChYseOSSOOSZ7INT/vXXX9fJPqmCrecrAh4hYAV5QVwLFiwwZlv58uWzNd88eu5ML0N5z3fffWdMSDLke/bsaT5du3aV3r17m4iliiKgCNiBQOjkhakIcZGDhQOcSGCYsm7dOkNgI0aMMO1sBgwYICSgqigCioBdCIRKXjjnMRXJm6pUqVJoGlfGLcGEZLIP5iP1iiqKgCJgHwKhkhfRvk2bNpkJOkH6uOJtA6SKNsi/lStXTimhNd699PeKgCKQHAKhkRd5XPPnzzepEEFEFd3Cgx9u7ty5Jr9Mp/y4RU+PVwT8RyA08kKzQdBsbBV8X+vXr5eqVauaMiQVRUARsAeBUMiLlISlS5dKWlqaLwmoXsGL2Yj2RQ0lEUgVRUARsAeBUMjLSYsgn8t2oRgcB361atVU+7J9s3R9JxQCgZMX2fOQF056NBrbBe1r9uzZpr6SrH8VRUARsAOBwMlr1apVpvwHP1KqQg0kLZf5fPXVV0LRNb3jmzRpkuqljzqf+1ADWbNmTU1U9RRZvZgikDwCgZIXWsyMGTNMBI9PqnLeeeeZHl/pxQ/yoi8Y2leFChVMTzAVRUARCB+BQMmLImjSI9C6vMjrQhPiWtdee60pmKb20A/yYpsgL5JWGbChoggoAuEjECh5kXpAq5vLLrvM8yfv2LGjvPzyy76RF73FyE2zObXDc1D1goqAxQgESl4rVqwQahkpvvZa/CavrVu3CoXbderU8Xrpej1FQBFIAoFAyYsoIxFGsuq9Fr/Ji4EfCxcuNE77U0891evl6/UUAUXAJQKBkheDWelA6kcXUr/Ji+Jx1o/ZSIdXFUVAEQgXgUDJi04N5EoVLlzY86f2m7xoGz19+nSNOHq+c3pBRSA5BAIlrylTphxp9JfccrM+y2/yIs2D9VMVQMKqiiKgCISLQKDkNXXqVClVqpSQn+W1+E1etIpGcyTYwBAOFUVAEQgXgUDJ6+uvvzbtZZiX6LX4TV5k75NgS9NEpm+rKAKKQLgIBEpedGg4++yzfUn09Ju8yPGaN2+eyNOC5AAABJNJREFUKdDOnTt3uLumd1cEFAEJlLxog8MQi3LlynkCfcuWLWXYsGFZXouHY2SZF8K0bUak1a1bV+sbvQBUr6EIpIhAoORFYz96eaG9eCFBkhctqyEwr9buxfPrNRSBExmBQMnrp59+km+++UZq1aplzbCNRDefBFXMxdKlSyd6ih6nCCgCPiIQKHkRsSNXqkyZMlKoUCEfH8vbSzvrduY5ent1vZoioAgkg0Cg5MUC0bzwe1166aXJrDeUc7Zt2yb0IUNjPOWUU0JZg95UEVAEjkYgcPLavn27UKBNjSATsqMgixYtMqTlVaAhCs+sa1QEbEcgcPI6fPiwqRGkRCgKvbGcHmSanGr7q6zrO9EQCJy8AJieXgybrVGjhpx88slWY056B0XZ9NxXUQQUAXsQCIW8cIDPmjVLzj33XF/a43gF765duwSTUbUurxDV6ygC3iEQCnmxfGekGC1mbJwihHlLRj3DZqMUXPDu1dArKQJ2IxAaeQHL4sWL5eDBg2b4bM6cOa1Cas2aNUKUkR75p512mlVr08UoAoqABFselBFwip2pd8yfP79VkTwiopQCEV1k6IaKIqAI2IdAqJoXcOBXQgOj04QNQ11ZD7loRYoUsWI99r0yuiJFwA4EQicvYKBmcNmyZWaWY4kSJUJDBuJasmSJ6XxRtmzZ0NahN1YEFIH4CFhBXizTceBTNkT9IFn4QQqm4sqVK02XVMqAgr5/kM+q91IEjgcErCEvwKRwGw2MAmj8TUE4yokqrlu3TjZv3mwGg9hguh4PL5Y+gyLgNwJWkRcPS/QRAtu3b58xI+m86pcWhJlIVJF7ou2Rd6aiCCgC0UDAOvICNrQhMvDJxEf7gsCI+nlFYpT8cG16i+HfYo5kEFpeNF4JXaUiEA0ErCQvB7oDBw7Ixo0bBX8Ug14Z3IF2ROKoWyGrn8AAvjU0LhJjIUXIS0URUASih4DV5JWexLZs2WJIjNwwyKtAgQKSN29e4x9DayLJlTpJSIoPx0F+mJ+Q1Z49e4zmBllBgjoBKHovq65YEUiPQCTIy1kwsxMhIucDMUFUWQlkBdEx7YdEWAjL9kJwfT0VAUUgMQQiRV6ZPRIdH/hAYky1RgPjQ/8tiMsrP1licOpRioAiEBQCkSevoIDS+ygCioBdCCh52bUfuhpFQBFIEAElrwSB0sMUAUXALgSUvOzaD12NIqAIJIiAkleCQOlhioAiYBcCSl527YeuRhFQBBJEQMkrQaD0MEVAEbALASUvu/ZDV6MIKAIJIqDklSBQepgioAjYhYCSl137oatRBBSBBBFQ8koQKD1MEVAE7EJAycuu/dDVKAKKQIIIKHklCJQepggoAnYhoORl137oahQBRSBBBJS8EgRKD1MEFAG7EFDysms/dDWKgCKQIAJKXgkCpYcpAoqAXQgoedm1H7oaRUARSBABJa8EgdLDFAFFwC4ElLzs2g9djSKgCCSIgJJXgkDpYYqAImAXAkpedu2HrkYRUAQSREDJK0Gg9DBFQBGwCwElL7v2Q1ejCCgCCSKg5JUgUHqYIqAI2IUA5PX/eeBOsqbW9ScAAAAASUVORK5CYII=)"
      ],
      "metadata": {
        "id": "_2S1DHqCVr8Y"
      }
    },
    {
      "cell_type": "code",
      "source": [
        "# 4.2.1\n",
        "weights, bias = model.weights"
      ],
      "metadata": {
        "id": "3MqcuyNRO5t9"
      },
      "execution_count": 27,
      "outputs": []
    },
    {
      "cell_type": "code",
      "source": [
        "# 4.2.2\n",
        "weights"
      ],
      "metadata": {
        "colab": {
          "base_uri": "https://localhost:8080/"
        },
        "id": "GwA3W5YwO7Iw",
        "outputId": "7329b962-be43-427d-f1b6-7a98c2465618"
      },
      "execution_count": 28,
      "outputs": [
        {
          "output_type": "execute_result",
          "data": {
            "text/plain": [
              "<tf.Variable 'dense_4/kernel:0' shape=(11, 1) dtype=float32, numpy=\n",
              "array([[ 0.19970173],\n",
              "       [-0.07318938],\n",
              "       [ 0.27094436],\n",
              "       [-0.01073664],\n",
              "       [-0.5489878 ],\n",
              "       [-0.04313934],\n",
              "       [ 0.04877657],\n",
              "       [ 0.64877945],\n",
              "       [ 0.05976927],\n",
              "       [ 0.4261908 ],\n",
              "       [-0.50238484]], dtype=float32)>"
            ]
          },
          "metadata": {},
          "execution_count": 28
        }
      ]
    },
    {
      "cell_type": "code",
      "source": [
        "# 4.2.3\n",
        "bias"
      ],
      "metadata": {
        "colab": {
          "base_uri": "https://localhost:8080/"
        },
        "id": "wwdoAxUePcyb",
        "outputId": "b2c3c9af-317b-41cc-af59-781d6793fe01"
      },
      "execution_count": 29,
      "outputs": [
        {
          "output_type": "execute_result",
          "data": {
            "text/plain": [
              "<tf.Variable 'dense_4/bias:0' shape=(1,) dtype=float32, numpy=array([0.], dtype=float32)>"
            ]
          },
          "metadata": {},
          "execution_count": 29
        }
      ]
    },
    {
      "cell_type": "code",
      "source": [
        "#4.3 Compile\n",
        "model.compile( loss = \"mae\")"
      ],
      "metadata": {
        "id": "1jc9JzpaSNlE"
      },
      "execution_count": 30,
      "outputs": []
    },
    {
      "cell_type": "code",
      "source": [
        "# 4.4 Train\n",
        "model.fit(X,y, epochs = 100 )"
      ],
      "metadata": {
        "id": "HzN91F1fSXab",
        "outputId": "df1529c8-2ddb-4055-fd42-bbf9d8b1d9a3",
        "colab": {
          "base_uri": "https://localhost:8080/"
        }
      },
      "execution_count": 31,
      "outputs": [
        {
          "output_type": "stream",
          "name": "stdout",
          "text": [
            "Epoch 1/100\n",
            "50/50 [==============================] - 0s 2ms/step - loss: 4.9591\n",
            "Epoch 2/100\n",
            "50/50 [==============================] - 0s 1ms/step - loss: 4.7125\n",
            "Epoch 3/100\n",
            "50/50 [==============================] - 0s 2ms/step - loss: 4.6548\n",
            "Epoch 4/100\n",
            "50/50 [==============================] - 0s 1ms/step - loss: 4.6404\n",
            "Epoch 5/100\n",
            "50/50 [==============================] - 0s 1ms/step - loss: 4.6372\n",
            "Epoch 6/100\n",
            "50/50 [==============================] - 0s 1ms/step - loss: 4.6363\n",
            "Epoch 7/100\n",
            "50/50 [==============================] - 0s 2ms/step - loss: 4.6361\n",
            "Epoch 8/100\n",
            "50/50 [==============================] - 0s 2ms/step - loss: 4.6361\n",
            "Epoch 9/100\n",
            "50/50 [==============================] - 0s 2ms/step - loss: 4.6360\n",
            "Epoch 10/100\n",
            "50/50 [==============================] - 0s 2ms/step - loss: 4.6360\n",
            "Epoch 11/100\n",
            "50/50 [==============================] - 0s 2ms/step - loss: 4.6360\n",
            "Epoch 12/100\n",
            "50/50 [==============================] - 0s 1ms/step - loss: 4.6360\n",
            "Epoch 13/100\n",
            "50/50 [==============================] - 0s 2ms/step - loss: 4.6360\n",
            "Epoch 14/100\n",
            "50/50 [==============================] - 0s 2ms/step - loss: 4.6360\n",
            "Epoch 15/100\n",
            "50/50 [==============================] - 0s 2ms/step - loss: 4.6360\n",
            "Epoch 16/100\n",
            "50/50 [==============================] - 0s 2ms/step - loss: 4.6360\n",
            "Epoch 17/100\n",
            "50/50 [==============================] - 0s 1ms/step - loss: 4.6360\n",
            "Epoch 18/100\n",
            "50/50 [==============================] - 0s 2ms/step - loss: 4.6360\n",
            "Epoch 19/100\n",
            "50/50 [==============================] - 0s 3ms/step - loss: 4.6360\n",
            "Epoch 20/100\n",
            "50/50 [==============================] - 0s 2ms/step - loss: 4.6360\n",
            "Epoch 21/100\n",
            "50/50 [==============================] - 0s 2ms/step - loss: 4.6360\n",
            "Epoch 22/100\n",
            "50/50 [==============================] - 0s 2ms/step - loss: 4.6360\n",
            "Epoch 23/100\n",
            "50/50 [==============================] - 0s 1ms/step - loss: 4.6360\n",
            "Epoch 24/100\n",
            "50/50 [==============================] - 0s 1ms/step - loss: 4.6360\n",
            "Epoch 25/100\n",
            "50/50 [==============================] - 0s 1ms/step - loss: 4.6360\n",
            "Epoch 26/100\n",
            "50/50 [==============================] - 0s 2ms/step - loss: 4.6360\n",
            "Epoch 27/100\n",
            "50/50 [==============================] - 0s 2ms/step - loss: 4.6360\n",
            "Epoch 28/100\n",
            "50/50 [==============================] - 0s 2ms/step - loss: 4.6360\n",
            "Epoch 29/100\n",
            "50/50 [==============================] - 0s 3ms/step - loss: 4.6360\n",
            "Epoch 30/100\n",
            "50/50 [==============================] - 0s 3ms/step - loss: 4.6360\n",
            "Epoch 31/100\n",
            "50/50 [==============================] - 0s 3ms/step - loss: 4.6360\n",
            "Epoch 32/100\n",
            "50/50 [==============================] - 0s 3ms/step - loss: 4.6360\n",
            "Epoch 33/100\n",
            "50/50 [==============================] - 0s 2ms/step - loss: 4.6360\n",
            "Epoch 34/100\n",
            "50/50 [==============================] - 0s 3ms/step - loss: 4.6360\n",
            "Epoch 35/100\n",
            "50/50 [==============================] - 0s 2ms/step - loss: 4.6360\n",
            "Epoch 36/100\n",
            "50/50 [==============================] - 0s 3ms/step - loss: 4.6360\n",
            "Epoch 37/100\n",
            "50/50 [==============================] - 0s 3ms/step - loss: 4.6360\n",
            "Epoch 38/100\n",
            "50/50 [==============================] - 0s 2ms/step - loss: 4.6360\n",
            "Epoch 39/100\n",
            "50/50 [==============================] - 0s 3ms/step - loss: 4.6360\n",
            "Epoch 40/100\n",
            "50/50 [==============================] - 0s 2ms/step - loss: 4.6360\n",
            "Epoch 41/100\n",
            "50/50 [==============================] - 0s 3ms/step - loss: 4.6360\n",
            "Epoch 42/100\n",
            "50/50 [==============================] - 0s 2ms/step - loss: 4.6360\n",
            "Epoch 43/100\n",
            "50/50 [==============================] - 0s 3ms/step - loss: 4.6360\n",
            "Epoch 44/100\n",
            "50/50 [==============================] - 0s 3ms/step - loss: 4.6360\n",
            "Epoch 45/100\n",
            "50/50 [==============================] - 0s 3ms/step - loss: 4.6360\n",
            "Epoch 46/100\n",
            "50/50 [==============================] - 0s 3ms/step - loss: 4.6360\n",
            "Epoch 47/100\n",
            "50/50 [==============================] - 0s 3ms/step - loss: 4.6360\n",
            "Epoch 48/100\n",
            "50/50 [==============================] - 0s 3ms/step - loss: 4.6360\n",
            "Epoch 49/100\n",
            "50/50 [==============================] - 0s 3ms/step - loss: 4.6360\n",
            "Epoch 50/100\n",
            "50/50 [==============================] - 0s 3ms/step - loss: 4.6360\n",
            "Epoch 51/100\n",
            "50/50 [==============================] - 0s 3ms/step - loss: 4.6360\n",
            "Epoch 52/100\n",
            "50/50 [==============================] - 0s 3ms/step - loss: 4.6360\n",
            "Epoch 53/100\n",
            "50/50 [==============================] - 0s 3ms/step - loss: 4.6360\n",
            "Epoch 54/100\n",
            "50/50 [==============================] - 0s 3ms/step - loss: 4.6360\n",
            "Epoch 55/100\n",
            "50/50 [==============================] - 0s 3ms/step - loss: 4.6360\n",
            "Epoch 56/100\n",
            "50/50 [==============================] - 0s 3ms/step - loss: 4.6360\n",
            "Epoch 57/100\n",
            "50/50 [==============================] - 0s 3ms/step - loss: 4.6360\n",
            "Epoch 58/100\n",
            "50/50 [==============================] - 0s 3ms/step - loss: 4.6360\n",
            "Epoch 59/100\n",
            "50/50 [==============================] - 0s 3ms/step - loss: 4.6360\n",
            "Epoch 60/100\n",
            "50/50 [==============================] - 0s 2ms/step - loss: 4.6360\n",
            "Epoch 61/100\n",
            "50/50 [==============================] - 0s 2ms/step - loss: 4.6360\n",
            "Epoch 62/100\n",
            "50/50 [==============================] - 0s 2ms/step - loss: 4.6360\n",
            "Epoch 63/100\n",
            "50/50 [==============================] - 0s 2ms/step - loss: 4.6360\n",
            "Epoch 64/100\n",
            "50/50 [==============================] - 0s 1ms/step - loss: 4.6360\n",
            "Epoch 65/100\n",
            "50/50 [==============================] - 0s 2ms/step - loss: 4.6360\n",
            "Epoch 66/100\n",
            "50/50 [==============================] - 0s 2ms/step - loss: 4.6360\n",
            "Epoch 67/100\n",
            "50/50 [==============================] - 0s 2ms/step - loss: 4.6360\n",
            "Epoch 68/100\n",
            "50/50 [==============================] - 0s 2ms/step - loss: 4.6360\n",
            "Epoch 69/100\n",
            "50/50 [==============================] - 0s 1ms/step - loss: 4.6360\n",
            "Epoch 70/100\n",
            "50/50 [==============================] - 0s 2ms/step - loss: 4.6360\n",
            "Epoch 71/100\n",
            "50/50 [==============================] - 0s 1ms/step - loss: 4.6360\n",
            "Epoch 72/100\n",
            "50/50 [==============================] - 0s 2ms/step - loss: 4.6360\n",
            "Epoch 73/100\n",
            "50/50 [==============================] - 0s 2ms/step - loss: 4.6360\n",
            "Epoch 74/100\n",
            "50/50 [==============================] - 0s 1ms/step - loss: 4.6360\n",
            "Epoch 75/100\n",
            "50/50 [==============================] - 0s 2ms/step - loss: 4.6360\n",
            "Epoch 76/100\n",
            "50/50 [==============================] - 0s 1ms/step - loss: 4.6360\n",
            "Epoch 77/100\n",
            "50/50 [==============================] - 0s 2ms/step - loss: 4.6360\n",
            "Epoch 78/100\n",
            "50/50 [==============================] - 0s 2ms/step - loss: 4.6360\n",
            "Epoch 79/100\n",
            "50/50 [==============================] - 0s 2ms/step - loss: 4.6360\n",
            "Epoch 80/100\n",
            "50/50 [==============================] - 0s 2ms/step - loss: 4.6360\n",
            "Epoch 81/100\n",
            "50/50 [==============================] - 0s 2ms/step - loss: 4.6360\n",
            "Epoch 82/100\n",
            "50/50 [==============================] - 0s 2ms/step - loss: 4.6360\n",
            "Epoch 83/100\n",
            "50/50 [==============================] - 0s 1ms/step - loss: 4.6360\n",
            "Epoch 84/100\n",
            "50/50 [==============================] - 0s 1ms/step - loss: 4.6360\n",
            "Epoch 85/100\n",
            "50/50 [==============================] - 0s 2ms/step - loss: 4.6360\n",
            "Epoch 86/100\n",
            "50/50 [==============================] - 0s 1ms/step - loss: 4.6360\n",
            "Epoch 87/100\n",
            "50/50 [==============================] - 0s 2ms/step - loss: 4.6360\n",
            "Epoch 88/100\n",
            "50/50 [==============================] - 0s 2ms/step - loss: 4.6360\n",
            "Epoch 89/100\n",
            "50/50 [==============================] - 0s 2ms/step - loss: 4.6360\n",
            "Epoch 90/100\n",
            "50/50 [==============================] - 0s 2ms/step - loss: 4.6360\n",
            "Epoch 91/100\n",
            "50/50 [==============================] - 0s 1ms/step - loss: 4.6360\n",
            "Epoch 92/100\n",
            "50/50 [==============================] - 0s 1ms/step - loss: 4.6360\n",
            "Epoch 93/100\n",
            "50/50 [==============================] - 0s 1ms/step - loss: 4.6360\n",
            "Epoch 94/100\n",
            "50/50 [==============================] - 0s 1ms/step - loss: 4.6360\n",
            "Epoch 95/100\n",
            "50/50 [==============================] - 0s 2ms/step - loss: 4.6360\n",
            "Epoch 96/100\n",
            "50/50 [==============================] - 0s 2ms/step - loss: 4.6360\n",
            "Epoch 97/100\n",
            "50/50 [==============================] - 0s 2ms/step - loss: 4.6360\n",
            "Epoch 98/100\n",
            "50/50 [==============================] - 0s 2ms/step - loss: 4.6360\n",
            "Epoch 99/100\n",
            "50/50 [==============================] - 0s 2ms/step - loss: 4.6360\n",
            "Epoch 100/100\n",
            "50/50 [==============================] - 0s 3ms/step - loss: 4.6360\n"
          ]
        },
        {
          "output_type": "execute_result",
          "data": {
            "text/plain": [
              "<keras.src.callbacks.History at 0x7cf504c2ef50>"
            ]
          },
          "metadata": {},
          "execution_count": 31
        }
      ]
    },
    {
      "cell_type": "code",
      "source": [
        "# 5.0 Predict\n",
        "pred = model.predict(X)"
      ],
      "metadata": {
        "colab": {
          "base_uri": "https://localhost:8080/"
        },
        "id": "oZ7sDg1gSsjy",
        "outputId": "ecd20ec4-803f-412a-9b8d-4e0ee691583f"
      },
      "execution_count": null,
      "outputs": [
        {
          "output_type": "stream",
          "name": "stdout",
          "text": [
            "50/50 [==============================] - 0s 1ms/step\n"
          ]
        }
      ]
    },
    {
      "cell_type": "code",
      "source": [
        "# 5.1 Round up decimal places\n",
        "pred = np.round(pred)\n"
      ],
      "metadata": {
        "id": "pqj1uXbHTCFB"
      },
      "execution_count": null,
      "outputs": []
    },
    {
      "cell_type": "code",
      "source": [
        "# 5.1.1\n",
        "y.shape"
      ],
      "metadata": {
        "colab": {
          "base_uri": "https://localhost:8080/"
        },
        "id": "WuSpc--7TcO1",
        "outputId": "ce87871b-a695-4f77-e230-ee6273b4dabd"
      },
      "execution_count": null,
      "outputs": [
        {
          "output_type": "execute_result",
          "data": {
            "text/plain": [
              "(1599,)"
            ]
          },
          "metadata": {},
          "execution_count": 155
        }
      ]
    },
    {
      "cell_type": "code",
      "source": [
        "# 5.2 Compare:\n",
        "np.sum(pred == y.values.reshape(1599,1))/1599"
      ],
      "metadata": {
        "colab": {
          "base_uri": "https://localhost:8080/"
        },
        "id": "i2UxyXTMTF-1",
        "outputId": "813ee585-1ecd-46dc-fa43-1c53c5ce6264"
      },
      "execution_count": null,
      "outputs": [
        {
          "output_type": "execute_result",
          "data": {
            "text/plain": [
              "0.5828642901813633"
            ]
          },
          "metadata": {},
          "execution_count": 156
        }
      ]
    },
    {
      "cell_type": "code",
      "source": [
        "######### --------Done ---------------"
      ],
      "metadata": {
        "id": "K8RtiMS3Xt2n"
      },
      "execution_count": null,
      "outputs": []
    }
  ]
}