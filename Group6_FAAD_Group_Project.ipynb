{
  "nbformat": 4,
  "nbformat_minor": 0,
  "metadata": {
    "colab": {
      "provenance": [],
      "authorship_tag": "ABX9TyNCMCa70zFuLi2X1xDyERBW",
      "include_colab_link": true
    },
    "kernelspec": {
      "name": "python3",
      "display_name": "Python 3"
    },
    "language_info": {
      "name": "python"
    }
  },
  "cells": [
    {
      "cell_type": "markdown",
      "metadata": {
        "id": "view-in-github",
        "colab_type": "text"
      },
      "source": [
        "<a href=\"https://colab.research.google.com/github/Adhyatik/MLM-PROJECT-REPORT/blob/main/Group6_FAAD_Group_Project.ipynb\" target=\"_parent\"><img src=\"https://colab.research.google.com/assets/colab-badge.svg\" alt=\"Open In Colab\"/></a>"
      ]
    },
    {
      "cell_type": "markdown",
      "source": [
        "# **Assignment on Fraud Analytics and Anomaly Detection**"
      ],
      "metadata": {
        "id": "Nx-DoHg1P2f6"
      }
    },
    {
      "cell_type": "code",
      "source": [
        "# Importing necessary libraries\n",
        "import pandas as pd\n",
        "from sklearn.model_selection import train_test_split\n",
        "from sklearn.tree import DecisionTreeClassifier, export_text, plot_tree\n",
        "import matplotlib.pyplot as plt"
      ],
      "metadata": {
        "id": "kVdOqfVNP6Qj"
      },
      "execution_count": 1,
      "outputs": []
    },
    {
      "cell_type": "code",
      "source": [
        "import warnings\n",
        "warnings.filterwarnings('ignore')"
      ],
      "metadata": {
        "id": "Sp-aw_XURAmQ"
      },
      "execution_count": 2,
      "outputs": []
    },
    {
      "cell_type": "code",
      "source": [
        "# Step 1: Install the required library\n",
        "!pip install gdown"
      ],
      "metadata": {
        "colab": {
          "base_uri": "https://localhost:8080/"
        },
        "id": "_22neCiOREwm",
        "outputId": "a0fb72ea-4668-402e-f718-6f40636ddf2d"
      },
      "execution_count": 3,
      "outputs": [
        {
          "output_type": "stream",
          "name": "stdout",
          "text": [
            "Requirement already satisfied: gdown in /usr/local/lib/python3.10/dist-packages (5.2.0)\n",
            "Requirement already satisfied: beautifulsoup4 in /usr/local/lib/python3.10/dist-packages (from gdown) (4.12.3)\n",
            "Requirement already satisfied: filelock in /usr/local/lib/python3.10/dist-packages (from gdown) (3.16.1)\n",
            "Requirement already satisfied: requests[socks] in /usr/local/lib/python3.10/dist-packages (from gdown) (2.32.3)\n",
            "Requirement already satisfied: tqdm in /usr/local/lib/python3.10/dist-packages (from gdown) (4.67.1)\n",
            "Requirement already satisfied: soupsieve>1.2 in /usr/local/lib/python3.10/dist-packages (from beautifulsoup4->gdown) (2.6)\n",
            "Requirement already satisfied: charset-normalizer<4,>=2 in /usr/local/lib/python3.10/dist-packages (from requests[socks]->gdown) (3.4.0)\n",
            "Requirement already satisfied: idna<4,>=2.5 in /usr/local/lib/python3.10/dist-packages (from requests[socks]->gdown) (3.10)\n",
            "Requirement already satisfied: urllib3<3,>=1.21.1 in /usr/local/lib/python3.10/dist-packages (from requests[socks]->gdown) (2.2.3)\n",
            "Requirement already satisfied: certifi>=2017.4.17 in /usr/local/lib/python3.10/dist-packages (from requests[socks]->gdown) (2024.12.14)\n",
            "Requirement already satisfied: PySocks!=1.5.7,>=1.5.6 in /usr/local/lib/python3.10/dist-packages (from requests[socks]->gdown) (1.7.1)\n"
          ]
        }
      ]
    },
    {
      "cell_type": "code",
      "source": [
        "# Step 3: Read the CSV file into a DataFrame\n",
        "import pandas as pd\n",
        "df = pd.read_csv('/content/UNSW_NB15_traintest_backdoor.csv')\n",
        "# Step 4: Display a sample of the DataFrame\n",
        "print(df.sample(5))"
      ],
      "metadata": {
        "colab": {
          "base_uri": "https://localhost:8080/"
        },
        "id": "oiTC__7kRX-Q",
        "outputId": "38d2183c-0d5d-4b34-ab9b-81b8d04bf895"
      },
      "execution_count": 4,
      "outputs": [
        {
          "output_type": "stream",
          "name": "stdout",
          "text": [
            "            dur  proto=udp  proto=arp  proto=tcp  proto=igmp  proto=ospf  \\\n",
            "40921  0.000301          0          0          1           0           0   \n",
            "3092   0.000020          1          0          0           0           0   \n",
            "17511  0.018968          0          0          1           0           0   \n",
            "49897  0.011854          0          0          1           0           0   \n",
            "20270  0.010153          0          0          1           0           0   \n",
            "\n",
            "       proto=sctp  proto=gre  proto=ggp  proto=ip  ...  ct_src_dport_ltm  \\\n",
            "40921           0          0          0         0  ...          0.066666   \n",
            "3092            0          0          0         0  ...          0.044445   \n",
            "17511           0          0          0         0  ...          0.000000   \n",
            "49897           0          0          0         0  ...          0.022222   \n",
            "20270           0          0          0         0  ...          0.022222   \n",
            "\n",
            "       ct_dst_sport_ltm  ct_dst_src_ltm  is_ftp_login  ct_ftp_cmd  \\\n",
            "40921          0.000000        0.048387           0.0         0.0   \n",
            "3092           0.000000        0.016129           0.0         0.0   \n",
            "17511          0.000000        0.016129           0.0         0.0   \n",
            "49897          0.022222        0.048387           0.0         0.0   \n",
            "20270          0.000000        0.048387           0.0         0.0   \n",
            "\n",
            "       ct_flw_http_mthd  ct_src_ltm  ct_srv_dst  is_sm_ips_ports  class  \n",
            "40921               0.0    0.173913    0.114754              0.0    0.0  \n",
            "3092                0.0    0.065217    0.065574              0.0    0.0  \n",
            "17511               0.0    0.021739    0.016393              0.0    0.0  \n",
            "49897               0.0    0.065217    0.065574              0.0    0.0  \n",
            "20270               0.0    0.021739    0.049180              0.0    0.0  \n",
            "\n",
            "[5 rows x 197 columns]\n"
          ]
        }
      ]
    },
    {
      "cell_type": "code",
      "source": [
        "import seaborn as sns\n",
        "import matplotlib.pyplot as plt\n",
        "import pandas as pd\n",
        "\n",
        "# Assuming 'class' is the last column name (if not, replace with the actual name)\n",
        "# Re-read the original dataframe to avoid issues from previous cell execution\n",
        "df = pd.read_csv('/content/UNSW_NB15_traintest_backdoor.csv')\n",
        "class_column_name = df.columns[-1]\n",
        "\n",
        "# Fill missing values in 'class' column with the mode (most frequent value)\n",
        "# Check if the column has any values before calculating the mode\n",
        "if not df[class_column_name].empty:\n",
        "    df[class_column_name] = df[class_column_name].fillna(df[class_column_name].mode()[0])\n",
        "\n",
        "# Create a new column 'attack_cat' with 'yes' and 'no' based on 'class'\n",
        "df['attack_cat'] = df[class_column_name].map({0: 'yes', 1: 'no'})\n",
        "\n",
        "# Drop rows with values other than 0 and 1 in the 'class' column\n",
        "df = df[df[class_column_name].isin([0, 1])]\n",
        "\n",
        "# Create a new figure before plotting\n",
        "plt.figure()\n",
        "sns.countplot(x='attack_cat', data=df)\n",
        "plt.title('Distribution of Labels (Yes/No)')\n",
        "plt.xlabel('Label')\n",
        "plt.ylabel('Count')\n",
        "plt.show()"
      ],
      "metadata": {
        "colab": {
          "base_uri": "https://localhost:8080/",
          "height": 472
        },
        "id": "h8WsTsDZSAEO",
        "outputId": "9e2280c4-4076-4db3-9c74-4eb676f285fe"
      },
      "execution_count": 24,
      "outputs": [
        {
          "output_type": "display_data",
          "data": {
            "text/plain": [
              "<Figure size 640x480 with 1 Axes>"
            ],
            "image/png": "[encoded data removed]"
          },
          "metadata": {}
        }
      ]
    },
    {
      "cell_type": "markdown",
      "source": [
        "**COUNT OF MISSING VALUES**"
      ],
      "metadata": {
        "id": "raqVJiBKXbcS"
      }
    },
    {
      "cell_type": "code",
      "source": [
        "missing_values = df.isnull().sum()\n",
        "print(missing_values)\n",
        "missing_percentage = (missing_values / len(df)) * 100\n",
        "missing_percentage"
      ],
      "metadata": {
        "colab": {
          "base_uri": "https://localhost:8080/",
          "height": 666
        },
        "id": "OejjeBF7XkkZ",
        "outputId": "2751cbd0-525c-4c68-8f56-fa2e37290a74"
      },
      "execution_count": 25,
      "outputs": [
        {
          "output_type": "stream",
          "name": "stdout",
          "text": [
            "dur                0\n",
            "proto=udp          0\n",
            "proto=arp          0\n",
            "proto=tcp          0\n",
            "proto=igmp         0\n",
            "                  ..\n",
            "ct_src_ltm         0\n",
            "ct_srv_dst         0\n",
            "is_sm_ips_ports    1\n",
            "class              0\n",
            "attack_cat         0\n",
            "Length: 198, dtype: int64\n"
          ]
        },
        {
          "output_type": "execute_result",
          "data": {
            "text/plain": [
              "dur                0.000000\n",
              "proto=udp          0.000000\n",
              "proto=arp          0.000000\n",
              "proto=tcp          0.000000\n",
              "proto=igmp         0.000000\n",
              "                     ...   \n",
              "ct_src_ltm         0.000000\n",
              "ct_srv_dst         0.000000\n",
              "is_sm_ips_ports    0.001665\n",
              "class              0.000000\n",
              "attack_cat         0.000000\n",
              "Length: 198, dtype: float64"
            ],
            "text/html": [
              "<div>\n",
              "<style scoped>\n",
              "    .dataframe tbody tr th:only-of-type {\n",
              "        vertical-align: middle;\n",
              "    }\n",
              "\n",
              "    .dataframe tbody tr th {\n",
              "        vertical-align: top;\n",
              "    }\n",
              "\n",
              "    .dataframe thead th {\n",
              "        text-align: right;\n",
              "    }\n",
              "</style>\n",
              "<table border=\"1\" class=\"dataframe\">\n",
              "  <thead>\n",
              "    <tr style=\"text-align: right;\">\n",
              "      <th></th>\n",
              "      <th>0</th>\n",
              "    </tr>\n",
              "  </thead>\n",
              "  <tbody>\n",
              "    <tr>\n",
              "      <th>dur</th>\n",
              "      <td>0.000000</td>\n",
              "    </tr>\n",
              "    <tr>\n",
              "      <th>proto=udp</th>\n",
              "      <td>0.000000</td>\n",
              "    </tr>\n",
              "    <tr>\n",
              "      <th>proto=arp</th>\n",
              "      <td>0.000000</td>\n",
              "    </tr>\n",
              "    <tr>\n",
              "      <th>proto=tcp</th>\n",
              "      <td>0.000000</td>\n",
              "    </tr>\n",
              "    <tr>\n",
              "      <th>proto=igmp</th>\n",
              "      <td>0.000000</td>\n",
              "    </tr>\n",
              "    <tr>\n",
              "      <th>...</th>\n",
              "      <td>...</td>\n",
              "    </tr>\n",
              "    <tr>\n",
              "      <th>ct_src_ltm</th>\n",
              "      <td>0.000000</td>\n",
              "    </tr>\n",
              "    <tr>\n",
              "      <th>ct_srv_dst</th>\n",
              "      <td>0.000000</td>\n",
              "    </tr>\n",
              "    <tr>\n",
              "      <th>is_sm_ips_ports</th>\n",
              "      <td>0.001665</td>\n",
              "    </tr>\n",
              "    <tr>\n",
              "      <th>class</th>\n",
              "      <td>0.000000</td>\n",
              "    </tr>\n",
              "    <tr>\n",
              "      <th>attack_cat</th>\n",
              "      <td>0.000000</td>\n",
              "    </tr>\n",
              "  </tbody>\n",
              "</table>\n",
              "<p>198 rows × 1 columns</p>\n",
              "</div><br><label><b>dtype:</b> float64</label>"
            ]
          },
          "metadata": {},
          "execution_count": 25
        }
      ]
    },
    {
      "cell_type": "code",
      "source": [
        "df.shape"
      ],
      "metadata": {
        "colab": {
          "base_uri": "https://localhost:8080/"
        },
        "id": "nVX5PCHmX5Kr",
        "outputId": "66dc6a22-1f89-417d-84ff-898d7f483f85"
      },
      "execution_count": 26,
      "outputs": [
        {
          "output_type": "execute_result",
          "data": {
            "text/plain": [
              "(60070, 198)"
            ]
          },
          "metadata": {},
          "execution_count": 26
        }
      ]
    },
    {
      "cell_type": "markdown",
      "source": [
        "**## Feature selection: Top 10 Features are selected on the basis of the random Forest**"
      ],
      "metadata": {
        "id": "Vy4HebZ-X-hh"
      }
    },
    {
      "cell_type": "code",
      "source": [
        "from sklearn.ensemble import RandomForestClassifier\n",
        "import pandas as pd\n",
        "\n",
        "# Assuming 'df' is your DataFrame and has both features and target columns.\n",
        "# If your target column is named 'class', separate it from features\n",
        "X = df.drop(columns=['attack_cat'])  # Drop target column\n",
        "y = df['attack_cat']  # Target column\n",
        "rf = RandomForestClassifier(n_estimators=100, random_state=42)\n",
        "rf.fit(X, y)\n",
        "importances = rf.feature_importances_\n",
        "# Sort the features by importance\n",
        "feature_names = X.columns\n",
        "important_features = pd.Series(importances, index=feature_names).sort_values(ascending=False)\n",
        "important_features"
      ],
      "metadata": {
        "colab": {
          "base_uri": "https://localhost:8080/",
          "height": 458
        },
        "id": "-0GZeVPWYFd2",
        "outputId": "3195e234-0f14-4418-fb38-c4a400afb731"
      },
      "execution_count": 27,
      "outputs": [
        {
          "output_type": "execute_result",
          "data": {
            "text/plain": [
              "class               0.331005\n",
              "ct_dst_sport_ltm    0.118197\n",
              "proto=unas          0.075853\n",
              "proto=udp           0.059496\n",
              "sbytes              0.059247\n",
              "                      ...   \n",
              "proto=ddp           0.000000\n",
              "proto=sccopmce      0.000000\n",
              "state=ACC           0.000000\n",
              "proto=crtp          0.000000\n",
              "proto=il            0.000000\n",
              "Length: 197, dtype: float64"
            ],
            "text/html": [
              "<div>\n",
              "<style scoped>\n",
              "    .dataframe tbody tr th:only-of-type {\n",
              "        vertical-align: middle;\n",
              "    }\n",
              "\n",
              "    .dataframe tbody tr th {\n",
              "        vertical-align: top;\n",
              "    }\n",
              "\n",
              "    .dataframe thead th {\n",
              "        text-align: right;\n",
              "    }\n",
              "</style>\n",
              "<table border=\"1\" class=\"dataframe\">\n",
              "  <thead>\n",
              "    <tr style=\"text-align: right;\">\n",
              "      <th></th>\n",
              "      <th>0</th>\n",
              "    </tr>\n",
              "  </thead>\n",
              "  <tbody>\n",
              "    <tr>\n",
              "      <th>class</th>\n",
              "      <td>0.331005</td>\n",
              "    </tr>\n",
              "    <tr>\n",
              "      <th>ct_dst_sport_ltm</th>\n",
              "      <td>0.118197</td>\n",
              "    </tr>\n",
              "    <tr>\n",
              "      <th>proto=unas</th>\n",
              "      <td>0.075853</td>\n",
              "    </tr>\n",
              "    <tr>\n",
              "      <th>proto=udp</th>\n",
              "      <td>0.059496</td>\n",
              "    </tr>\n",
              "    <tr>\n",
              "      <th>sbytes</th>\n",
              "      <td>0.059247</td>\n",
              "    </tr>\n",
              "    <tr>\n",
              "      <th>...</th>\n",
              "      <td>...</td>\n",
              "    </tr>\n",
              "    <tr>\n",
              "      <th>proto=ddp</th>\n",
              "      <td>0.000000</td>\n",
              "    </tr>\n",
              "    <tr>\n",
              "      <th>proto=sccopmce</th>\n",
              "      <td>0.000000</td>\n",
              "    </tr>\n",
              "    <tr>\n",
              "      <th>state=ACC</th>\n",
              "      <td>0.000000</td>\n",
              "    </tr>\n",
              "    <tr>\n",
              "      <th>proto=crtp</th>\n",
              "      <td>0.000000</td>\n",
              "    </tr>\n",
              "    <tr>\n",
              "      <th>proto=il</th>\n",
              "      <td>0.000000</td>\n",
              "    </tr>\n",
              "  </tbody>\n",
              "</table>\n",
              "<p>197 rows × 1 columns</p>\n",
              "</div><br><label><b>dtype:</b> float64</label>"
            ]
          },
          "metadata": {},
          "execution_count": 27
        }
      ]
    },
    {
      "cell_type": "code",
      "source": [
        "# Get the top 10 feature names\n",
        "top_10_features = important_features.head(10).index.tolist()\n",
        "\n",
        "# Print the names\n",
        "top_10_features"
      ],
      "metadata": {
        "colab": {
          "base_uri": "https://localhost:8080/"
        },
        "id": "j7oCMgYuYgJ4",
        "outputId": "fab6404e-87cc-4742-872d-25a06415d3bf"
      },
      "execution_count": 28,
      "outputs": [
        {
          "output_type": "execute_result",
          "data": {
            "text/plain": [
              "['class',\n",
              " 'ct_dst_sport_ltm',\n",
              " 'proto=unas',\n",
              " 'proto=udp',\n",
              " 'sbytes',\n",
              " 'smean',\n",
              " 'ct_srv_dst',\n",
              " 'sload',\n",
              " 'ct_srv_src',\n",
              " 'ct_src_dport_ltm']"
            ]
          },
          "metadata": {},
          "execution_count": 28
        }
      ]
    },
    {
      "cell_type": "code",
      "source": [
        "# Select top N features (for example, top 10)\n",
        "selected_features = important_features.head(10).index\n",
        "print(\"Selected Features:\", selected_features)"
      ],
      "metadata": {
        "colab": {
          "base_uri": "https://localhost:8080/"
        },
        "id": "_8IZ3LS9YtNB",
        "outputId": "becbab69-09dd-4692-c98a-f881b8dc3c1f"
      },
      "execution_count": 29,
      "outputs": [
        {
          "output_type": "stream",
          "name": "stdout",
          "text": [
            "Selected Features: Index(['class', 'ct_dst_sport_ltm', 'proto=unas', 'proto=udp', 'sbytes',\n",
            "       'smean', 'ct_srv_dst', 'sload', 'ct_srv_src', 'ct_src_dport_ltm'],\n",
            "      dtype='object')\n"
          ]
        }
      ]
    },
    {
      "cell_type": "markdown",
      "source": [
        "The Selected Features are:-\"'class',\n",
        " 'ct_dst_sport_ltm',\n",
        " 'proto=unas',\n",
        " 'proto=udp',\n",
        " 'sbytes',\n",
        " 'smean',\n",
        " 'ct_srv_dst',\n",
        " 'sload',\n",
        " 'ct_srv_src',\n",
        " 'ct_src_dport_ltm'\""
      ],
      "metadata": {
        "id": "IW93FxRrZmnX"
      }
    },
    {
      "cell_type": "code",
      "source": [
        "# X_selected = X[selected_features]\n",
        "\n",
        "X_selected = X[selected_features]"
      ],
      "metadata": {
        "id": "Y7TLLXxgZ2FE"
      },
      "execution_count": 30,
      "outputs": []
    },
    {
      "cell_type": "markdown",
      "source": [
        "**# SMOTE Sampling**"
      ],
      "metadata": {
        "id": "uXLiPyNQaJMG"
      }
    },
    {
      "cell_type": "code",
      "source": [
        "from imblearn.over_sampling import SMOTE\n",
        "# Apply SMOTE on the entire dataset before splitting\n",
        "smote = SMOTE(random_state=42)\n",
        "X_smote, y_smote = smote.fit_resample(X_selected, y)\n",
        "\n",
        "# Check the class distribution after SMOTE\n",
        "print(\"SMOTE Class Distribution:\\n\", pd.Series(y_smote).value_counts())\n",
        "\n",
        "# Print a sample of the resampled dataset\n",
        "smote_sample = pd.concat([X_smote, y_smote], axis=1)\n",
        "print(\"\\nSMOTE Resampled Dataset Sample:\\n\", smote_sample.head())"
      ],
      "metadata": {
        "colab": {
          "base_uri": "https://localhost:8080/"
        },
        "id": "y3AeQowhaTb-",
        "outputId": "41fc3d28-1bca-49fc-e648-eaf397d668f8"
      },
      "execution_count": 32,
      "outputs": [
        {
          "output_type": "stream",
          "name": "stdout",
          "text": [
            "SMOTE Class Distribution:\n",
            " attack_cat\n",
            "yes    59487\n",
            "no     59487\n",
            "Name: count, dtype: int64\n",
            "\n",
            "SMOTE Resampled Dataset Sample:\n",
            "    class  ct_dst_sport_ltm  proto=unas  proto=udp    sbytes     smean  \\\n",
            "0    0.0               0.0           0          1  0.001397  0.149456   \n",
            "1    0.0               0.0           0          1  0.005123  0.579484   \n",
            "2    0.0               0.0           0          1  0.003091  0.343750   \n",
            "3    0.0               0.0           0          1  0.002583  0.286685   \n",
            "4    0.0               0.0           0          1  0.006181  0.703125   \n",
            "\n",
            "   ct_srv_dst     sload  ct_srv_src  ct_src_dport_ltm attack_cat  \n",
            "0    0.016393  0.033751    0.016129          0.000000        yes  \n",
            "1    0.016393  0.164858    0.016129          0.000000        yes  \n",
            "2    0.032787  0.159880    0.032258          0.000000        yes  \n",
            "3    0.032787  0.112275    0.032258          0.022222        yes  \n",
            "4    0.032787  0.159131    0.032258          0.022222        yes  \n"
          ]
        }
      ]
    },
    {
      "cell_type": "markdown",
      "source": [
        "**DOWNSAMPLING**"
      ],
      "metadata": {
        "id": "f7PwXF4Cdl8I"
      }
    },
    {
      "cell_type": "code",
      "source": [
        "from imblearn.under_sampling import RandomUnderSampler\n",
        "\n",
        "# Apply downsampling on the entire dataset before splitting\n",
        "down_sampler = RandomUnderSampler(random_state=42)\n",
        "X_down, y_down = down_sampler.fit_resample(X_selected, y)\n",
        "\n",
        "# Check the class distribution after downsampling\n",
        "print(\"Downsampled Class Distribution:\\n\", pd.Series(y_down).value_counts())\n",
        "\n",
        "# Print a sample of the resampled dataset\n",
        "down_sample = pd.concat([X_down, y_down], axis=1)\n",
        "print(\"\\nDownsampled Resampled Dataset Sample:\\n\", down_sample.head())"
      ],
      "metadata": {
        "colab": {
          "base_uri": "https://localhost:8080/"
        },
        "id": "xWne4eIEdr2I",
        "outputId": "b643c36a-0e3e-43b7-9395-c919966deb06"
      },
      "execution_count": 33,
      "outputs": [
        {
          "output_type": "stream",
          "name": "stdout",
          "text": [
            "Downsampled Class Distribution:\n",
            " attack_cat\n",
            "no     583\n",
            "yes    583\n",
            "Name: count, dtype: int64\n",
            "\n",
            "Downsampled Resampled Dataset Sample:\n",
            "      class  ct_dst_sport_ltm  proto=unas  proto=udp    sbytes     smean  \\\n",
            "243    1.0          0.000000           0          0  0.003683  0.024456   \n",
            "244    1.0          0.200000           0          0  0.000508  0.048912   \n",
            "245    1.0          0.000000           0          0  0.003006  0.016304   \n",
            "246    1.0          0.022222           0          0  0.000508  0.048912   \n",
            "247    1.0          0.000000           0          0  0.001270  0.011548   \n",
            "\n",
            "     ct_srv_dst     sload  ct_srv_src  ct_src_dport_ltm attack_cat  \n",
            "243    0.000000  0.000002    0.000000          0.000000         no  \n",
            "244    0.147541  0.049901    0.145161          0.199999         no  \n",
            "245    0.000000  0.000003    0.000000          0.000000         no  \n",
            "246    0.032787  0.016634    0.032258          0.022222         no  \n",
            "247    0.000000  0.000002    0.000000          0.000000         no  \n"
          ]
        }
      ]
    },
    {
      "cell_type": "markdown",
      "source": [
        "**UPSAMPLING**"
      ],
      "metadata": {
        "id": "Iqk7tY9eeFdg"
      }
    },
    {
      "cell_type": "code",
      "source": [
        "from imblearn.over_sampling import RandomOverSampler\n",
        "# Apply upsampling on the entire dataset before splitting\n",
        "up_sampler = RandomOverSampler(random_state=42)\n",
        "X_up, y_up = up_sampler.fit_resample(X_selected, y)\n",
        "# Check the class distribution after upsampling\n",
        "print(\"Upsampled Class Distribution:\", pd.Series(y_up).value_counts())\n",
        "# Print a sample of the resampled dataset\n",
        "up_sample = pd.concat([X_up, y_up], axis=1)\n",
        "print(\"Upsampled Resampled Dataset Sample:\\n\", up_sample.head())"
      ],
      "metadata": {
        "colab": {
          "base_uri": "https://localhost:8080/"
        },
        "id": "6iJvbZi9eJSj",
        "outputId": "f7eaa69a-5980-491a-89c2-de83033cebbc"
      },
      "execution_count": 34,
      "outputs": [
        {
          "output_type": "stream",
          "name": "stdout",
          "text": [
            "Upsampled Class Distribution: attack_cat\n",
            "yes    59487\n",
            "no     59487\n",
            "Name: count, dtype: int64\n",
            "Upsampled Resampled Dataset Sample:\n",
            "    class  ct_dst_sport_ltm  proto=unas  proto=udp    sbytes     smean  \\\n",
            "0    0.0               0.0           0          1  0.001397  0.149456   \n",
            "1    0.0               0.0           0          1  0.005123  0.579484   \n",
            "2    0.0               0.0           0          1  0.003091  0.343750   \n",
            "3    0.0               0.0           0          1  0.002583  0.286685   \n",
            "4    0.0               0.0           0          1  0.006181  0.703125   \n",
            "\n",
            "   ct_srv_dst     sload  ct_srv_src  ct_src_dport_ltm attack_cat  \n",
            "0    0.016393  0.033751    0.016129          0.000000        yes  \n",
            "1    0.016393  0.164858    0.016129          0.000000        yes  \n",
            "2    0.032787  0.159880    0.032258          0.000000        yes  \n",
            "3    0.032787  0.112275    0.032258          0.022222        yes  \n",
            "4    0.032787  0.159131    0.032258          0.022222        yes  \n"
          ]
        }
      ]
    },
    {
      "cell_type": "markdown",
      "source": [
        "**ISOLATION FOREST**"
      ],
      "metadata": {
        "id": "LSI452LNelrx"
      }
    },
    {
      "cell_type": "code",
      "source": [
        "from sklearn.ensemble import IsolationForest\n",
        "\n",
        "anomaly_inputs = ['ct_dst_sport_ltm', 'proto=unas', 'proto=udp', 'sbytes', 'smean', 'ct_srv_dst', 'sload', 'ct_srv_src', 'ct_src_dport_ltm', 'class']\n",
        "\n",
        "model_IF = IsolationForest(contamination=0.1, random_state=42)"
      ],
      "metadata": {
        "id": "E-JOh8a3epgo"
      },
      "execution_count": 35,
      "outputs": []
    },
    {
      "cell_type": "markdown",
      "source": [
        "# **Isolation Forest applied on Original Datset**"
      ],
      "metadata": {
        "id": "eP4mo8zefZmo"
      }
    },
    {
      "cell_type": "code",
      "source": [
        "model_IF.fit(df[anomaly_inputs])\n",
        "df['anomaly_scores'] = model_IF.decision_function(df[anomaly_inputs])\n",
        "df['anomaly'] = model_IF.predict(df[anomaly_inputs])\n",
        "df.loc[:, ['ct_dst_sport_ltm', 'proto=unas', 'proto=udp', 'sbytes', 'smean', 'ct_srv_dst', 'sload', 'ct_srv_src', 'ct_src_dport_ltm', 'class', 'anomaly_scores', 'anomaly']]"
      ],
      "metadata": {
        "colab": {
          "base_uri": "https://localhost:8080/",
          "height": 423
        },
        "id": "qnRetlM-fkyl",
        "outputId": "9a77d761-682e-48ce-d0ea-2d0c5d8d273b"
      },
      "execution_count": 38,
      "outputs": [
        {
          "output_type": "execute_result",
          "data": {
            "text/plain": [
              "       ct_dst_sport_ltm  proto=unas  proto=udp    sbytes     smean  \\\n",
              "0                   0.0           0          1  0.001397  0.149456   \n",
              "1                   0.0           0          1  0.005123  0.579484   \n",
              "2                   0.0           0          1  0.003091  0.343750   \n",
              "3                   0.0           0          1  0.002583  0.286685   \n",
              "4                   0.0           0          1  0.006181  0.703125   \n",
              "...                 ...         ...        ...       ...       ...   \n",
              "60065               0.0           0          0  0.026249  0.414402   \n",
              "60066               0.0           0          0  0.008594  0.019022   \n",
              "60067               0.0           0          0  0.012447  0.021060   \n",
              "60068               0.0           0          0  0.005970  0.044158   \n",
              "60069               0.0           0          0  0.001185  0.016984   \n",
              "\n",
              "       ct_srv_dst     sload  ct_srv_src  ct_src_dport_ltm  class  \\\n",
              "0        0.016393  0.033751    0.016129          0.000000    0.0   \n",
              "1        0.016393  0.164858    0.016129          0.000000    0.0   \n",
              "2        0.032787  0.159880    0.032258          0.000000    0.0   \n",
              "3        0.032787  0.112275    0.032258          0.022222    0.0   \n",
              "4        0.032787  0.159131    0.032258          0.022222    0.0   \n",
              "...           ...       ...         ...               ...    ...   \n",
              "60065    0.032787  0.000056    0.032258          0.000000    0.0   \n",
              "60066    0.000000  0.000006    0.000000          0.000000    0.0   \n",
              "60067    0.032787  0.000202    0.064516          0.000000    0.0   \n",
              "60068    0.180328  0.000527    0.112903          0.022222    0.0   \n",
              "60069    0.032787  0.000002    0.032258          0.000000    0.0   \n",
              "\n",
              "       anomaly_scores  anomaly  \n",
              "0            0.008948        1  \n",
              "1           -0.128873       -1  \n",
              "2           -0.077199       -1  \n",
              "3           -0.074062       -1  \n",
              "4           -0.154696       -1  \n",
              "...               ...      ...  \n",
              "60065        0.062426        1  \n",
              "60066        0.135306        1  \n",
              "60067        0.148019        1  \n",
              "60068        0.121723        1  \n",
              "60069        0.149536        1  \n",
              "\n",
              "[60070 rows x 12 columns]"
            ],
            "text/html": [
              "\n",
              "  <div id=\"df-bc3bf9f3-e7e7-439f-8d37-fa56088026b5\" class=\"colab-df-container\">\n",
              "    <div>\n",
              "<style scoped>\n",
              "    .dataframe tbody tr th:only-of-type {\n",
              "        vertical-align: middle;\n",
              "    }\n",
              "\n",
              "    .dataframe tbody tr th {\n",
              "        vertical-align: top;\n",
              "    }\n",
              "\n",
              "    .dataframe thead th {\n",
              "        text-align: right;\n",
              "    }\n",
              "</style>\n",
              "<table border=\"1\" class=\"dataframe\">\n",
              "  <thead>\n",
              "    <tr style=\"text-align: right;\">\n",
              "      <th></th>\n",
              "      <th>ct_dst_sport_ltm</th>\n",
              "      <th>proto=unas</th>\n",
              "      <th>proto=udp</th>\n",
              "      <th>sbytes</th>\n",
              "      <th>smean</th>\n",
              "      <th>ct_srv_dst</th>\n",
              "      <th>sload</th>\n",
              "      <th>ct_srv_src</th>\n",
              "      <th>ct_src_dport_ltm</th>\n",
              "      <th>class</th>\n",
              "      <th>anomaly_scores</th>\n",
              "      <th>anomaly</th>\n",
              "    </tr>\n",
              "  </thead>\n",
              "  <tbody>\n",
              "    <tr>\n",
              "      <th>0</th>\n",
              "      <td>0.0</td>\n",
              "      <td>0</td>\n",
              "      <td>1</td>\n",
              "      <td>0.001397</td>\n",
              "      <td>0.149456</td>\n",
              "      <td>0.016393</td>\n",
              "      <td>0.033751</td>\n",
              "      <td>0.016129</td>\n",
              "      <td>0.000000</td>\n",
              "      <td>0.0</td>\n",
              "      <td>0.008948</td>\n",
              "      <td>1</td>\n",
              "    </tr>\n",
              "    <tr>\n",
              "      <th>1</th>\n",
              "      <td>0.0</td>\n",
              "      <td>0</td>\n",
              "      <td>1</td>\n",
              "      <td>0.005123</td>\n",
              "      <td>0.579484</td>\n",
              "      <td>0.016393</td>\n",
              "      <td>0.164858</td>\n",
              "      <td>0.016129</td>\n",
              "      <td>0.000000</td>\n",
              "      <td>0.0</td>\n",
              "      <td>-0.128873</td>\n",
              "      <td>-1</td>\n",
              "    </tr>\n",
              "    <tr>\n",
              "      <th>2</th>\n",
              "      <td>0.0</td>\n",
              "      <td>0</td>\n",
              "      <td>1</td>\n",
              "      <td>0.003091</td>\n",
              "      <td>0.343750</td>\n",
              "      <td>0.032787</td>\n",
              "      <td>0.159880</td>\n",
              "      <td>0.032258</td>\n",
              "      <td>0.000000</td>\n",
              "      <td>0.0</td>\n",
              "      <td>-0.077199</td>\n",
              "      <td>-1</td>\n",
              "    </tr>\n",
              "    <tr>\n",
              "      <th>3</th>\n",
              "      <td>0.0</td>\n",
              "      <td>0</td>\n",
              "      <td>1</td>\n",
              "      <td>0.002583</td>\n",
              "      <td>0.286685</td>\n",
              "      <td>0.032787</td>\n",
              "      <td>0.112275</td>\n",
              "      <td>0.032258</td>\n",
              "      <td>0.022222</td>\n",
              "      <td>0.0</td>\n",
              "      <td>-0.074062</td>\n",
              "      <td>-1</td>\n",
              "    </tr>\n",
              "    <tr>\n",
              "      <th>4</th>\n",
              "      <td>0.0</td>\n",
              "      <td>0</td>\n",
              "      <td>1</td>\n",
              "      <td>0.006181</td>\n",
              "      <td>0.703125</td>\n",
              "      <td>0.032787</td>\n",
              "      <td>0.159131</td>\n",
              "      <td>0.032258</td>\n",
              "      <td>0.022222</td>\n",
              "      <td>0.0</td>\n",
              "      <td>-0.154696</td>\n",
              "      <td>-1</td>\n",
              "    </tr>\n",
              "    <tr>\n",
              "      <th>...</th>\n",
              "      <td>...</td>\n",
              "      <td>...</td>\n",
              "      <td>...</td>\n",
              "      <td>...</td>\n",
              "      <td>...</td>\n",
              "      <td>...</td>\n",
              "      <td>...</td>\n",
              "      <td>...</td>\n",
              "      <td>...</td>\n",
              "      <td>...</td>\n",
              "      <td>...</td>\n",
              "      <td>...</td>\n",
              "    </tr>\n",
              "    <tr>\n",
              "      <th>60065</th>\n",
              "      <td>0.0</td>\n",
              "      <td>0</td>\n",
              "      <td>0</td>\n",
              "      <td>0.026249</td>\n",
              "      <td>0.414402</td>\n",
              "      <td>0.032787</td>\n",
              "      <td>0.000056</td>\n",
              "      <td>0.032258</td>\n",
              "      <td>0.000000</td>\n",
              "      <td>0.0</td>\n",
              "      <td>0.062426</td>\n",
              "      <td>1</td>\n",
              "    </tr>\n",
              "    <tr>\n",
              "      <th>60066</th>\n",
              "      <td>0.0</td>\n",
              "      <td>0</td>\n",
              "      <td>0</td>\n",
              "      <td>0.008594</td>\n",
              "      <td>0.019022</td>\n",
              "      <td>0.000000</td>\n",
              "      <td>0.000006</td>\n",
              "      <td>0.000000</td>\n",
              "      <td>0.000000</td>\n",
              "      <td>0.0</td>\n",
              "      <td>0.135306</td>\n",
              "      <td>1</td>\n",
              "    </tr>\n",
              "    <tr>\n",
              "      <th>60067</th>\n",
              "      <td>0.0</td>\n",
              "      <td>0</td>\n",
              "      <td>0</td>\n",
              "      <td>0.012447</td>\n",
              "      <td>0.021060</td>\n",
              "      <td>0.032787</td>\n",
              "      <td>0.000202</td>\n",
              "      <td>0.064516</td>\n",
              "      <td>0.000000</td>\n",
              "      <td>0.0</td>\n",
              "      <td>0.148019</td>\n",
              "      <td>1</td>\n",
              "    </tr>\n",
              "    <tr>\n",
              "      <th>60068</th>\n",
              "      <td>0.0</td>\n",
              "      <td>0</td>\n",
              "      <td>0</td>\n",
              "      <td>0.005970</td>\n",
              "      <td>0.044158</td>\n",
              "      <td>0.180328</td>\n",
              "      <td>0.000527</td>\n",
              "      <td>0.112903</td>\n",
              "      <td>0.022222</td>\n",
              "      <td>0.0</td>\n",
              "      <td>0.121723</td>\n",
              "      <td>1</td>\n",
              "    </tr>\n",
              "    <tr>\n",
              "      <th>60069</th>\n",
              "      <td>0.0</td>\n",
              "      <td>0</td>\n",
              "      <td>0</td>\n",
              "      <td>0.001185</td>\n",
              "      <td>0.016984</td>\n",
              "      <td>0.032787</td>\n",
              "      <td>0.000002</td>\n",
              "      <td>0.032258</td>\n",
              "      <td>0.000000</td>\n",
              "      <td>0.0</td>\n",
              "      <td>0.149536</td>\n",
              "      <td>1</td>\n",
              "    </tr>\n",
              "  </tbody>\n",
              "</table>\n",
              "<p>60070 rows × 12 columns</p>\n",
              "</div>\n",
              "    <div class=\"colab-df-buttons\">\n",
              "\n",
              "  <div class=\"colab-df-container\">\n",
              "    <button class=\"colab-df-convert\" onclick=\"convertToInteractive('df-bc3bf9f3-e7e7-439f-8d37-fa56088026b5')\"\n",
              "            title=\"Convert this dataframe to an interactive table.\"\n",
              "            style=\"display:none;\">\n",
              "\n",
              "  <svg xmlns=\"http://www.w3.org/2000/svg\" height=\"24px\" viewBox=\"0 -960 960 960\">\n",
              "    <path d=\"M120-120v-720h720v720H120Zm60-500h600v-160H180v160Zm220 220h160v-160H400v160Zm0 220h160v-160H400v160ZM180-400h160v-160H180v160Zm440 0h160v-160H620v160ZM180-180h160v-160H180v160Zm440 0h160v-160H620v160Z\"/>\n",
              "  </svg>\n",
              "    </button>\n",
              "\n",
              "  <style>\n",
              "    .colab-df-container {\n",
              "      display:flex;\n",
              "      gap: 12px;\n",
              "    }\n",
              "\n",
              "    .colab-df-convert {\n",
              "      background-color: #E8F0FE;\n",
              "      border: none;\n",
              "      border-radius: 50%;\n",
              "      cursor: pointer;\n",
              "      display: none;\n",
              "      fill: #1967D2;\n",
              "      height: 32px;\n",
              "      padding: 0 0 0 0;\n",
              "      width: 32px;\n",
              "    }\n",
              "\n",
              "    .colab-df-convert:hover {\n",
              "      background-color: #E2EBFA;\n",
              "      box-shadow: 0px 1px 2px rgba(60, 64, 67, 0.3), 0px 1px 3px 1px rgba(60, 64, 67, 0.15);\n",
              "      fill: #174EA6;\n",
              "    }\n",
              "\n",
              "    .colab-df-buttons div {\n",
              "      margin-bottom: 4px;\n",
              "    }\n",
              "\n",
              "    [theme=dark] .colab-df-convert {\n",
              "      background-color: #3B4455;\n",
              "      fill: #D2E3FC;\n",
              "    }\n",
              "\n",
              "    [theme=dark] .colab-df-convert:hover {\n",
              "      background-color: #434B5C;\n",
              "      box-shadow: 0px 1px 3px 1px rgba(0, 0, 0, 0.15);\n",
              "      filter: drop-shadow(0px 1px 2px rgba(0, 0, 0, 0.3));\n",
              "      fill: #FFFFFF;\n",
              "    }\n",
              "  </style>\n",
              "\n",
              "    <script>\n",
              "      const buttonEl =\n",
              "        document.querySelector('#df-bc3bf9f3-e7e7-439f-8d37-fa56088026b5 button.colab-df-convert');\n",
              "      buttonEl.style.display =\n",
              "        google.colab.kernel.accessAllowed ? 'block' : 'none';\n",
              "\n",
              "      async function convertToInteractive(key) {\n",
              "        const element = document.querySelector('#df-bc3bf9f3-e7e7-439f-8d37-fa56088026b5');\n",
              "        const dataTable =\n",
              "          await google.colab.kernel.invokeFunction('convertToInteractive',\n",
              "                                                    [key], {});\n",
              "        if (!dataTable) return;\n",
              "\n",
              "        const docLinkHtml = 'Like what you see? Visit the ' +\n",
              "          '<a target=\"_blank\" href=https://colab.research.google.com/notebooks/data_table.ipynb>data table notebook</a>'\n",
              "          + ' to learn more about interactive tables.';\n",
              "        element.innerHTML = '';\n",
              "        dataTable['output_type'] = 'display_data';\n",
              "        await google.colab.output.renderOutput(dataTable, element);\n",
              "        const docLink = document.createElement('div');\n",
              "        docLink.innerHTML = docLinkHtml;\n",
              "        element.appendChild(docLink);\n",
              "      }\n",
              "    </script>\n",
              "  </div>\n",
              "\n",
              "\n",
              "<div id=\"df-71f5f36d-8180-41d9-aa8c-d38e276ce3ef\">\n",
              "  <button class=\"colab-df-quickchart\" onclick=\"quickchart('df-71f5f36d-8180-41d9-aa8c-d38e276ce3ef')\"\n",
              "            title=\"Suggest charts\"\n",
              "            style=\"display:none;\">\n",
              "\n",
              "<svg xmlns=\"http://www.w3.org/2000/svg\" height=\"24px\"viewBox=\"0 0 24 24\"\n",
              "     width=\"24px\">\n",
              "    <g>\n",
              "        <path d=\"M19 3H5c-1.1 0-2 .9-2 2v14c0 1.1.9 2 2 2h14c1.1 0 2-.9 2-2V5c0-1.1-.9-2-2-2zM9 17H7v-7h2v7zm4 0h-2V7h2v10zm4 0h-2v-4h2v4z\"/>\n",
              "    </g>\n",
              "</svg>\n",
              "  </button>\n",
              "\n",
              "<style>\n",
              "  .colab-df-quickchart {\n",
              "      --bg-color: #E8F0FE;\n",
              "      --fill-color: #1967D2;\n",
              "      --hover-bg-color: #E2EBFA;\n",
              "      --hover-fill-color: #174EA6;\n",
              "      --disabled-fill-color: #AAA;\n",
              "      --disabled-bg-color: #DDD;\n",
              "  }\n",
              "\n",
              "  [theme=dark] .colab-df-quickchart {\n",
              "      --bg-color: #3B4455;\n",
              "      --fill-color: #D2E3FC;\n",
              "      --hover-bg-color: #434B5C;\n",
              "      --hover-fill-color: #FFFFFF;\n",
              "      --disabled-bg-color: #3B4455;\n",
              "      --disabled-fill-color: #666;\n",
              "  }\n",
              "\n",
              "  .colab-df-quickchart {\n",
              "    background-color: var(--bg-color);\n",
              "    border: none;\n",
              "    border-radius: 50%;\n",
              "    cursor: pointer;\n",
              "    display: none;\n",
              "    fill: var(--fill-color);\n",
              "    height: 32px;\n",
              "    padding: 0;\n",
              "    width: 32px;\n",
              "  }\n",
              "\n",
              "  .colab-df-quickchart:hover {\n",
              "    background-color: var(--hover-bg-color);\n",
              "    box-shadow: 0 1px 2px rgba(60, 64, 67, 0.3), 0 1px 3px 1px rgba(60, 64, 67, 0.15);\n",
              "    fill: var(--button-hover-fill-color);\n",
              "  }\n",
              "\n",
              "  .colab-df-quickchart-complete:disabled,\n",
              "  .colab-df-quickchart-complete:disabled:hover {\n",
              "    background-color: var(--disabled-bg-color);\n",
              "    fill: var(--disabled-fill-color);\n",
              "    box-shadow: none;\n",
              "  }\n",
              "\n",
              "  .colab-df-spinner {\n",
              "    border: 2px solid var(--fill-color);\n",
              "    border-color: transparent;\n",
              "    border-bottom-color: var(--fill-color);\n",
              "    animation:\n",
              "      spin 1s steps(1) infinite;\n",
              "  }\n",
              "\n",
              "  @keyframes spin {\n",
              "    0% {\n",
              "      border-color: transparent;\n",
              "      border-bottom-color: var(--fill-color);\n",
              "      border-left-color: var(--fill-color);\n",
              "    }\n",
              "    20% {\n",
              "      border-color: transparent;\n",
              "      border-left-color: var(--fill-color);\n",
              "      border-top-color: var(--fill-color);\n",
              "    }\n",
              "    30% {\n",
              "      border-color: transparent;\n",
              "      border-left-color: var(--fill-color);\n",
              "      border-top-color: var(--fill-color);\n",
              "      border-right-color: var(--fill-color);\n",
              "    }\n",
              "    40% {\n",
              "      border-color: transparent;\n",
              "      border-right-color: var(--fill-color);\n",
              "      border-top-color: var(--fill-color);\n",
              "    }\n",
              "    60% {\n",
              "      border-color: transparent;\n",
              "      border-right-color: var(--fill-color);\n",
              "    }\n",
              "    80% {\n",
              "      border-color: transparent;\n",
              "      border-right-color: var(--fill-color);\n",
              "      border-bottom-color: var(--fill-color);\n",
              "    }\n",
              "    90% {\n",
              "      border-color: transparent;\n",
              "      border-bottom-color: var(--fill-color);\n",
              "    }\n",
              "  }\n",
              "</style>\n",
              "\n",
              "  <script>\n",
              "    async function quickchart(key) {\n",
              "      const quickchartButtonEl =\n",
              "        document.querySelector('#' + key + ' button');\n",
              "      quickchartButtonEl.disabled = true;  // To prevent multiple clicks.\n",
              "      quickchartButtonEl.classList.add('colab-df-spinner');\n",
              "      try {\n",
              "        const charts = await google.colab.kernel.invokeFunction(\n",
              "            'suggestCharts', [key], {});\n",
              "      } catch (error) {\n",
              "        console.error('Error during call to suggestCharts:', error);\n",
              "      }\n",
              "      quickchartButtonEl.classList.remove('colab-df-spinner');\n",
              "      quickchartButtonEl.classList.add('colab-df-quickchart-complete');\n",
              "    }\n",
              "    (() => {\n",
              "      let quickchartButtonEl =\n",
              "        document.querySelector('#df-71f5f36d-8180-41d9-aa8c-d38e276ce3ef button');\n",
              "      quickchartButtonEl.style.display =\n",
              "        google.colab.kernel.accessAllowed ? 'block' : 'none';\n",
              "    })();\n",
              "  </script>\n",
              "</div>\n",
              "\n",
              "    </div>\n",
              "  </div>\n"
            ],
            "application/vnd.google.colaboratory.intrinsic+json": {
              "type": "dataframe",
              "summary": "{\n  \"name\": \"df\",\n  \"rows\": 60070,\n  \"fields\": [\n    {\n      \"column\": \"ct_dst_sport_ltm\",\n      \"properties\": {\n        \"dtype\": \"number\",\n        \"std\": 0.037001823459954813,\n        \"min\": 0.0,\n        \"max\": 1.0,\n        \"num_unique_values\": 12,\n        \"samples\": [\n          0.8,\n          0.488889,\n          0.0\n        ],\n        \"semantic_type\": \"\",\n        \"description\": \"\"\n      }\n    },\n    {\n      \"column\": \"proto=unas\",\n      \"properties\": {\n        \"dtype\": \"number\",\n        \"std\": 0,\n        \"min\": 0,\n        \"max\": 1,\n        \"num_unique_values\": 2,\n        \"samples\": [\n          1,\n          0\n        ],\n        \"semantic_type\": \"\",\n        \"description\": \"\"\n      }\n    },\n    {\n      \"column\": \"proto=udp\",\n      \"properties\": {\n        \"dtype\": \"number\",\n        \"std\": 0,\n        \"min\": 0,\n        \"max\": 1,\n        \"num_unique_values\": 2,\n        \"samples\": [\n          0,\n          1\n        ],\n        \"semantic_type\": \"\",\n        \"description\": \"\"\n      }\n    },\n    {\n      \"column\": \"sbytes\",\n      \"properties\": {\n        \"dtype\": \"number\",\n        \"std\": 0.037217766271376566,\n        \"min\": 0.0,\n        \"max\": 1.0,\n        \"num_unique_values\": 1019,\n        \"samples\": [\n          0.067189,\n          0.002667\n        ],\n        \"semantic_type\": \"\",\n        \"description\": \"\"\n      }\n    },\n    {\n      \"column\": \"smean\",\n      \"properties\": {\n        \"dtype\": \"number\",\n        \"std\": 0.12987960636994894,\n        \"min\": 0.0,\n        \"max\": 1.0,\n        \"num_unique_values\": 874,\n        \"samples\": [\n          0.791441,\n          0.275135\n        ],\n        \"semantic_type\": \"\",\n        \"description\": \"\"\n      }\n    },\n    {\n      \"column\": \"ct_srv_dst\",\n      \"properties\": {\n        \"dtype\": \"number\",\n        \"std\": 0.09408436875054961,\n        \"min\": 0.0,\n        \"max\": 1.0,\n        \"num_unique_values\": 42,\n        \"samples\": [\n          0.540984,\n          0.081967\n        ],\n        \"semantic_type\": \"\",\n        \"description\": \"\"\n      }\n    },\n    {\n      \"column\": \"sload\",\n      \"properties\": {\n        \"dtype\": \"number\",\n        \"std\": 0.028896478007093558,\n        \"min\": 0.0,\n        \"max\": 0.817365,\n        \"num_unique_values\": 2699,\n        \"samples\": [\n          0.15,\n          0.147155\n        ],\n        \"semantic_type\": \"\",\n        \"description\": \"\"\n      }\n    },\n    {\n      \"column\": \"ct_srv_src\",\n      \"properties\": {\n        \"dtype\": \"number\",\n        \"std\": 0.09628446567934151,\n        \"min\": 0.0,\n        \"max\": 1.0,\n        \"num_unique_values\": 44,\n        \"samples\": [\n          0.548387,\n          0.322581\n        ],\n        \"semantic_type\": \"\",\n        \"description\": \"\"\n      }\n    },\n    {\n      \"column\": \"ct_src_dport_ltm\",\n      \"properties\": {\n        \"dtype\": \"number\",\n        \"std\": 0.05670528158776789,\n        \"min\": 0.0,\n        \"max\": 1.0,\n        \"num_unique_values\": 22,\n        \"samples\": [\n          0.0,\n          0.266667\n        ],\n        \"semantic_type\": \"\",\n        \"description\": \"\"\n      }\n    },\n    {\n      \"column\": \"class\",\n      \"properties\": {\n        \"dtype\": \"number\",\n        \"std\": 0.09803728918023849,\n        \"min\": 0.0,\n        \"max\": 1.0,\n        \"num_unique_values\": 2,\n        \"samples\": [\n          1.0,\n          0.0\n        ],\n        \"semantic_type\": \"\",\n        \"description\": \"\"\n      }\n    },\n    {\n      \"column\": \"anomaly_scores\",\n      \"properties\": {\n        \"dtype\": \"number\",\n        \"std\": 0.07291617639661542,\n        \"min\": -0.2929788550576977,\n        \"max\": 0.15544162276486562,\n        \"num_unique_values\": 21459,\n        \"samples\": [\n          0.13996684698199452,\n          0.153660050720276\n        ],\n        \"semantic_type\": \"\",\n        \"description\": \"\"\n      }\n    },\n    {\n      \"column\": \"anomaly\",\n      \"properties\": {\n        \"dtype\": \"number\",\n        \"std\": 0,\n        \"min\": -1,\n        \"max\": 1,\n        \"num_unique_values\": 2,\n        \"samples\": [\n          -1,\n          1\n        ],\n        \"semantic_type\": \"\",\n        \"description\": \"\"\n      }\n    }\n  ]\n}"
            }
          },
          "metadata": {},
          "execution_count": 38
        }
      ]
    },
    {
      "cell_type": "code",
      "source": [
        "import seaborn as sns\n",
        "import matplotlib.pyplot as plt # This should be outside the function\n",
        "\n",
        "def outlier_plot(data, outlier_method_name, x_var, y_var,\n",
        "                 xaxis_limits=[0,1], yaxis_limits=[0,1]):\n",
        "    print(f'Outlier Method: {outlier_method_name}')\n",
        "    # Compute anomaly counts\n",
        "    num_anomalies = len(data[data['anomaly'] == -1])\n",
        "    num_inliers = len(data[data['anomaly'] == 1])\n",
        "    total_values = len(data)\n",
        "    # Calculate anomaly percentage\n",
        "    anomaly_percentage = (num_anomalies / total_values) * 100\n",
        "    print(f\"Number of anomalous values: {num_anomalies}\")\n",
        "    print(f\"Number of non-anomalous values: {num_inliers}\")\n",
        "    print(f\"Total number of values: {total_values}\")\n",
        "    print(f\"Percentage of anomalous values: {anomaly_percentage:.2f}%\")\n",
        "    # Create FacetGrid plot\n",
        "    g = sns.FacetGrid(data, col='anomaly', height=4, hue='anomaly', hue_order=[1, -1], aspect=1.5) # Added aspect for better visualization\n",
        "    g.map(sns.scatterplot, x_var, y_var)\n",
        "    # Customize plot title and axes\n",
        "    g.fig.suptitle(f'Outlier Method: {outlier_method_name}', y=1.10, fontweight='bold')\n",
        "    g.set(xlim=xaxis_limits, ylim=yaxis_limits)  # Use provided limits if specified\n",
        "    axes = g.axes.flatten()\n",
        "    axes[0].set_title(f\"Outliers\\n{num_anomalies} points ({anomaly_percentage:.2f}%)\")\n",
        "    axes[1].set_title(f\"Inliers\\n{num_inliers} points ({100 - anomaly_percentage:.2f}%)\")\n",
        "    plt.tight_layout() # Improves spacing between subplots\n",
        "    plt.show() # To display the plot\n",
        "    return g\n",
        "\n",
        "outlier_plot(df, 'Isolation Forest', 'ct_dst_sport_ltm', 'sbytes', [0, df['ct_dst_sport_ltm'].max() * 1.2], [0, df['sbytes'].max() * 1.2]); #Passing x and y limits for dynamic scaling"
      ],
      "metadata": {
        "colab": {
          "base_uri": "https://localhost:8080/",
          "height": 549
        },
        "id": "UdCL9gK-hsxt",
        "outputId": "bf557fec-1942-4e86-9df3-5dbfbd61008a"
      },
      "execution_count": 41,
      "outputs": [
        {
          "output_type": "stream",
          "name": "stdout",
          "text": [
            "Outlier Method: Isolation Forest\n",
            "Number of anomalous values: 6006\n",
            "Number of non-anomalous values: 54064\n",
            "Total number of values: 60070\n",
            "Percentage of anomalous values: 10.00%\n"
          ]
        },
        {
          "output_type": "display_data",
          "data": {
            "text/plain": [
              "<Figure size 1200x400 with 2 Axes>"
            ],
            "image/png": "[encoded data removed]"
          },
          "metadata": {}
        }
      ]
    },
    {
      "cell_type": "markdown",
      "source": [
        "# **Isolation Forest on SMOTE**"
      ],
      "metadata": {
        "id": "NSR8bpDfi4et"
      }
    },
    {
      "cell_type": "code",
      "source": [
        "model_IF.fit(smote_sample[anomaly_inputs])\n",
        "smote_sample['anomaly_scores'] = model_IF.decision_function(smote_sample[anomaly_inputs])\n",
        "smote_sample['anomaly'] = model_IF.predict(smote_sample[anomaly_inputs])\n",
        "outlier_plot(smote_sample, 'Isolation Forest', 'ct_dst_sport_ltm', 'sbytes', [0, smote_sample['ct_dst_sport_ltm'].max() * 1.2], [0, smote_sample['sbytes'].max() * 1.2]);"
      ],
      "metadata": {
        "colab": {
          "base_uri": "https://localhost:8080/",
          "height": 549
        },
        "id": "Ahu2JDIUi6BR",
        "outputId": "a717c810-a4df-444c-d9ef-b1ff3a5d4ef8"
      },
      "execution_count": 42,
      "outputs": [
        {
          "output_type": "stream",
          "name": "stdout",
          "text": [
            "Outlier Method: Isolation Forest\n",
            "Number of anomalous values: 11898\n",
            "Number of non-anomalous values: 107076\n",
            "Total number of values: 118974\n",
            "Percentage of anomalous values: 10.00%\n"
          ]
        },
        {
          "output_type": "display_data",
          "data": {
            "text/plain": [
              "<Figure size 1200x400 with 2 Axes>"
            ],
            "image/png": "[encoded data removed]"
          },
          "metadata": {}
        }
      ]
    },
    {
      "cell_type": "markdown",
      "source": [
        "# **Isolation Forest on UPSAMPLE**"
      ],
      "metadata": {
        "id": "9m4nyMBaj261"
      }
    },
    {
      "cell_type": "code",
      "source": [
        "model_IF.fit(up_sample[anomaly_inputs])\n",
        "up_sample['anomaly_scores'] = model_IF.decision_function(up_sample[anomaly_inputs])\n",
        "up_sample['anomaly'] = model_IF.predict(up_sample[anomaly_inputs])\n",
        "outlier_plot(up_sample, 'Isolation Forest', 'ct_dst_sport_ltm', 'sbytes', [0, up_sample['ct_dst_sport_ltm'].max() * 1.2], [0, up_sample['sbytes'].max() * 1.2]);"
      ],
      "metadata": {
        "colab": {
          "base_uri": "https://localhost:8080/",
          "height": 549
        },
        "id": "4KReaczJj4Mk",
        "outputId": "bb0dacf6-3342-40ad-a63b-53d74b041264"
      },
      "execution_count": 43,
      "outputs": [
        {
          "output_type": "stream",
          "name": "stdout",
          "text": [
            "Outlier Method: Isolation Forest\n",
            "Number of anomalous values: 11898\n",
            "Number of non-anomalous values: 107076\n",
            "Total number of values: 118974\n",
            "Percentage of anomalous values: 10.00%\n"
          ]
        },
        {
          "output_type": "display_data",
          "data": {
            "text/plain": [
              "<Figure size 1200x400 with 2 Axes>"
            ],
            "image/png": "[encoded data removed]"
          },
          "metadata": {}
        }
      ]
    },
    {
      "cell_type": "markdown",
      "source": [
        "\n",
        "\n",
        "# **Isolation Forest on Downsample**"
      ],
      "metadata": {
        "id": "bF9hWDJEkONc"
      }
    },
    {
      "cell_type": "code",
      "source": [
        "model_IF.fit(down_sample[anomaly_inputs])\n",
        "down_sample['anomaly_scores'] = model_IF.decision_function(down_sample[anomaly_inputs])\n",
        "down_sample['anomaly'] = model_IF.predict(down_sample[anomaly_inputs])\n",
        "outlier_plot(down_sample, 'Isolation Forest', 'ct_dst_sport_ltm', 'sbytes', [0, down_sample['ct_dst_sport_ltm'].max() * 1.2], [0, down_sample['sbytes'].max() * 1.2]);"
      ],
      "metadata": {
        "colab": {
          "base_uri": "https://localhost:8080/",
          "height": 549
        },
        "id": "B2JHPRXmkTCd",
        "outputId": "3c5d9e44-0d8b-4112-dec9-f5c94e548d15"
      },
      "execution_count": 44,
      "outputs": [
        {
          "output_type": "stream",
          "name": "stdout",
          "text": [
            "Outlier Method: Isolation Forest\n",
            "Number of anomalous values: 117\n",
            "Number of non-anomalous values: 1049\n",
            "Total number of values: 1166\n",
            "Percentage of anomalous values: 10.03%\n"
          ]
        },
        {
          "output_type": "display_data",
          "data": {
            "text/plain": [
              "<Figure size 1200x400 with 2 Axes>"
            ],
            "image/png": "[encoded data removed]"
          },
          "metadata": {}
        }
      ]
    },
    {
      "cell_type": "markdown",
      "source": [
        "# **Splitting**"
      ],
      "metadata": {
        "id": "5SwQe1dFkmVj"
      }
    },
    {
      "cell_type": "markdown",
      "source": [
        "## **Splitting the SMOTE Dataset**"
      ],
      "metadata": {
        "id": "rXdzUBrpkrwO"
      }
    },
    {
      "cell_type": "code",
      "source": [
        "X_train_smote, X_test_smote, y_train_smote, y_test_smote = train_test_split(X_smote, y_smote, test_size=0.25, random_state=42, stratify=y_smote)"
      ],
      "metadata": {
        "id": "xklYX-X6ky_a"
      },
      "execution_count": 46,
      "outputs": []
    },
    {
      "cell_type": "markdown",
      "source": [
        "## **Splitting the Downsampled Dataset**\n"
      ],
      "metadata": {
        "id": "DZS_UZrUlF3e"
      }
    },
    {
      "cell_type": "code",
      "source": [
        "X_train_down, X_test_down, y_train_down, y_test_down = train_test_split(X_down, y_down, test_size=0.25, random_state=42, stratify=y_down)"
      ],
      "metadata": {
        "id": "J2re0By5lLOJ"
      },
      "execution_count": 47,
      "outputs": []
    },
    {
      "cell_type": "markdown",
      "source": [
        "## **Splitting the Upsampled Dataset**\n"
      ],
      "metadata": {
        "id": "ipTAiIsDlaSJ"
      }
    },
    {
      "cell_type": "code",
      "source": [
        "# Split the upsampled dataset\n",
        "X_train_up, X_test_up, y_train_up, y_test_up = train_test_split(X_up, y_up, test_size=0.25, random_state=42)"
      ],
      "metadata": {
        "id": "8NGVGQ7Zlswn"
      },
      "execution_count": 48,
      "outputs": []
    },
    {
      "cell_type": "markdown",
      "source": [
        "**ANN**"
      ],
      "metadata": {
        "id": "Zd642dBKlzme"
      }
    },
    {
      "cell_type": "code",
      "source": [
        "import tensorflow as tf\n",
        "from tensorflow import keras\n",
        "import pandas as pd\n",
        "\n",
        "# Assuming X_train_smote contains string columns, you need to convert them to numerical\n",
        "# Replace 'string_column_name1', 'string_column_name2' etc. with the actual names\n",
        "# of your string columns in X_train_smote\n",
        "for column in X_train_smote.select_dtypes(include=['object']).columns:\n",
        "    X_train_smote[column] = pd.factorize(X_train_smote[column])[0]\n",
        "\n",
        "# Ensure y_train_smote is also numerical (0 and 1) if it's not already:\n",
        "y_train_smote = pd.factorize(y_train_smote)[0]\n",
        "\n",
        "model = keras.Sequential([\n",
        "    keras.layers.Dense(26, input_shape=(X_train_smote.shape[1],), activation='relu'), # Adjusted input_shape\n",
        "    keras.layers.Dense(15, activation='relu'),\n",
        "    keras.layers.Dense(1, activation='sigmoid')\n",
        "])\n",
        "\n",
        "model.compile(optimizer='adam',\n",
        "              loss='binary_crossentropy',\n",
        "              metrics=['accuracy'])\n",
        "\n",
        "model.fit(X_train_smote, y_train_smote, epochs=100)"
      ],
      "metadata": {
        "colab": {
          "base_uri": "https://localhost:8080/"
        },
        "id": "zlJrMK5al2gG",
        "outputId": "c1375ca2-9300-4f8b-a971-8578cd8a4b2a"
      },
      "execution_count": 50,
      "outputs": [
        {
          "output_type": "stream",
          "name": "stdout",
          "text": [
            "Epoch 1/100\n",
            "\u001b[1m2789/2789\u001b[0m \u001b[32m━━━━━━━━━━━━━━━━━━━━\u001b[0m\u001b[37m\u001b[0m \u001b[1m7s\u001b[0m 2ms/step - accuracy: 0.9900 - loss: 0.1065\n",
            "Epoch 2/100\n",
            "\u001b[1m2789/2789\u001b[0m \u001b[32m━━━━━━━━━━━━━━━━━━━━\u001b[0m\u001b[37m\u001b[0m \u001b[1m4s\u001b[0m 2ms/step - accuracy: 1.0000 - loss: 1.8991e-05\n",
            "Epoch 3/100\n",
            "\u001b[1m2789/2789\u001b[0m \u001b[32m━━━━━━━━━━━━━━━━━━━━\u001b[0m\u001b[37m\u001b[0m \u001b[1m5s\u001b[0m 1ms/step - accuracy: 1.0000 - loss: 2.5922e-06\n",
            "Epoch 4/100\n",
            "\u001b[1m2789/2789\u001b[0m \u001b[32m━━━━━━━━━━━━━━━━━━━━\u001b[0m\u001b[37m\u001b[0m \u001b[1m6s\u001b[0m 2ms/step - accuracy: 1.0000 - loss: 4.6872e-07\n",
            "Epoch 5/100\n",
            "\u001b[1m2789/2789\u001b[0m \u001b[32m━━━━━━━━━━━━━━━━━━━━\u001b[0m\u001b[37m\u001b[0m \u001b[1m4s\u001b[0m 1ms/step - accuracy: 1.0000 - loss: 9.4094e-08\n",
            "Epoch 6/100\n",
            "\u001b[1m2789/2789\u001b[0m \u001b[32m━━━━━━━━━━━━━━━━━━━━\u001b[0m\u001b[37m\u001b[0m \u001b[1m4s\u001b[0m 1ms/step - accuracy: 1.0000 - loss: 2.1464e-08\n",
            "Epoch 7/100\n",
            "\u001b[1m2789/2789\u001b[0m \u001b[32m━━━━━━━━━━━━━━━━━━━━\u001b[0m\u001b[37m\u001b[0m \u001b[1m7s\u001b[0m 2ms/step - accuracy: 1.0000 - loss: 7.1952e-09\n",
            "Epoch 8/100\n",
            "\u001b[1m2789/2789\u001b[0m \u001b[32m━━━━━━━━━━━━━━━━━━━━\u001b[0m\u001b[37m\u001b[0m \u001b[1m4s\u001b[0m 1ms/step - accuracy: 1.0000 - loss: 4.1173e-09\n",
            "Epoch 9/100\n",
            "\u001b[1m2789/2789\u001b[0m \u001b[32m━━━━━━━━━━━━━━━━━━━━\u001b[0m\u001b[37m\u001b[0m \u001b[1m4s\u001b[0m 1ms/step - accuracy: 1.0000 - loss: 3.4801e-09\n",
            "Epoch 10/100\n",
            "\u001b[1m2789/2789\u001b[0m \u001b[32m━━━━━━━━━━━━━━━━━━━━\u001b[0m\u001b[37m\u001b[0m \u001b[1m7s\u001b[0m 2ms/step - accuracy: 1.0000 - loss: 3.2092e-09\n",
            "Epoch 11/100\n",
            "\u001b[1m2789/2789\u001b[0m \u001b[32m━━━━━━━━━━━━━━━━━━━━\u001b[0m\u001b[37m\u001b[0m \u001b[1m4s\u001b[0m 1ms/step - accuracy: 1.0000 - loss: 2.9804e-09\n",
            "Epoch 12/100\n",
            "\u001b[1m2789/2789\u001b[0m \u001b[32m━━━━━━━━━━━━━━━━━━━━\u001b[0m\u001b[37m\u001b[0m \u001b[1m4s\u001b[0m 1ms/step - accuracy: 1.0000 - loss: 2.8168e-09\n",
            "Epoch 13/100\n",
            "\u001b[1m2789/2789\u001b[0m \u001b[32m━━━━━━━━━━━━━━━━━━━━\u001b[0m\u001b[37m\u001b[0m \u001b[1m6s\u001b[0m 2ms/step - accuracy: 1.0000 - loss: 2.6789e-09\n",
            "Epoch 14/100\n",
            "\u001b[1m2789/2789\u001b[0m \u001b[32m━━━━━━━━━━━━━━━━━━━━\u001b[0m\u001b[37m\u001b[0m \u001b[1m4s\u001b[0m 1ms/step - accuracy: 1.0000 - loss: 2.6076e-09\n",
            "Epoch 15/100\n",
            "\u001b[1m2789/2789\u001b[0m \u001b[32m━━━━━━━━━━━━━━━━━━━━\u001b[0m\u001b[37m\u001b[0m \u001b[1m4s\u001b[0m 2ms/step - accuracy: 1.0000 - loss: 2.6428e-09\n",
            "Epoch 16/100\n",
            "\u001b[1m2789/2789\u001b[0m \u001b[32m━━━━━━━━━━━━━━━━━━━━\u001b[0m\u001b[37m\u001b[0m \u001b[1m5s\u001b[0m 2ms/step - accuracy: 1.0000 - loss: 2.6301e-09\n",
            "Epoch 17/100\n",
            "\u001b[1m2789/2789\u001b[0m \u001b[32m━━━━━━━━━━━━━━━━━━━━\u001b[0m\u001b[37m\u001b[0m \u001b[1m10s\u001b[0m 2ms/step - accuracy: 1.0000 - loss: 2.6334e-09\n",
            "Epoch 18/100\n",
            "\u001b[1m2789/2789\u001b[0m \u001b[32m━━━━━━━━━━━━━━━━━━━━\u001b[0m\u001b[37m\u001b[0m \u001b[1m5s\u001b[0m 2ms/step - accuracy: 1.0000 - loss: 2.6032e-09\n",
            "Epoch 19/100\n",
            "\u001b[1m2789/2789\u001b[0m \u001b[32m━━━━━━━━━━━━━━━━━━━━\u001b[0m\u001b[37m\u001b[0m \u001b[1m10s\u001b[0m 2ms/step - accuracy: 1.0000 - loss: 2.6358e-09\n",
            "Epoch 20/100\n",
            "\u001b[1m2789/2789\u001b[0m \u001b[32m━━━━━━━━━━━━━━━━━━━━\u001b[0m\u001b[37m\u001b[0m \u001b[1m9s\u001b[0m 1ms/step - accuracy: 1.0000 - loss: 2.6608e-09\n",
            "Epoch 21/100\n",
            "\u001b[1m2789/2789\u001b[0m \u001b[32m━━━━━━━━━━━━━━━━━━━━\u001b[0m\u001b[37m\u001b[0m \u001b[1m6s\u001b[0m 2ms/step - accuracy: 1.0000 - loss: 2.6416e-09\n",
            "Epoch 22/100\n",
            "\u001b[1m2789/2789\u001b[0m \u001b[32m━━━━━━━━━━━━━━━━━━━━\u001b[0m\u001b[37m\u001b[0m \u001b[1m4s\u001b[0m 2ms/step - accuracy: 1.0000 - loss: 2.6381e-09\n",
            "Epoch 23/100\n",
            "\u001b[1m2789/2789\u001b[0m \u001b[32m━━━━━━━━━━━━━━━━━━━━\u001b[0m\u001b[37m\u001b[0m \u001b[1m5s\u001b[0m 1ms/step - accuracy: 1.0000 - loss: 2.6514e-09\n",
            "Epoch 24/100\n",
            "\u001b[1m2789/2789\u001b[0m \u001b[32m━━━━━━━━━━━━━━━━━━━━\u001b[0m\u001b[37m\u001b[0m \u001b[1m6s\u001b[0m 2ms/step - accuracy: 1.0000 - loss: 2.6444e-09\n",
            "Epoch 25/100\n",
            "\u001b[1m2789/2789\u001b[0m \u001b[32m━━━━━━━━━━━━━━━━━━━━\u001b[0m\u001b[37m\u001b[0m \u001b[1m8s\u001b[0m 1ms/step - accuracy: 1.0000 - loss: 2.6368e-09\n",
            "Epoch 26/100\n",
            "\u001b[1m2789/2789\u001b[0m \u001b[32m━━━━━━━━━━━━━━━━━━━━\u001b[0m\u001b[37m\u001b[0m \u001b[1m7s\u001b[0m 2ms/step - accuracy: 1.0000 - loss: 2.6404e-09\n",
            "Epoch 27/100\n",
            "\u001b[1m2789/2789\u001b[0m \u001b[32m━━━━━━━━━━━━━━━━━━━━\u001b[0m\u001b[37m\u001b[0m \u001b[1m4s\u001b[0m 2ms/step - accuracy: 1.0000 - loss: 2.6386e-09\n",
            "Epoch 28/100\n",
            "\u001b[1m2789/2789\u001b[0m \u001b[32m━━━━━━━━━━━━━━━━━━━━\u001b[0m\u001b[37m\u001b[0m \u001b[1m5s\u001b[0m 2ms/step - accuracy: 1.0000 - loss: 2.6731e-09\n",
            "Epoch 29/100\n",
            "\u001b[1m2789/2789\u001b[0m \u001b[32m━━━━━━━━━━━━━━━━━━━━\u001b[0m\u001b[37m\u001b[0m \u001b[1m5s\u001b[0m 2ms/step - accuracy: 1.0000 - loss: 2.6394e-09\n",
            "Epoch 30/100\n",
            "\u001b[1m2789/2789\u001b[0m \u001b[32m━━━━━━━━━━━━━━━━━━━━\u001b[0m\u001b[37m\u001b[0m \u001b[1m4s\u001b[0m 1ms/step - accuracy: 1.0000 - loss: 2.6089e-09\n",
            "Epoch 31/100\n",
            "\u001b[1m2789/2789\u001b[0m \u001b[32m━━━━━━━━━━━━━━━━━━━━\u001b[0m\u001b[37m\u001b[0m \u001b[1m6s\u001b[0m 2ms/step - accuracy: 1.0000 - loss: 2.6525e-09\n",
            "Epoch 32/100\n",
            "\u001b[1m2789/2789\u001b[0m \u001b[32m━━━━━━━━━━━━━━━━━━━━\u001b[0m\u001b[37m\u001b[0m \u001b[1m5s\u001b[0m 2ms/step - accuracy: 1.0000 - loss: 2.6303e-09\n",
            "Epoch 33/100\n",
            "\u001b[1m2789/2789\u001b[0m \u001b[32m━━━━━━━━━━━━━━━━━━━━\u001b[0m\u001b[37m\u001b[0m \u001b[1m10s\u001b[0m 2ms/step - accuracy: 1.0000 - loss: 2.6419e-09\n",
            "Epoch 34/100\n",
            "\u001b[1m2789/2789\u001b[0m \u001b[32m━━━━━━━━━━━━━━━━━━━━\u001b[0m\u001b[37m\u001b[0m \u001b[1m9s\u001b[0m 2ms/step - accuracy: 1.0000 - loss: 2.6320e-09\n",
            "Epoch 35/100\n",
            "\u001b[1m2789/2789\u001b[0m \u001b[32m━━━━━━━━━━━━━━━━━━━━\u001b[0m\u001b[37m\u001b[0m \u001b[1m6s\u001b[0m 2ms/step - accuracy: 1.0000 - loss: 2.6508e-09\n",
            "Epoch 36/100\n",
            "\u001b[1m2789/2789\u001b[0m \u001b[32m━━━━━━━━━━━━━━━━━━━━\u001b[0m\u001b[37m\u001b[0m \u001b[1m9s\u001b[0m 2ms/step - accuracy: 1.0000 - loss: 2.6204e-09\n",
            "Epoch 37/100\n",
            "\u001b[1m2789/2789\u001b[0m \u001b[32m━━━━━━━━━━━━━━━━━━━━\u001b[0m\u001b[37m\u001b[0m \u001b[1m7s\u001b[0m 2ms/step - accuracy: 1.0000 - loss: 2.6366e-09\n",
            "Epoch 38/100\n",
            "\u001b[1m2789/2789\u001b[0m \u001b[32m━━━━━━━━━━━━━━━━━━━━\u001b[0m\u001b[37m\u001b[0m \u001b[1m9s\u001b[0m 1ms/step - accuracy: 1.0000 - loss: 2.6246e-09\n",
            "Epoch 39/100\n",
            "\u001b[1m2789/2789\u001b[0m \u001b[32m━━━━━━━━━━━━━━━━━━━━\u001b[0m\u001b[37m\u001b[0m \u001b[1m6s\u001b[0m 2ms/step - accuracy: 1.0000 - loss: 2.6165e-09\n",
            "Epoch 40/100\n",
            "\u001b[1m2789/2789\u001b[0m \u001b[32m━━━━━━━━━━━━━━━━━━━━\u001b[0m\u001b[37m\u001b[0m \u001b[1m9s\u001b[0m 2ms/step - accuracy: 1.0000 - loss: 2.6498e-09\n",
            "Epoch 41/100\n",
            "\u001b[1m2789/2789\u001b[0m \u001b[32m━━━━━━━━━━━━━━━━━━━━\u001b[0m\u001b[37m\u001b[0m \u001b[1m6s\u001b[0m 2ms/step - accuracy: 1.0000 - loss: 2.6432e-09\n",
            "Epoch 42/100\n",
            "\u001b[1m2789/2789\u001b[0m \u001b[32m━━━━━━━━━━━━━━━━━━━━\u001b[0m\u001b[37m\u001b[0m \u001b[1m10s\u001b[0m 2ms/step - accuracy: 1.0000 - loss: 2.6261e-09\n",
            "Epoch 43/100\n",
            "\u001b[1m2789/2789\u001b[0m \u001b[32m━━━━━━━━━━━━━━━━━━━━\u001b[0m\u001b[37m\u001b[0m \u001b[1m9s\u001b[0m 2ms/step - accuracy: 1.0000 - loss: 2.6575e-09\n",
            "Epoch 44/100\n",
            "\u001b[1m2789/2789\u001b[0m \u001b[32m━━━━━━━━━━━━━━━━━━━━\u001b[0m\u001b[37m\u001b[0m \u001b[1m6s\u001b[0m 2ms/step - accuracy: 1.0000 - loss: 2.6720e-09\n",
            "Epoch 45/100\n",
            "\u001b[1m2789/2789\u001b[0m \u001b[32m━━━━━━━━━━━━━━━━━━━━\u001b[0m\u001b[37m\u001b[0m \u001b[1m9s\u001b[0m 1ms/step - accuracy: 1.0000 - loss: 2.6327e-09\n",
            "Epoch 46/100\n",
            "\u001b[1m2789/2789\u001b[0m \u001b[32m━━━━━━━━━━━━━━━━━━━━\u001b[0m\u001b[37m\u001b[0m \u001b[1m7s\u001b[0m 2ms/step - accuracy: 1.0000 - loss: 2.6571e-09\n",
            "Epoch 47/100\n",
            "\u001b[1m2789/2789\u001b[0m \u001b[32m━━━━━━━━━━━━━━━━━━━━\u001b[0m\u001b[37m\u001b[0m \u001b[1m4s\u001b[0m 1ms/step - accuracy: 1.0000 - loss: 2.6552e-09\n",
            "Epoch 48/100\n",
            "\u001b[1m2789/2789\u001b[0m \u001b[32m━━━━━━━━━━━━━━━━━━━━\u001b[0m\u001b[37m\u001b[0m \u001b[1m4s\u001b[0m 1ms/step - accuracy: 1.0000 - loss: 2.6450e-09\n",
            "Epoch 49/100\n",
            "\u001b[1m2789/2789\u001b[0m \u001b[32m━━━━━━━━━━━━━━━━━━━━\u001b[0m\u001b[37m\u001b[0m \u001b[1m6s\u001b[0m 2ms/step - accuracy: 1.0000 - loss: 2.6621e-09\n",
            "Epoch 50/100\n",
            "\u001b[1m2789/2789\u001b[0m \u001b[32m━━━━━━━━━━━━━━━━━━━━\u001b[0m\u001b[37m\u001b[0m \u001b[1m8s\u001b[0m 1ms/step - accuracy: 1.0000 - loss: 2.6469e-09\n",
            "Epoch 51/100\n",
            "\u001b[1m2789/2789\u001b[0m \u001b[32m━━━━━━━━━━━━━━━━━━━━\u001b[0m\u001b[37m\u001b[0m \u001b[1m7s\u001b[0m 2ms/step - accuracy: 1.0000 - loss: 2.6424e-09\n",
            "Epoch 52/100\n",
            "\u001b[1m2789/2789\u001b[0m \u001b[32m━━━━━━━━━━━━━━━━━━━━\u001b[0m\u001b[37m\u001b[0m \u001b[1m4s\u001b[0m 1ms/step - accuracy: 1.0000 - loss: 2.6400e-09\n",
            "Epoch 53/100\n",
            "\u001b[1m2789/2789\u001b[0m \u001b[32m━━━━━━━━━━━━━━━━━━━━\u001b[0m\u001b[37m\u001b[0m \u001b[1m6s\u001b[0m 2ms/step - accuracy: 1.0000 - loss: 2.6494e-09\n",
            "Epoch 54/100\n",
            "\u001b[1m2789/2789\u001b[0m \u001b[32m━━━━━━━━━━━━━━━━━━━━\u001b[0m\u001b[37m\u001b[0m \u001b[1m5s\u001b[0m 2ms/step - accuracy: 1.0000 - loss: 2.6186e-09\n",
            "Epoch 55/100\n",
            "\u001b[1m2789/2789\u001b[0m \u001b[32m━━━━━━━━━━━━━━━━━━━━\u001b[0m\u001b[37m\u001b[0m \u001b[1m4s\u001b[0m 1ms/step - accuracy: 1.0000 - loss: 2.6646e-09\n",
            "Epoch 56/100\n",
            "\u001b[1m2789/2789\u001b[0m \u001b[32m━━━━━━━━━━━━━━━━━━━━\u001b[0m\u001b[37m\u001b[0m \u001b[1m5s\u001b[0m 2ms/step - accuracy: 1.0000 - loss: 2.6483e-09\n",
            "Epoch 57/100\n",
            "\u001b[1m2789/2789\u001b[0m \u001b[32m━━━━━━━━━━━━━━━━━━━━\u001b[0m\u001b[37m\u001b[0m \u001b[1m6s\u001b[0m 2ms/step - accuracy: 1.0000 - loss: 2.6715e-09\n",
            "Epoch 58/100\n",
            "\u001b[1m2789/2789\u001b[0m \u001b[32m━━━━━━━━━━━━━━━━━━━━\u001b[0m\u001b[37m\u001b[0m \u001b[1m4s\u001b[0m 2ms/step - accuracy: 1.0000 - loss: 2.6594e-09\n",
            "Epoch 59/100\n",
            "\u001b[1m2789/2789\u001b[0m \u001b[32m━━━━━━━━━━━━━━━━━━━━\u001b[0m\u001b[37m\u001b[0m \u001b[1m5s\u001b[0m 2ms/step - accuracy: 1.0000 - loss: 2.6681e-09\n",
            "Epoch 60/100\n",
            "\u001b[1m2789/2789\u001b[0m \u001b[32m━━━━━━━━━━━━━━━━━━━━\u001b[0m\u001b[37m\u001b[0m \u001b[1m5s\u001b[0m 2ms/step - accuracy: 1.0000 - loss: 2.6625e-09\n",
            "Epoch 61/100\n",
            "\u001b[1m2789/2789\u001b[0m \u001b[32m━━━━━━━━━━━━━━━━━━━━\u001b[0m\u001b[37m\u001b[0m \u001b[1m4s\u001b[0m 1ms/step - accuracy: 1.0000 - loss: 2.6444e-09\n",
            "Epoch 62/100\n",
            "\u001b[1m2789/2789\u001b[0m \u001b[32m━━━━━━━━━━━━━━━━━━━━\u001b[0m\u001b[37m\u001b[0m \u001b[1m5s\u001b[0m 2ms/step - accuracy: 1.0000 - loss: 2.6673e-09\n",
            "Epoch 63/100\n",
            "\u001b[1m2789/2789\u001b[0m \u001b[32m━━━━━━━━━━━━━━━━━━━━\u001b[0m\u001b[37m\u001b[0m \u001b[1m5s\u001b[0m 2ms/step - accuracy: 1.0000 - loss: 2.6556e-09\n",
            "Epoch 64/100\n",
            "\u001b[1m2789/2789\u001b[0m \u001b[32m━━━━━━━━━━━━━━━━━━━━\u001b[0m\u001b[37m\u001b[0m \u001b[1m4s\u001b[0m 1ms/step - accuracy: 1.0000 - loss: 2.6508e-09\n",
            "Epoch 65/100\n",
            "\u001b[1m2789/2789\u001b[0m \u001b[32m━━━━━━━━━━━━━━━━━━━━\u001b[0m\u001b[37m\u001b[0m \u001b[1m5s\u001b[0m 2ms/step - accuracy: 1.0000 - loss: 2.6490e-09\n",
            "Epoch 66/100\n",
            "\u001b[1m2789/2789\u001b[0m \u001b[32m━━━━━━━━━━━━━━━━━━━━\u001b[0m\u001b[37m\u001b[0m \u001b[1m5s\u001b[0m 2ms/step - accuracy: 1.0000 - loss: 2.6547e-09\n",
            "Epoch 67/100\n",
            "\u001b[1m2789/2789\u001b[0m \u001b[32m━━━━━━━━━━━━━━━━━━━━\u001b[0m\u001b[37m\u001b[0m \u001b[1m4s\u001b[0m 1ms/step - accuracy: 1.0000 - loss: 2.6561e-09\n",
            "Epoch 68/100\n",
            "\u001b[1m2789/2789\u001b[0m \u001b[32m━━━━━━━━━━━━━━━━━━━━\u001b[0m\u001b[37m\u001b[0m \u001b[1m6s\u001b[0m 2ms/step - accuracy: 1.0000 - loss: 2.6508e-09\n",
            "Epoch 69/100\n",
            "\u001b[1m2789/2789\u001b[0m \u001b[32m━━━━━━━━━━━━━━━━━━━━\u001b[0m\u001b[37m\u001b[0m \u001b[1m9s\u001b[0m 2ms/step - accuracy: 1.0000 - loss: 2.6582e-09\n",
            "Epoch 70/100\n",
            "\u001b[1m2789/2789\u001b[0m \u001b[32m━━━━━━━━━━━━━━━━━━━━\u001b[0m\u001b[37m\u001b[0m \u001b[1m7s\u001b[0m 2ms/step - accuracy: 1.0000 - loss: 2.6497e-09\n",
            "Epoch 71/100\n",
            "\u001b[1m2789/2789\u001b[0m \u001b[32m━━━━━━━━━━━━━━━━━━━━\u001b[0m\u001b[37m\u001b[0m \u001b[1m4s\u001b[0m 2ms/step - accuracy: 1.0000 - loss: 2.6567e-09\n",
            "Epoch 72/100\n",
            "\u001b[1m2789/2789\u001b[0m \u001b[32m━━━━━━━━━━━━━━━━━━━━\u001b[0m\u001b[37m\u001b[0m \u001b[1m5s\u001b[0m 2ms/step - accuracy: 1.0000 - loss: 2.6696e-09\n",
            "Epoch 73/100\n",
            "\u001b[1m2789/2789\u001b[0m \u001b[32m━━━━━━━━━━━━━━━━━━━━\u001b[0m\u001b[37m\u001b[0m \u001b[1m6s\u001b[0m 2ms/step - accuracy: 1.0000 - loss: 2.6377e-09\n",
            "Epoch 74/100\n",
            "\u001b[1m2789/2789\u001b[0m \u001b[32m━━━━━━━━━━━━━━━━━━━━\u001b[0m\u001b[37m\u001b[0m \u001b[1m4s\u001b[0m 2ms/step - accuracy: 1.0000 - loss: 2.6801e-09\n",
            "Epoch 75/100\n",
            "\u001b[1m2789/2789\u001b[0m \u001b[32m━━━━━━━━━━━━━━━━━━━━\u001b[0m\u001b[37m\u001b[0m \u001b[1m6s\u001b[0m 2ms/step - accuracy: 1.0000 - loss: 2.6164e-09\n",
            "Epoch 76/100\n",
            "\u001b[1m2789/2789\u001b[0m \u001b[32m━━━━━━━━━━━━━━━━━━━━\u001b[0m\u001b[37m\u001b[0m \u001b[1m5s\u001b[0m 2ms/step - accuracy: 1.0000 - loss: 2.6557e-09\n",
            "Epoch 77/100\n",
            "\u001b[1m2789/2789\u001b[0m \u001b[32m━━━━━━━━━━━━━━━━━━━━\u001b[0m\u001b[37m\u001b[0m \u001b[1m10s\u001b[0m 2ms/step - accuracy: 1.0000 - loss: 2.6631e-09\n",
            "Epoch 78/100\n",
            "\u001b[1m2789/2789\u001b[0m \u001b[32m━━━━━━━━━━━━━━━━━━━━\u001b[0m\u001b[37m\u001b[0m \u001b[1m9s\u001b[0m 2ms/step - accuracy: 1.0000 - loss: 2.6680e-09\n",
            "Epoch 79/100\n",
            "\u001b[1m2789/2789\u001b[0m \u001b[32m━━━━━━━━━━━━━━━━━━━━\u001b[0m\u001b[37m\u001b[0m \u001b[1m6s\u001b[0m 2ms/step - accuracy: 1.0000 - loss: 2.6794e-09\n",
            "Epoch 80/100\n",
            "\u001b[1m2789/2789\u001b[0m \u001b[32m━━━━━━━━━━━━━━━━━━━━\u001b[0m\u001b[37m\u001b[0m \u001b[1m9s\u001b[0m 2ms/step - accuracy: 1.0000 - loss: 2.6649e-09\n",
            "Epoch 81/100\n",
            "\u001b[1m2789/2789\u001b[0m \u001b[32m━━━━━━━━━━━━━━━━━━━━\u001b[0m\u001b[37m\u001b[0m \u001b[1m7s\u001b[0m 2ms/step - accuracy: 1.0000 - loss: 2.6532e-09\n",
            "Epoch 82/100\n",
            "\u001b[1m2789/2789\u001b[0m \u001b[32m━━━━━━━━━━━━━━━━━━━━\u001b[0m\u001b[37m\u001b[0m \u001b[1m4s\u001b[0m 2ms/step - accuracy: 1.0000 - loss: 2.6468e-09\n",
            "Epoch 83/100\n",
            "\u001b[1m2789/2789\u001b[0m \u001b[32m━━━━━━━━━━━━━━━━━━━━\u001b[0m\u001b[37m\u001b[0m \u001b[1m5s\u001b[0m 2ms/step - accuracy: 1.0000 - loss: 2.6816e-09\n",
            "Epoch 84/100\n",
            "\u001b[1m2789/2789\u001b[0m \u001b[32m━━━━━━━━━━━━━━━━━━━━\u001b[0m\u001b[37m\u001b[0m \u001b[1m6s\u001b[0m 2ms/step - accuracy: 1.0000 - loss: 2.6411e-09\n",
            "Epoch 85/100\n",
            "\u001b[1m2789/2789\u001b[0m \u001b[32m━━━━━━━━━━━━━━━━━━━━\u001b[0m\u001b[37m\u001b[0m \u001b[1m4s\u001b[0m 2ms/step - accuracy: 1.0000 - loss: 2.6540e-09\n",
            "Epoch 86/100\n",
            "\u001b[1m2789/2789\u001b[0m \u001b[32m━━━━━━━━━━━━━━━━━━━━\u001b[0m\u001b[37m\u001b[0m \u001b[1m5s\u001b[0m 2ms/step - accuracy: 1.0000 - loss: 2.6614e-09\n",
            "Epoch 87/100\n",
            "\u001b[1m2789/2789\u001b[0m \u001b[32m━━━━━━━━━━━━━━━━━━━━\u001b[0m\u001b[37m\u001b[0m \u001b[1m6s\u001b[0m 2ms/step - accuracy: 1.0000 - loss: 2.6513e-09\n",
            "Epoch 88/100\n",
            "\u001b[1m2789/2789\u001b[0m \u001b[32m━━━━━━━━━━━━━━━━━━━━\u001b[0m\u001b[37m\u001b[0m \u001b[1m11s\u001b[0m 2ms/step - accuracy: 1.0000 - loss: 2.6893e-09\n",
            "Epoch 89/100\n",
            "\u001b[1m2789/2789\u001b[0m \u001b[32m━━━━━━━━━━━━━━━━━━━━\u001b[0m\u001b[37m\u001b[0m \u001b[1m9s\u001b[0m 2ms/step - accuracy: 1.0000 - loss: 2.6553e-09\n",
            "Epoch 90/100\n",
            "\u001b[1m2789/2789\u001b[0m \u001b[32m━━━━━━━━━━━━━━━━━━━━\u001b[0m\u001b[37m\u001b[0m \u001b[1m7s\u001b[0m 2ms/step - accuracy: 1.0000 - loss: 2.6706e-09\n",
            "Epoch 91/100\n",
            "\u001b[1m2789/2789\u001b[0m \u001b[32m━━━━━━━━━━━━━━━━━━━━\u001b[0m\u001b[37m\u001b[0m \u001b[1m8s\u001b[0m 2ms/step - accuracy: 1.0000 - loss: 2.6294e-09\n",
            "Epoch 92/100\n",
            "\u001b[1m2789/2789\u001b[0m \u001b[32m━━━━━━━━━━━━━━━━━━━━\u001b[0m\u001b[37m\u001b[0m \u001b[1m7s\u001b[0m 2ms/step - accuracy: 1.0000 - loss: 2.6592e-09\n",
            "Epoch 93/100\n",
            "\u001b[1m2789/2789\u001b[0m \u001b[32m━━━━━━━━━━━━━━━━━━━━\u001b[0m\u001b[37m\u001b[0m \u001b[1m4s\u001b[0m 2ms/step - accuracy: 1.0000 - loss: 2.6653e-09\n",
            "Epoch 94/100\n",
            "\u001b[1m2789/2789\u001b[0m \u001b[32m━━━━━━━━━━━━━━━━━━━━\u001b[0m\u001b[37m\u001b[0m \u001b[1m4s\u001b[0m 2ms/step - accuracy: 1.0000 - loss: 2.6699e-09\n",
            "Epoch 95/100\n",
            "\u001b[1m2789/2789\u001b[0m \u001b[32m━━━━━━━━━━━━━━━━━━━━\u001b[0m\u001b[37m\u001b[0m \u001b[1m6s\u001b[0m 2ms/step - accuracy: 1.0000 - loss: 2.6684e-09\n",
            "Epoch 96/100\n",
            "\u001b[1m2789/2789\u001b[0m \u001b[32m━━━━━━━━━━━━━━━━━━━━\u001b[0m\u001b[37m\u001b[0m \u001b[1m4s\u001b[0m 2ms/step - accuracy: 1.0000 - loss: 2.6486e-09\n",
            "Epoch 97/100\n",
            "\u001b[1m2789/2789\u001b[0m \u001b[32m━━━━━━━━━━━━━━━━━━━━\u001b[0m\u001b[37m\u001b[0m \u001b[1m6s\u001b[0m 2ms/step - accuracy: 1.0000 - loss: 2.6746e-09\n",
            "Epoch 98/100\n",
            "\u001b[1m2789/2789\u001b[0m \u001b[32m━━━━━━━━━━━━━━━━━━━━\u001b[0m\u001b[37m\u001b[0m \u001b[1m9s\u001b[0m 2ms/step - accuracy: 1.0000 - loss: 2.6544e-09\n",
            "Epoch 99/100\n",
            "\u001b[1m2789/2789\u001b[0m \u001b[32m━━━━━━━━━━━━━━━━━━━━\u001b[0m\u001b[37m\u001b[0m \u001b[1m7s\u001b[0m 2ms/step - accuracy: 1.0000 - loss: 2.6465e-09\n",
            "Epoch 100/100\n",
            "\u001b[1m2789/2789\u001b[0m \u001b[32m━━━━━━━━━━━━━━━━━━━━\u001b[0m\u001b[37m\u001b[0m \u001b[1m9s\u001b[0m 2ms/step - accuracy: 1.0000 - loss: 2.6774e-09\n"
          ]
        },
        {
          "output_type": "execute_result",
          "data": {
            "text/plain": [
              "<keras.src.callbacks.history.History at 0x79d5581c30d0>"
            ]
          },
          "metadata": {},
          "execution_count": 50
        }
      ]
    },
    {
      "cell_type": "code",
      "source": [
        "import tensorflow as tf\n",
        "from tensorflow import keras\n",
        "import pandas as pd\n",
        "\n",
        "# ... (your existing code) ...\n",
        "\n",
        "# Before evaluating the model, preprocess X_test_smote:\n",
        "for column in X_test_smote.select_dtypes(include=['object']).columns:\n",
        "    X_test_smote[column] = pd.factorize(X_test_smote[column])[0]\n",
        "\n",
        "# Ensure y_test_smote is also numerical (0 and 1) if it's not already:\n",
        "y_test_smote = pd.factorize(y_test_smote)[0] # Applying the same preprocessing for y_test_smote\n",
        "\n",
        "# Now evaluate the model:\n",
        "model.evaluate(X_test_smote, y_test_smote)"
      ],
      "metadata": {
        "colab": {
          "base_uri": "https://localhost:8080/"
        },
        "id": "AQG6qrgko46i",
        "outputId": "af331a19-f5ff-4ae0-802d-73defe9e3598"
      },
      "execution_count": 53,
      "outputs": [
        {
          "output_type": "stream",
          "name": "stdout",
          "text": [
            "\u001b[1m930/930\u001b[0m \u001b[32m━━━━━━━━━━━━━━━━━━━━\u001b[0m\u001b[37m\u001b[0m \u001b[1m1s\u001b[0m 1ms/step - accuracy: 0.0000e+00 - loss: 25.1143\n"
          ]
        },
        {
          "output_type": "execute_result",
          "data": {
            "text/plain": [
              "[25.101255416870117, 0.0]"
            ]
          },
          "metadata": {},
          "execution_count": 53
        }
      ]
    },
    {
      "cell_type": "code",
      "source": [
        "yp = model.predict(X_test_smote)\n",
        "yp = (yp > 0.5).astype(int) # Convert probabilities to binary predictions\n",
        "yp[:5]"
      ],
      "metadata": {
        "colab": {
          "base_uri": "https://localhost:8080/"
        },
        "id": "vG4N1RW7pSOP",
        "outputId": "37b3583f-28ac-4f31-a037-fb5f5e593baa"
      },
      "execution_count": 54,
      "outputs": [
        {
          "output_type": "stream",
          "name": "stdout",
          "text": [
            "\u001b[1m930/930\u001b[0m \u001b[32m━━━━━━━━━━━━━━━━━━━━\u001b[0m\u001b[37m\u001b[0m \u001b[1m1s\u001b[0m 1ms/step\n"
          ]
        },
        {
          "output_type": "execute_result",
          "data": {
            "text/plain": [
              "array([[1],\n",
              "       [0],\n",
              "       [1],\n",
              "       [1],\n",
              "       [1]])"
            ]
          },
          "metadata": {},
          "execution_count": 54
        }
      ]
    },
    {
      "cell_type": "code",
      "source": [
        "y_pred_smote = yp.flatten().astype(int)"
      ],
      "metadata": {
        "id": "rRyqXB9aplm2"
      },
      "execution_count": 55,
      "outputs": []
    },
    {
      "cell_type": "code",
      "source": [
        "from sklearn.metrics import confusion_matrix, classification_report\n",
        "\n",
        "print(classification_report(y_test_smote, y_pred_smote))"
      ],
      "metadata": {
        "colab": {
          "base_uri": "https://localhost:8080/"
        },
        "id": "AdivyHZUp_Ii",
        "outputId": "46a33f66-f2c7-4a51-ea39-ee94f7ee0416"
      },
      "execution_count": 56,
      "outputs": [
        {
          "output_type": "stream",
          "name": "stdout",
          "text": [
            "              precision    recall  f1-score   support\n",
            "\n",
            "           0       0.00      0.00      0.00   14872.0\n",
            "           1       0.00      0.00      0.00   14872.0\n",
            "\n",
            "    accuracy                           0.00   29744.0\n",
            "   macro avg       0.00      0.00      0.00   29744.0\n",
            "weighted avg       0.00      0.00      0.00   29744.0\n",
            "\n"
          ]
        }
      ]
    },
    {
      "cell_type": "code",
      "source": [
        "import seaborn as sns\n",
        "cm = confusion_matrix(y_test_smote, y_pred_smote)\n",
        "plt.figure(figsize = (10,7))\n",
        "sns.heatmap(cm, annot=True, fmt='d')\n",
        "plt.xlabel('Predicted')\n",
        "plt.ylabel('Truth')\n",
        "plt.show()"
      ],
      "metadata": {
        "colab": {
          "base_uri": "https://localhost:8080/",
          "height": 619
        },
        "id": "JQomq_OFqNbg",
        "outputId": "518fcb8b-9ed3-4c60-9014-9b823a30cbcb"
      },
      "execution_count": 57,
      "outputs": [
        {
          "output_type": "display_data",
          "data": {
            "text/plain": [
              "<Figure size 1000x700 with 2 Axes>"
            ],
            "image/png": "[encoded data removed]"
          },
          "metadata": {}
        }
      ]
    }
  ]
}