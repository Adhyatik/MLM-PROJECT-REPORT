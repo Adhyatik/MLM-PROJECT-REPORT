{
  "nbformat": 4,
  "nbformat_minor": 0,
  "metadata": {
    "colab": {
      "provenance": [],
      "authorship_tag": "ABX9TyPuTBty4wiH58aKW09tPpzq",
      "include_colab_link": true
    },
    "kernelspec": {
      "name": "python3",
      "display_name": "Python 3"
    },
    "language_info": {
      "name": "python"
    }
  },
  "cells": [
    {
      "cell_type": "markdown",
      "metadata": {
        "id": "view-in-github",
        "colab_type": "text"
      },
      "source": [
        "<a href=\"https://colab.research.google.com/github/Adhyatik/MLM-PROJECT-REPORT/blob/main/Group6_FAAD_Group_Project.ipynb\" target=\"_parent\"><img src=\"https://colab.research.google.com/assets/colab-badge.svg\" alt=\"Open In Colab\"/></a>"
      ]
    },
    {
      "cell_type": "markdown",
      "source": [
        "# **Assignment on Fraud Analytics and Anomaly Detection**"
      ],
      "metadata": {
        "id": "Nx-DoHg1P2f6"
      }
    },
    {
      "cell_type": "code",
      "source": [
        "# Importing necessary libraries\n",
        "import pandas as pd\n",
        "from sklearn.model_selection import train_test_split\n",
        "from sklearn.tree import DecisionTreeClassifier, export_text, plot_tree\n",
        "import matplotlib.pyplot as plt"
      ],
      "metadata": {
        "id": "kVdOqfVNP6Qj"
      },
      "execution_count": 1,
      "outputs": []
    },
    {
      "cell_type": "code",
      "source": [
        "import warnings\n",
        "warnings.filterwarnings('ignore')"
      ],
      "metadata": {
        "id": "Sp-aw_XURAmQ"
      },
      "execution_count": 2,
      "outputs": []
    },
    {
      "cell_type": "code",
      "source": [
        "# Step 1: Install the required library\n",
        "!pip install gdown"
      ],
      "metadata": {
        "colab": {
          "base_uri": "https://localhost:8080/"
        },
        "id": "_22neCiOREwm",
        "outputId": "37681b90-d1aa-4072-d8da-2392c8990277"
      },
      "execution_count": 3,
      "outputs": [
        {
          "output_type": "stream",
          "name": "stdout",
          "text": [
            "Requirement already satisfied: gdown in /usr/local/lib/python3.10/dist-packages (5.2.0)\n",
            "Requirement already satisfied: beautifulsoup4 in /usr/local/lib/python3.10/dist-packages (from gdown) (4.12.3)\n",
            "Requirement already satisfied: filelock in /usr/local/lib/python3.10/dist-packages (from gdown) (3.16.1)\n",
            "Requirement already satisfied: requests[socks] in /usr/local/lib/python3.10/dist-packages (from gdown) (2.32.3)\n",
            "Requirement already satisfied: tqdm in /usr/local/lib/python3.10/dist-packages (from gdown) (4.67.1)\n",
            "Requirement already satisfied: soupsieve>1.2 in /usr/local/lib/python3.10/dist-packages (from beautifulsoup4->gdown) (2.6)\n",
            "Requirement already satisfied: charset-normalizer<4,>=2 in /usr/local/lib/python3.10/dist-packages (from requests[socks]->gdown) (3.4.0)\n",
            "Requirement already satisfied: idna<4,>=2.5 in /usr/local/lib/python3.10/dist-packages (from requests[socks]->gdown) (3.10)\n",
            "Requirement already satisfied: urllib3<3,>=1.21.1 in /usr/local/lib/python3.10/dist-packages (from requests[socks]->gdown) (2.2.3)\n",
            "Requirement already satisfied: certifi>=2017.4.17 in /usr/local/lib/python3.10/dist-packages (from requests[socks]->gdown) (2024.12.14)\n",
            "Requirement already satisfied: PySocks!=1.5.7,>=1.5.6 in /usr/local/lib/python3.10/dist-packages (from requests[socks]->gdown) (1.7.1)\n"
          ]
        }
      ]
    },
    {
      "cell_type": "code",
      "source": [
        "# Step 3: Read the CSV file into a DataFrame\n",
        "import pandas as pd\n",
        "df = pd.read_csv('/content/UNSW_NB15_traintest_backdoor.csv')\n",
        "# Step 4: Display a sample of the DataFrame\n",
        "print(df.sample(5))"
      ],
      "metadata": {
        "colab": {
          "base_uri": "https://localhost:8080/"
        },
        "id": "oiTC__7kRX-Q",
        "outputId": "bb4e312c-f5a4-47ac-9796-9ba78e005e20"
      },
      "execution_count": 4,
      "outputs": [
        {
          "output_type": "stream",
          "name": "stdout",
          "text": [
            "            dur  proto=udp  proto=arp  proto=tcp  proto=igmp  proto=ospf  \\\n",
            "92010  0.021864          0          0          1           0           0   \n",
            "30492  0.000000          0          0          1           0           0   \n",
            "10737  0.000017          1          0          0           0           0   \n",
            "42698  0.000083          0          0          1           0           0   \n",
            "91040  0.014783          0          0          1           0           0   \n",
            "\n",
            "       proto=sctp  proto=gre  proto=ggp  proto=ip  ...  ct_src_dport_ltm  \\\n",
            "92010           0          0          0         0  ...               0.0   \n",
            "30492           0          0          0         0  ...               0.0   \n",
            "10737           0          0          0         0  ...               0.0   \n",
            "42698           0          0          0         0  ...               0.0   \n",
            "91040           0          0          0         0  ...               0.0   \n",
            "\n",
            "       ct_dst_sport_ltm  ct_dst_src_ltm  is_ftp_login  ct_ftp_cmd  \\\n",
            "92010               0.0        0.016129           0.0         0.0   \n",
            "30492               0.0        0.564516           0.0         0.0   \n",
            "10737               0.0        0.000000           0.0         0.0   \n",
            "42698               0.0        0.000000           0.0         0.0   \n",
            "91040               0.0        0.048387           0.0         0.0   \n",
            "\n",
            "       ct_flw_http_mthd  ct_src_ltm  ct_srv_dst  is_sm_ips_ports  class  \n",
            "92010          0.000000    0.000000    0.016393                0      0  \n",
            "30492          0.000000    0.391305    0.049180                0      0  \n",
            "10737          0.000000    0.021739    0.016393                0      0  \n",
            "42698          0.000000    0.043478    0.049180                0      0  \n",
            "91040          0.062499    0.000000    0.049180                0      0  \n",
            "\n",
            "[5 rows x 197 columns]\n"
          ]
        }
      ]
    },
    {
      "cell_type": "code",
      "source": [
        "import seaborn as sns\n",
        "import matplotlib.pyplot as plt\n",
        "import pandas as pd\n",
        "\n",
        "# Assuming 'class' is the last column name (if not, replace with the actual name)\n",
        "# Re-read the original dataframe to avoid issues from previous cell execution\n",
        "df = pd.read_csv('/content/UNSW_NB15_traintest_backdoor.csv')\n",
        "class_column_name = df.columns[-1]\n",
        "\n",
        "# Fill missing values in 'class' column with the mode (most frequent value)\n",
        "# Check if the column has any values before calculating the mode\n",
        "if not df[class_column_name].empty:\n",
        "    df[class_column_name] = df[class_column_name].fillna(df[class_column_name].mode()[0])\n",
        "\n",
        "# Create a new column 'attack_cat' with 'yes' and 'no' based on 'class'\n",
        "df['attack_cat'] = df[class_column_name].map({0: 'yes', 1: 'no'})\n",
        "\n",
        "# Drop rows with values other than 0 and 1 in the 'class' column\n",
        "df = df[df[class_column_name].isin([0, 1])]\n",
        "\n",
        "# Create a new figure before plotting\n",
        "plt.figure()\n",
        "sns.countplot(x='attack_cat', data=df)\n",
        "plt.title('Distribution of Labels (Yes/No)')\n",
        "plt.xlabel('Label')\n",
        "plt.ylabel('Count')\n",
        "plt.show()"
      ],
      "metadata": {
        "colab": {
          "base_uri": "https://localhost:8080/",
          "height": 472
        },
        "id": "h8WsTsDZSAEO",
        "outputId": "c0502e08-3afa-4935-f697-dfc45fcbe8ec"
      },
      "execution_count": 5,
      "outputs": [
        {
          "output_type": "display_data",
          "data": {
            "text/plain": [
              "<Figure size 640x480 with 1 Axes>"
            ],
            "image/png": "[encoded data removed]"
          },
          "metadata": {}
        }
      ]
    },
    {
      "cell_type": "markdown",
      "source": [
        "**COUNT OF MISSING VALUES**"
      ],
      "metadata": {
        "id": "raqVJiBKXbcS"
      }
    },
    {
      "cell_type": "code",
      "source": [
        "missing_values = df.isnull().sum()\n",
        "print(missing_values)\n",
        "missing_percentage = (missing_values / len(df)) * 100\n",
        "missing_percentage"
      ],
      "metadata": {
        "colab": {
          "base_uri": "https://localhost:8080/",
          "height": 666
        },
        "id": "OejjeBF7XkkZ",
        "outputId": "a4d9a363-c2be-409a-ee60-ab93252ee70d"
      },
      "execution_count": 6,
      "outputs": [
        {
          "output_type": "stream",
          "name": "stdout",
          "text": [
            "dur                0\n",
            "proto=udp          0\n",
            "proto=arp          0\n",
            "proto=tcp          0\n",
            "proto=igmp         0\n",
            "                  ..\n",
            "ct_src_ltm         0\n",
            "ct_srv_dst         0\n",
            "is_sm_ips_ports    0\n",
            "class              0\n",
            "attack_cat         0\n",
            "Length: 198, dtype: int64\n"
          ]
        },
        {
          "output_type": "execute_result",
          "data": {
            "text/plain": [
              "dur                0.0\n",
              "proto=udp          0.0\n",
              "proto=arp          0.0\n",
              "proto=tcp          0.0\n",
              "proto=igmp         0.0\n",
              "                  ... \n",
              "ct_src_ltm         0.0\n",
              "ct_srv_dst         0.0\n",
              "is_sm_ips_ports    0.0\n",
              "class              0.0\n",
              "attack_cat         0.0\n",
              "Length: 198, dtype: float64"
            ],
            "text/html": [
              "<div>\n",
              "<style scoped>\n",
              "    .dataframe tbody tr th:only-of-type {\n",
              "        vertical-align: middle;\n",
              "    }\n",
              "\n",
              "    .dataframe tbody tr th {\n",
              "        vertical-align: top;\n",
              "    }\n",
              "\n",
              "    .dataframe thead th {\n",
              "        text-align: right;\n",
              "    }\n",
              "</style>\n",
              "<table border=\"1\" class=\"dataframe\">\n",
              "  <thead>\n",
              "    <tr style=\"text-align: right;\">\n",
              "      <th></th>\n",
              "      <th>0</th>\n",
              "    </tr>\n",
              "  </thead>\n",
              "  <tbody>\n",
              "    <tr>\n",
              "      <th>dur</th>\n",
              "      <td>0.0</td>\n",
              "    </tr>\n",
              "    <tr>\n",
              "      <th>proto=udp</th>\n",
              "      <td>0.0</td>\n",
              "    </tr>\n",
              "    <tr>\n",
              "      <th>proto=arp</th>\n",
              "      <td>0.0</td>\n",
              "    </tr>\n",
              "    <tr>\n",
              "      <th>proto=tcp</th>\n",
              "      <td>0.0</td>\n",
              "    </tr>\n",
              "    <tr>\n",
              "      <th>proto=igmp</th>\n",
              "      <td>0.0</td>\n",
              "    </tr>\n",
              "    <tr>\n",
              "      <th>...</th>\n",
              "      <td>...</td>\n",
              "    </tr>\n",
              "    <tr>\n",
              "      <th>ct_src_ltm</th>\n",
              "      <td>0.0</td>\n",
              "    </tr>\n",
              "    <tr>\n",
              "      <th>ct_srv_dst</th>\n",
              "      <td>0.0</td>\n",
              "    </tr>\n",
              "    <tr>\n",
              "      <th>is_sm_ips_ports</th>\n",
              "      <td>0.0</td>\n",
              "    </tr>\n",
              "    <tr>\n",
              "      <th>class</th>\n",
              "      <td>0.0</td>\n",
              "    </tr>\n",
              "    <tr>\n",
              "      <th>attack_cat</th>\n",
              "      <td>0.0</td>\n",
              "    </tr>\n",
              "  </tbody>\n",
              "</table>\n",
              "<p>198 rows × 1 columns</p>\n",
              "</div><br><label><b>dtype:</b> float64</label>"
            ]
          },
          "metadata": {},
          "execution_count": 6
        }
      ]
    },
    {
      "cell_type": "code",
      "source": [
        "df.shape"
      ],
      "metadata": {
        "colab": {
          "base_uri": "https://localhost:8080/"
        },
        "id": "nVX5PCHmX5Kr",
        "outputId": "15551b7d-fd1c-476c-8294-df9832920826"
      },
      "execution_count": 7,
      "outputs": [
        {
          "output_type": "execute_result",
          "data": {
            "text/plain": [
              "(95329, 198)"
            ]
          },
          "metadata": {},
          "execution_count": 7
        }
      ]
    },
    {
      "cell_type": "markdown",
      "source": [
        "**## Feature selection: Top 10 Features are selected on the basis of the random Forest**"
      ],
      "metadata": {
        "id": "Vy4HebZ-X-hh"
      }
    },
    {
      "cell_type": "code",
      "source": [
        "from sklearn.ensemble import RandomForestClassifier\n",
        "import pandas as pd\n",
        "\n",
        "# Assuming 'df' is your DataFrame and has both features and target columns.\n",
        "# If your target column is named 'class', separate it from features\n",
        "X = df.drop(columns=['attack_cat'])  # Drop target column\n",
        "y = df['attack_cat']  # Target column\n",
        "rf = RandomForestClassifier(n_estimators=100, random_state=42)\n",
        "rf.fit(X, y)\n",
        "importances = rf.feature_importances_\n",
        "# Sort the features by importance\n",
        "feature_names = X.columns\n",
        "important_features = pd.Series(importances, index=feature_names).sort_values(ascending=False)\n",
        "important_features"
      ],
      "metadata": {
        "colab": {
          "base_uri": "https://localhost:8080/",
          "height": 458
        },
        "id": "-0GZeVPWYFd2",
        "outputId": "37ffd437-e6ae-4e87-a284-b606afce629e"
      },
      "execution_count": 8,
      "outputs": [
        {
          "output_type": "execute_result",
          "data": {
            "text/plain": [
              "class               0.374038\n",
              "proto=udp           0.084380\n",
              "ct_dst_sport_ltm    0.068876\n",
              "sbytes              0.058804\n",
              "proto=unas          0.053415\n",
              "                      ...   \n",
              "proto=ib            0.000000\n",
              "service=ssl         0.000000\n",
              "service=dhcp        0.000000\n",
              "state=ACC           0.000000\n",
              "state=CLO           0.000000\n",
              "Length: 197, dtype: float64"
            ],
            "text/html": [
              "<div>\n",
              "<style scoped>\n",
              "    .dataframe tbody tr th:only-of-type {\n",
              "        vertical-align: middle;\n",
              "    }\n",
              "\n",
              "    .dataframe tbody tr th {\n",
              "        vertical-align: top;\n",
              "    }\n",
              "\n",
              "    .dataframe thead th {\n",
              "        text-align: right;\n",
              "    }\n",
              "</style>\n",
              "<table border=\"1\" class=\"dataframe\">\n",
              "  <thead>\n",
              "    <tr style=\"text-align: right;\">\n",
              "      <th></th>\n",
              "      <th>0</th>\n",
              "    </tr>\n",
              "  </thead>\n",
              "  <tbody>\n",
              "    <tr>\n",
              "      <th>class</th>\n",
              "      <td>0.374038</td>\n",
              "    </tr>\n",
              "    <tr>\n",
              "      <th>proto=udp</th>\n",
              "      <td>0.084380</td>\n",
              "    </tr>\n",
              "    <tr>\n",
              "      <th>ct_dst_sport_ltm</th>\n",
              "      <td>0.068876</td>\n",
              "    </tr>\n",
              "    <tr>\n",
              "      <th>sbytes</th>\n",
              "      <td>0.058804</td>\n",
              "    </tr>\n",
              "    <tr>\n",
              "      <th>proto=unas</th>\n",
              "      <td>0.053415</td>\n",
              "    </tr>\n",
              "    <tr>\n",
              "      <th>...</th>\n",
              "      <td>...</td>\n",
              "    </tr>\n",
              "    <tr>\n",
              "      <th>proto=ib</th>\n",
              "      <td>0.000000</td>\n",
              "    </tr>\n",
              "    <tr>\n",
              "      <th>service=ssl</th>\n",
              "      <td>0.000000</td>\n",
              "    </tr>\n",
              "    <tr>\n",
              "      <th>service=dhcp</th>\n",
              "      <td>0.000000</td>\n",
              "    </tr>\n",
              "    <tr>\n",
              "      <th>state=ACC</th>\n",
              "      <td>0.000000</td>\n",
              "    </tr>\n",
              "    <tr>\n",
              "      <th>state=CLO</th>\n",
              "      <td>0.000000</td>\n",
              "    </tr>\n",
              "  </tbody>\n",
              "</table>\n",
              "<p>197 rows × 1 columns</p>\n",
              "</div><br><label><b>dtype:</b> float64</label>"
            ]
          },
          "metadata": {},
          "execution_count": 8
        }
      ]
    },
    {
      "cell_type": "code",
      "source": [
        "# Get the top 10 feature names\n",
        "top_10_features = important_features.head(10).index.tolist()\n",
        "\n",
        "# Print the names\n",
        "top_10_features"
      ],
      "metadata": {
        "colab": {
          "base_uri": "https://localhost:8080/"
        },
        "id": "j7oCMgYuYgJ4",
        "outputId": "e2aaca1f-12f5-44f1-e6c3-8e6dcff77478"
      },
      "execution_count": 9,
      "outputs": [
        {
          "output_type": "execute_result",
          "data": {
            "text/plain": [
              "['class',\n",
              " 'proto=udp',\n",
              " 'ct_dst_sport_ltm',\n",
              " 'sbytes',\n",
              " 'proto=unas',\n",
              " 'sload',\n",
              " 'smean',\n",
              " 'spkts',\n",
              " 'sttl',\n",
              " 'rate']"
            ]
          },
          "metadata": {},
          "execution_count": 9
        }
      ]
    },
    {
      "cell_type": "code",
      "source": [
        "# Select top N features (for example, top 10)\n",
        "selected_features = important_features.head(10).index\n",
        "print(\"Selected Features:\", selected_features)"
      ],
      "metadata": {
        "colab": {
          "base_uri": "https://localhost:8080/"
        },
        "id": "_8IZ3LS9YtNB",
        "outputId": "b841f316-4055-49d4-bc6e-d35912681355"
      },
      "execution_count": 10,
      "outputs": [
        {
          "output_type": "stream",
          "name": "stdout",
          "text": [
            "Selected Features: Index(['class', 'proto=udp', 'ct_dst_sport_ltm', 'sbytes', 'proto=unas',\n",
            "       'sload', 'smean', 'spkts', 'sttl', 'rate'],\n",
            "      dtype='object')\n"
          ]
        }
      ]
    },
    {
      "cell_type": "markdown",
      "source": [
        "The Selected Features are:-\"'class',\n",
        " 'ct_dst_sport_ltm',\n",
        " 'proto=unas',\n",
        " 'proto=udp',\n",
        " 'sbytes',\n",
        " 'smean',\n",
        " 'ct_srv_dst',\n",
        " 'sload',\n",
        " 'ct_srv_src',\n",
        " 'ct_src_dport_ltm'\""
      ],
      "metadata": {
        "id": "IW93FxRrZmnX"
      }
    },
    {
      "cell_type": "code",
      "source": [
        "# X_selected = X[selected_features]\n",
        "\n",
        "X_selected = X[selected_features]"
      ],
      "metadata": {
        "id": "Y7TLLXxgZ2FE"
      },
      "execution_count": 11,
      "outputs": []
    },
    {
      "cell_type": "markdown",
      "source": [
        "**# SMOTE Sampling**"
      ],
      "metadata": {
        "id": "uXLiPyNQaJMG"
      }
    },
    {
      "cell_type": "code",
      "source": [
        "from imblearn.over_sampling import SMOTE\n",
        "# Apply SMOTE on the entire dataset before splitting\n",
        "smote = SMOTE(random_state=42)\n",
        "X_smote, y_smote = smote.fit_resample(X_selected, y)\n",
        "\n",
        "# Check the class distribution after SMOTE\n",
        "print(\"SMOTE Class Distribution:\\n\", pd.Series(y_smote).value_counts())\n",
        "\n",
        "# Print a sample of the resampled dataset\n",
        "smote_sample = pd.concat([X_smote, y_smote], axis=1)\n",
        "print(\"\\nSMOTE Resampled Dataset Sample:\\n\", smote_sample.head())"
      ],
      "metadata": {
        "colab": {
          "base_uri": "https://localhost:8080/"
        },
        "id": "y3AeQowhaTb-",
        "outputId": "8a672a1e-6124-4742-f99d-967ea080f7bf"
      },
      "execution_count": 12,
      "outputs": [
        {
          "output_type": "stream",
          "name": "stdout",
          "text": [
            "SMOTE Class Distribution:\n",
            " attack_cat\n",
            "yes    93000\n",
            "no     93000\n",
            "Name: count, dtype: int64\n",
            "\n",
            "SMOTE Resampled Dataset Sample:\n",
            "    class  proto=udp  ct_dst_sport_ltm    sbytes  proto=unas     sload  \\\n",
            "0      0          1               0.0  0.001397           0  0.033751   \n",
            "1      0          1               0.0  0.005123           0  0.164858   \n",
            "2      0          1               0.0  0.003091           0  0.159880   \n",
            "3      0          1               0.0  0.002583           0  0.112275   \n",
            "4      0          1               0.0  0.006181           0  0.159131   \n",
            "\n",
            "      smean     spkts      sttl      rate attack_cat  \n",
            "0  0.149456  0.001452  0.996078  0.090909        yes  \n",
            "1  0.579484  0.001452  0.996078  0.125000        yes  \n",
            "2  0.343750  0.001452  0.996078  0.200000        yes  \n",
            "3  0.286685  0.001452  0.996078  0.166667        yes  \n",
            "4  0.703125  0.001452  0.996078  0.100000        yes  \n"
          ]
        }
      ]
    },
    {
      "cell_type": "markdown",
      "source": [
        "**DOWNSAMPLING**"
      ],
      "metadata": {
        "id": "f7PwXF4Cdl8I"
      }
    },
    {
      "cell_type": "code",
      "source": [
        "from imblearn.under_sampling import RandomUnderSampler\n",
        "\n",
        "# Apply downsampling on the entire dataset before splitting\n",
        "down_sampler = RandomUnderSampler(random_state=42)\n",
        "X_down, y_down = down_sampler.fit_resample(X_selected, y)\n",
        "\n",
        "# Check the class distribution after downsampling\n",
        "print(\"Downsampled Class Distribution:\\n\", pd.Series(y_down).value_counts())\n",
        "\n",
        "# Print a sample of the resampled dataset\n",
        "down_sample = pd.concat([X_down, y_down], axis=1)\n",
        "print(\"\\nDownsampled Resampled Dataset Sample:\\n\", down_sample.head())"
      ],
      "metadata": {
        "colab": {
          "base_uri": "https://localhost:8080/"
        },
        "id": "xWne4eIEdr2I",
        "outputId": "ea2a1d91-e083-4c58-edc6-bd24edd6c38d"
      },
      "execution_count": 13,
      "outputs": [
        {
          "output_type": "stream",
          "name": "stdout",
          "text": [
            "Downsampled Class Distribution:\n",
            " attack_cat\n",
            "no     2329\n",
            "yes    2329\n",
            "Name: count, dtype: int64\n",
            "\n",
            "Downsampled Resampled Dataset Sample:\n",
            "      class  proto=udp  ct_dst_sport_ltm    sbytes  proto=unas     sload  \\\n",
            "243      1          0          0.000000  0.003683           0  0.000002   \n",
            "244      1          0          0.200000  0.000508           0  0.049901   \n",
            "245      1          0          0.000000  0.003006           0  0.000003   \n",
            "246      1          0          0.022222  0.000508           0  0.016634   \n",
            "247      1          0          0.000000  0.001270           0  0.000002   \n",
            "\n",
            "        smean     spkts      sttl      rate attack_cat  \n",
            "243  0.024456  0.027578  0.996078  0.000021         no  \n",
            "244  0.048912  0.001452  0.996078  0.333333         no  \n",
            "245  0.016304  0.027578  0.996078  0.000039         no  \n",
            "246  0.048912  0.001452  0.996078  0.111111         no  \n",
            "247  0.011548  0.013055  0.996078  0.000071         no  \n"
          ]
        }
      ]
    },
    {
      "cell_type": "markdown",
      "source": [
        "**UPSAMPLING**"
      ],
      "metadata": {
        "id": "Iqk7tY9eeFdg"
      }
    },
    {
      "cell_type": "code",
      "source": [
        "from imblearn.over_sampling import RandomOverSampler\n",
        "# Apply upsampling on the entire dataset before splitting\n",
        "up_sampler = RandomOverSampler(random_state=42)\n",
        "X_up, y_up = up_sampler.fit_resample(X_selected, y)\n",
        "# Check the class distribution after upsampling\n",
        "print(\"Upsampled Class Distribution:\", pd.Series(y_up).value_counts())\n",
        "# Print a sample of the resampled dataset\n",
        "up_sample = pd.concat([X_up, y_up], axis=1)\n",
        "print(\"Upsampled Resampled Dataset Sample:\\n\", up_sample.head())"
      ],
      "metadata": {
        "colab": {
          "base_uri": "https://localhost:8080/"
        },
        "id": "6iJvbZi9eJSj",
        "outputId": "22ea971c-2b92-4acb-e92a-8b1fa9139e6e"
      },
      "execution_count": 14,
      "outputs": [
        {
          "output_type": "stream",
          "name": "stdout",
          "text": [
            "Upsampled Class Distribution: attack_cat\n",
            "yes    93000\n",
            "no     93000\n",
            "Name: count, dtype: int64\n",
            "Upsampled Resampled Dataset Sample:\n",
            "    class  proto=udp  ct_dst_sport_ltm    sbytes  proto=unas     sload  \\\n",
            "0      0          1               0.0  0.001397           0  0.033751   \n",
            "1      0          1               0.0  0.005123           0  0.164858   \n",
            "2      0          1               0.0  0.003091           0  0.159880   \n",
            "3      0          1               0.0  0.002583           0  0.112275   \n",
            "4      0          1               0.0  0.006181           0  0.159131   \n",
            "\n",
            "      smean     spkts      sttl      rate attack_cat  \n",
            "0  0.149456  0.001452  0.996078  0.090909        yes  \n",
            "1  0.579484  0.001452  0.996078  0.125000        yes  \n",
            "2  0.343750  0.001452  0.996078  0.200000        yes  \n",
            "3  0.286685  0.001452  0.996078  0.166667        yes  \n",
            "4  0.703125  0.001452  0.996078  0.100000        yes  \n"
          ]
        }
      ]
    },
    {
      "cell_type": "markdown",
      "source": [
        "**ISOLATION FOREST**"
      ],
      "metadata": {
        "id": "LSI452LNelrx"
      }
    },
    {
      "cell_type": "code",
      "source": [
        "from sklearn.ensemble import IsolationForest\n",
        "\n",
        "anomaly_inputs = ['ct_dst_sport_ltm', 'proto=unas', 'proto=udp', 'sbytes', 'smean', 'ct_srv_dst', 'sload', 'ct_srv_src', 'ct_src_dport_ltm', 'class']\n",
        "\n",
        "model_IF = IsolationForest(contamination=0.1, random_state=42)"
      ],
      "metadata": {
        "id": "E-JOh8a3epgo"
      },
      "execution_count": 15,
      "outputs": []
    },
    {
      "cell_type": "markdown",
      "source": [
        "# **Isolation Forest applied on Original Datset**"
      ],
      "metadata": {
        "id": "eP4mo8zefZmo"
      }
    },
    {
      "cell_type": "code",
      "source": [
        "model_IF.fit(df[anomaly_inputs])\n",
        "df['anomaly_scores'] = model_IF.decision_function(df[anomaly_inputs])\n",
        "df['anomaly'] = model_IF.predict(df[anomaly_inputs])\n",
        "df.loc[:, ['ct_dst_sport_ltm', 'proto=unas', 'proto=udp', 'sbytes', 'smean', 'ct_srv_dst', 'sload', 'ct_srv_src', 'ct_src_dport_ltm', 'class', 'anomaly_scores', 'anomaly']]"
      ],
      "metadata": {
        "colab": {
          "base_uri": "https://localhost:8080/",
          "height": 423
        },
        "id": "qnRetlM-fkyl",
        "outputId": "3be10445-55e4-4e86-fc9d-8e1bf8c908f5"
      },
      "execution_count": 16,
      "outputs": [
        {
          "output_type": "execute_result",
          "data": {
            "text/plain": [
              "       ct_dst_sport_ltm  proto=unas  proto=udp    sbytes     smean  \\\n",
              "0                   0.0           0          1  0.001397  0.149456   \n",
              "1                   0.0           0          1  0.005123  0.579484   \n",
              "2                   0.0           0          1  0.003091  0.343750   \n",
              "3                   0.0           0          1  0.002583  0.286685   \n",
              "4                   0.0           0          1  0.006181  0.703125   \n",
              "...                 ...         ...        ...       ...       ...   \n",
              "95324               0.0           0          0  0.001312  0.012908   \n",
              "95325               0.0           0          1  0.000593  0.019701   \n",
              "95326               0.0           0          0  0.018967  0.137908   \n",
              "95327               0.0           0          0  0.001312  0.012908   \n",
              "95328               0.0           0          0  0.037765  0.292119   \n",
              "\n",
              "       ct_srv_dst     sload  ct_srv_src  ct_src_dport_ltm  class  \\\n",
              "0        0.016393  0.033751    0.016129          0.000000      0   \n",
              "1        0.016393  0.164858    0.016129          0.000000      0   \n",
              "2        0.032787  0.159880    0.032258          0.000000      0   \n",
              "3        0.032787  0.112275    0.032258          0.022222      0   \n",
              "4        0.032787  0.159131    0.032258          0.022222      0   \n",
              "...           ...       ...         ...               ...    ...   \n",
              "95324    0.000000  0.000000    0.000000          0.000000      1   \n",
              "95325    0.000000  0.000004    0.000000          0.000000      1   \n",
              "95326    0.000000  0.000004    0.016129          0.000000      1   \n",
              "95327    0.000000  0.000001    0.000000          0.000000      1   \n",
              "95328    0.000000  0.000001    0.000000          0.000000      1   \n",
              "\n",
              "       anomaly_scores  anomaly  \n",
              "0            0.014966        1  \n",
              "1           -0.120368       -1  \n",
              "2           -0.076648       -1  \n",
              "3           -0.044916       -1  \n",
              "4           -0.151937       -1  \n",
              "...               ...      ...  \n",
              "95324       -0.033916       -1  \n",
              "95325       -0.037618       -1  \n",
              "95326       -0.044939       -1  \n",
              "95327       -0.033916       -1  \n",
              "95328       -0.079878       -1  \n",
              "\n",
              "[95329 rows x 12 columns]"
            ],
            "text/html": [
              "\n",
              "  <div id=\"df-1cbca7b3-fe0c-4da9-a828-8b3b64b760d8\" class=\"colab-df-container\">\n",
              "    <div>\n",
              "<style scoped>\n",
              "    .dataframe tbody tr th:only-of-type {\n",
              "        vertical-align: middle;\n",
              "    }\n",
              "\n",
              "    .dataframe tbody tr th {\n",
              "        vertical-align: top;\n",
              "    }\n",
              "\n",
              "    .dataframe thead th {\n",
              "        text-align: right;\n",
              "    }\n",
              "</style>\n",
              "<table border=\"1\" class=\"dataframe\">\n",
              "  <thead>\n",
              "    <tr style=\"text-align: right;\">\n",
              "      <th></th>\n",
              "      <th>ct_dst_sport_ltm</th>\n",
              "      <th>proto=unas</th>\n",
              "      <th>proto=udp</th>\n",
              "      <th>sbytes</th>\n",
              "      <th>smean</th>\n",
              "      <th>ct_srv_dst</th>\n",
              "      <th>sload</th>\n",
              "      <th>ct_srv_src</th>\n",
              "      <th>ct_src_dport_ltm</th>\n",
              "      <th>class</th>\n",
              "      <th>anomaly_scores</th>\n",
              "      <th>anomaly</th>\n",
              "    </tr>\n",
              "  </thead>\n",
              "  <tbody>\n",
              "    <tr>\n",
              "      <th>0</th>\n",
              "      <td>0.0</td>\n",
              "      <td>0</td>\n",
              "      <td>1</td>\n",
              "      <td>0.001397</td>\n",
              "      <td>0.149456</td>\n",
              "      <td>0.016393</td>\n",
              "      <td>0.033751</td>\n",
              "      <td>0.016129</td>\n",
              "      <td>0.000000</td>\n",
              "      <td>0</td>\n",
              "      <td>0.014966</td>\n",
              "      <td>1</td>\n",
              "    </tr>\n",
              "    <tr>\n",
              "      <th>1</th>\n",
              "      <td>0.0</td>\n",
              "      <td>0</td>\n",
              "      <td>1</td>\n",
              "      <td>0.005123</td>\n",
              "      <td>0.579484</td>\n",
              "      <td>0.016393</td>\n",
              "      <td>0.164858</td>\n",
              "      <td>0.016129</td>\n",
              "      <td>0.000000</td>\n",
              "      <td>0</td>\n",
              "      <td>-0.120368</td>\n",
              "      <td>-1</td>\n",
              "    </tr>\n",
              "    <tr>\n",
              "      <th>2</th>\n",
              "      <td>0.0</td>\n",
              "      <td>0</td>\n",
              "      <td>1</td>\n",
              "      <td>0.003091</td>\n",
              "      <td>0.343750</td>\n",
              "      <td>0.032787</td>\n",
              "      <td>0.159880</td>\n",
              "      <td>0.032258</td>\n",
              "      <td>0.000000</td>\n",
              "      <td>0</td>\n",
              "      <td>-0.076648</td>\n",
              "      <td>-1</td>\n",
              "    </tr>\n",
              "    <tr>\n",
              "      <th>3</th>\n",
              "      <td>0.0</td>\n",
              "      <td>0</td>\n",
              "      <td>1</td>\n",
              "      <td>0.002583</td>\n",
              "      <td>0.286685</td>\n",
              "      <td>0.032787</td>\n",
              "      <td>0.112275</td>\n",
              "      <td>0.032258</td>\n",
              "      <td>0.022222</td>\n",
              "      <td>0</td>\n",
              "      <td>-0.044916</td>\n",
              "      <td>-1</td>\n",
              "    </tr>\n",
              "    <tr>\n",
              "      <th>4</th>\n",
              "      <td>0.0</td>\n",
              "      <td>0</td>\n",
              "      <td>1</td>\n",
              "      <td>0.006181</td>\n",
              "      <td>0.703125</td>\n",
              "      <td>0.032787</td>\n",
              "      <td>0.159131</td>\n",
              "      <td>0.032258</td>\n",
              "      <td>0.022222</td>\n",
              "      <td>0</td>\n",
              "      <td>-0.151937</td>\n",
              "      <td>-1</td>\n",
              "    </tr>\n",
              "    <tr>\n",
              "      <th>...</th>\n",
              "      <td>...</td>\n",
              "      <td>...</td>\n",
              "      <td>...</td>\n",
              "      <td>...</td>\n",
              "      <td>...</td>\n",
              "      <td>...</td>\n",
              "      <td>...</td>\n",
              "      <td>...</td>\n",
              "      <td>...</td>\n",
              "      <td>...</td>\n",
              "      <td>...</td>\n",
              "      <td>...</td>\n",
              "    </tr>\n",
              "    <tr>\n",
              "      <th>95324</th>\n",
              "      <td>0.0</td>\n",
              "      <td>0</td>\n",
              "      <td>0</td>\n",
              "      <td>0.001312</td>\n",
              "      <td>0.012908</td>\n",
              "      <td>0.000000</td>\n",
              "      <td>0.000000</td>\n",
              "      <td>0.000000</td>\n",
              "      <td>0.000000</td>\n",
              "      <td>1</td>\n",
              "      <td>-0.033916</td>\n",
              "      <td>-1</td>\n",
              "    </tr>\n",
              "    <tr>\n",
              "      <th>95325</th>\n",
              "      <td>0.0</td>\n",
              "      <td>0</td>\n",
              "      <td>1</td>\n",
              "      <td>0.000593</td>\n",
              "      <td>0.019701</td>\n",
              "      <td>0.000000</td>\n",
              "      <td>0.000004</td>\n",
              "      <td>0.000000</td>\n",
              "      <td>0.000000</td>\n",
              "      <td>1</td>\n",
              "      <td>-0.037618</td>\n",
              "      <td>-1</td>\n",
              "    </tr>\n",
              "    <tr>\n",
              "      <th>95326</th>\n",
              "      <td>0.0</td>\n",
              "      <td>0</td>\n",
              "      <td>0</td>\n",
              "      <td>0.018967</td>\n",
              "      <td>0.137908</td>\n",
              "      <td>0.000000</td>\n",
              "      <td>0.000004</td>\n",
              "      <td>0.016129</td>\n",
              "      <td>0.000000</td>\n",
              "      <td>1</td>\n",
              "      <td>-0.044939</td>\n",
              "      <td>-1</td>\n",
              "    </tr>\n",
              "    <tr>\n",
              "      <th>95327</th>\n",
              "      <td>0.0</td>\n",
              "      <td>0</td>\n",
              "      <td>0</td>\n",
              "      <td>0.001312</td>\n",
              "      <td>0.012908</td>\n",
              "      <td>0.000000</td>\n",
              "      <td>0.000001</td>\n",
              "      <td>0.000000</td>\n",
              "      <td>0.000000</td>\n",
              "      <td>1</td>\n",
              "      <td>-0.033916</td>\n",
              "      <td>-1</td>\n",
              "    </tr>\n",
              "    <tr>\n",
              "      <th>95328</th>\n",
              "      <td>0.0</td>\n",
              "      <td>0</td>\n",
              "      <td>0</td>\n",
              "      <td>0.037765</td>\n",
              "      <td>0.292119</td>\n",
              "      <td>0.000000</td>\n",
              "      <td>0.000001</td>\n",
              "      <td>0.000000</td>\n",
              "      <td>0.000000</td>\n",
              "      <td>1</td>\n",
              "      <td>-0.079878</td>\n",
              "      <td>-1</td>\n",
              "    </tr>\n",
              "  </tbody>\n",
              "</table>\n",
              "<p>95329 rows × 12 columns</p>\n",
              "</div>\n",
              "    <div class=\"colab-df-buttons\">\n",
              "\n",
              "  <div class=\"colab-df-container\">\n",
              "    <button class=\"colab-df-convert\" onclick=\"convertToInteractive('df-1cbca7b3-fe0c-4da9-a828-8b3b64b760d8')\"\n",
              "            title=\"Convert this dataframe to an interactive table.\"\n",
              "            style=\"display:none;\">\n",
              "\n",
              "  <svg xmlns=\"http://www.w3.org/2000/svg\" height=\"24px\" viewBox=\"0 -960 960 960\">\n",
              "    <path d=\"M120-120v-720h720v720H120Zm60-500h600v-160H180v160Zm220 220h160v-160H400v160Zm0 220h160v-160H400v160ZM180-400h160v-160H180v160Zm440 0h160v-160H620v160ZM180-180h160v-160H180v160Zm440 0h160v-160H620v160Z\"/>\n",
              "  </svg>\n",
              "    </button>\n",
              "\n",
              "  <style>\n",
              "    .colab-df-container {\n",
              "      display:flex;\n",
              "      gap: 12px;\n",
              "    }\n",
              "\n",
              "    .colab-df-convert {\n",
              "      background-color: #E8F0FE;\n",
              "      border: none;\n",
              "      border-radius: 50%;\n",
              "      cursor: pointer;\n",
              "      display: none;\n",
              "      fill: #1967D2;\n",
              "      height: 32px;\n",
              "      padding: 0 0 0 0;\n",
              "      width: 32px;\n",
              "    }\n",
              "\n",
              "    .colab-df-convert:hover {\n",
              "      background-color: #E2EBFA;\n",
              "      box-shadow: 0px 1px 2px rgba(60, 64, 67, 0.3), 0px 1px 3px 1px rgba(60, 64, 67, 0.15);\n",
              "      fill: #174EA6;\n",
              "    }\n",
              "\n",
              "    .colab-df-buttons div {\n",
              "      margin-bottom: 4px;\n",
              "    }\n",
              "\n",
              "    [theme=dark] .colab-df-convert {\n",
              "      background-color: #3B4455;\n",
              "      fill: #D2E3FC;\n",
              "    }\n",
              "\n",
              "    [theme=dark] .colab-df-convert:hover {\n",
              "      background-color: #434B5C;\n",
              "      box-shadow: 0px 1px 3px 1px rgba(0, 0, 0, 0.15);\n",
              "      filter: drop-shadow(0px 1px 2px rgba(0, 0, 0, 0.3));\n",
              "      fill: #FFFFFF;\n",
              "    }\n",
              "  </style>\n",
              "\n",
              "    <script>\n",
              "      const buttonEl =\n",
              "        document.querySelector('#df-1cbca7b3-fe0c-4da9-a828-8b3b64b760d8 button.colab-df-convert');\n",
              "      buttonEl.style.display =\n",
              "        google.colab.kernel.accessAllowed ? 'block' : 'none';\n",
              "\n",
              "      async function convertToInteractive(key) {\n",
              "        const element = document.querySelector('#df-1cbca7b3-fe0c-4da9-a828-8b3b64b760d8');\n",
              "        const dataTable =\n",
              "          await google.colab.kernel.invokeFunction('convertToInteractive',\n",
              "                                                    [key], {});\n",
              "        if (!dataTable) return;\n",
              "\n",
              "        const docLinkHtml = 'Like what you see? Visit the ' +\n",
              "          '<a target=\"_blank\" href=https://colab.research.google.com/notebooks/data_table.ipynb>data table notebook</a>'\n",
              "          + ' to learn more about interactive tables.';\n",
              "        element.innerHTML = '';\n",
              "        dataTable['output_type'] = 'display_data';\n",
              "        await google.colab.output.renderOutput(dataTable, element);\n",
              "        const docLink = document.createElement('div');\n",
              "        docLink.innerHTML = docLinkHtml;\n",
              "        element.appendChild(docLink);\n",
              "      }\n",
              "    </script>\n",
              "  </div>\n",
              "\n",
              "\n",
              "<div id=\"df-f5719481-ba1c-49fa-9fa3-0221ef847c51\">\n",
              "  <button class=\"colab-df-quickchart\" onclick=\"quickchart('df-f5719481-ba1c-49fa-9fa3-0221ef847c51')\"\n",
              "            title=\"Suggest charts\"\n",
              "            style=\"display:none;\">\n",
              "\n",
              "<svg xmlns=\"http://www.w3.org/2000/svg\" height=\"24px\"viewBox=\"0 0 24 24\"\n",
              "     width=\"24px\">\n",
              "    <g>\n",
              "        <path d=\"M19 3H5c-1.1 0-2 .9-2 2v14c0 1.1.9 2 2 2h14c1.1 0 2-.9 2-2V5c0-1.1-.9-2-2-2zM9 17H7v-7h2v7zm4 0h-2V7h2v10zm4 0h-2v-4h2v4z\"/>\n",
              "    </g>\n",
              "</svg>\n",
              "  </button>\n",
              "\n",
              "<style>\n",
              "  .colab-df-quickchart {\n",
              "      --bg-color: #E8F0FE;\n",
              "      --fill-color: #1967D2;\n",
              "      --hover-bg-color: #E2EBFA;\n",
              "      --hover-fill-color: #174EA6;\n",
              "      --disabled-fill-color: #AAA;\n",
              "      --disabled-bg-color: #DDD;\n",
              "  }\n",
              "\n",
              "  [theme=dark] .colab-df-quickchart {\n",
              "      --bg-color: #3B4455;\n",
              "      --fill-color: #D2E3FC;\n",
              "      --hover-bg-color: #434B5C;\n",
              "      --hover-fill-color: #FFFFFF;\n",
              "      --disabled-bg-color: #3B4455;\n",
              "      --disabled-fill-color: #666;\n",
              "  }\n",
              "\n",
              "  .colab-df-quickchart {\n",
              "    background-color: var(--bg-color);\n",
              "    border: none;\n",
              "    border-radius: 50%;\n",
              "    cursor: pointer;\n",
              "    display: none;\n",
              "    fill: var(--fill-color);\n",
              "    height: 32px;\n",
              "    padding: 0;\n",
              "    width: 32px;\n",
              "  }\n",
              "\n",
              "  .colab-df-quickchart:hover {\n",
              "    background-color: var(--hover-bg-color);\n",
              "    box-shadow: 0 1px 2px rgba(60, 64, 67, 0.3), 0 1px 3px 1px rgba(60, 64, 67, 0.15);\n",
              "    fill: var(--button-hover-fill-color);\n",
              "  }\n",
              "\n",
              "  .colab-df-quickchart-complete:disabled,\n",
              "  .colab-df-quickchart-complete:disabled:hover {\n",
              "    background-color: var(--disabled-bg-color);\n",
              "    fill: var(--disabled-fill-color);\n",
              "    box-shadow: none;\n",
              "  }\n",
              "\n",
              "  .colab-df-spinner {\n",
              "    border: 2px solid var(--fill-color);\n",
              "    border-color: transparent;\n",
              "    border-bottom-color: var(--fill-color);\n",
              "    animation:\n",
              "      spin 1s steps(1) infinite;\n",
              "  }\n",
              "\n",
              "  @keyframes spin {\n",
              "    0% {\n",
              "      border-color: transparent;\n",
              "      border-bottom-color: var(--fill-color);\n",
              "      border-left-color: var(--fill-color);\n",
              "    }\n",
              "    20% {\n",
              "      border-color: transparent;\n",
              "      border-left-color: var(--fill-color);\n",
              "      border-top-color: var(--fill-color);\n",
              "    }\n",
              "    30% {\n",
              "      border-color: transparent;\n",
              "      border-left-color: var(--fill-color);\n",
              "      border-top-color: var(--fill-color);\n",
              "      border-right-color: var(--fill-color);\n",
              "    }\n",
              "    40% {\n",
              "      border-color: transparent;\n",
              "      border-right-color: var(--fill-color);\n",
              "      border-top-color: var(--fill-color);\n",
              "    }\n",
              "    60% {\n",
              "      border-color: transparent;\n",
              "      border-right-color: var(--fill-color);\n",
              "    }\n",
              "    80% {\n",
              "      border-color: transparent;\n",
              "      border-right-color: var(--fill-color);\n",
              "      border-bottom-color: var(--fill-color);\n",
              "    }\n",
              "    90% {\n",
              "      border-color: transparent;\n",
              "      border-bottom-color: var(--fill-color);\n",
              "    }\n",
              "  }\n",
              "</style>\n",
              "\n",
              "  <script>\n",
              "    async function quickchart(key) {\n",
              "      const quickchartButtonEl =\n",
              "        document.querySelector('#' + key + ' button');\n",
              "      quickchartButtonEl.disabled = true;  // To prevent multiple clicks.\n",
              "      quickchartButtonEl.classList.add('colab-df-spinner');\n",
              "      try {\n",
              "        const charts = await google.colab.kernel.invokeFunction(\n",
              "            'suggestCharts', [key], {});\n",
              "      } catch (error) {\n",
              "        console.error('Error during call to suggestCharts:', error);\n",
              "      }\n",
              "      quickchartButtonEl.classList.remove('colab-df-spinner');\n",
              "      quickchartButtonEl.classList.add('colab-df-quickchart-complete');\n",
              "    }\n",
              "    (() => {\n",
              "      let quickchartButtonEl =\n",
              "        document.querySelector('#df-f5719481-ba1c-49fa-9fa3-0221ef847c51 button');\n",
              "      quickchartButtonEl.style.display =\n",
              "        google.colab.kernel.accessAllowed ? 'block' : 'none';\n",
              "    })();\n",
              "  </script>\n",
              "</div>\n",
              "\n",
              "    </div>\n",
              "  </div>\n"
            ],
            "application/vnd.google.colaboratory.intrinsic+json": {
              "type": "dataframe",
              "summary": "{\n  \"name\": \"df\",\n  \"rows\": 95329,\n  \"fields\": [\n    {\n      \"column\": \"ct_dst_sport_ltm\",\n      \"properties\": {\n        \"dtype\": \"number\",\n        \"std\": 0.035510724422606686,\n        \"min\": 0.0,\n        \"max\": 1.0,\n        \"num_unique_values\": 15,\n        \"samples\": [\n          0.488889,\n          1.0,\n          0.0\n        ],\n        \"semantic_type\": \"\",\n        \"description\": \"\"\n      }\n    },\n    {\n      \"column\": \"proto=unas\",\n      \"properties\": {\n        \"dtype\": \"number\",\n        \"std\": 0,\n        \"min\": 0,\n        \"max\": 1,\n        \"num_unique_values\": 2,\n        \"samples\": [\n          1,\n          0\n        ],\n        \"semantic_type\": \"\",\n        \"description\": \"\"\n      }\n    },\n    {\n      \"column\": \"proto=udp\",\n      \"properties\": {\n        \"dtype\": \"number\",\n        \"std\": 0,\n        \"min\": 0,\n        \"max\": 1,\n        \"num_unique_values\": 2,\n        \"samples\": [\n          0,\n          1\n        ],\n        \"semantic_type\": \"\",\n        \"description\": \"\"\n      }\n    },\n    {\n      \"column\": \"sbytes\",\n      \"properties\": {\n        \"dtype\": \"number\",\n        \"std\": 0.03807945328002499,\n        \"min\": 0.0,\n        \"max\": 1.0,\n        \"num_unique_values\": 1239,\n        \"samples\": [\n          0.022608,\n          0.043692\n        ],\n        \"semantic_type\": \"\",\n        \"description\": \"\"\n      }\n    },\n    {\n      \"column\": \"smean\",\n      \"properties\": {\n        \"dtype\": \"number\",\n        \"std\": 0.13314797002849144,\n        \"min\": 0.0,\n        \"max\": 1.0,\n        \"num_unique_values\": 1024,\n        \"samples\": [\n          0.612772,\n          0.141984\n        ],\n        \"semantic_type\": \"\",\n        \"description\": \"\"\n      }\n    },\n    {\n      \"column\": \"ct_srv_dst\",\n      \"properties\": {\n        \"dtype\": \"number\",\n        \"std\": 0.09403270191692405,\n        \"min\": 0.0,\n        \"max\": 1.0,\n        \"num_unique_values\": 45,\n        \"samples\": [\n          0.622951,\n          0.540984\n        ],\n        \"semantic_type\": \"\",\n        \"description\": \"\"\n      }\n    },\n    {\n      \"column\": \"sload\",\n      \"properties\": {\n        \"dtype\": \"number\",\n        \"std\": 0.03153809424217927,\n        \"min\": 0.0,\n        \"max\": 1.0,\n        \"num_unique_values\": 3398,\n        \"samples\": [\n          6.6e-05,\n          0.00173\n        ],\n        \"semantic_type\": \"\",\n        \"description\": \"\"\n      }\n    },\n    {\n      \"column\": \"ct_srv_src\",\n      \"properties\": {\n        \"dtype\": \"number\",\n        \"std\": 0.09518671027340715,\n        \"min\": 0.0,\n        \"max\": 1.0,\n        \"num_unique_values\": 46,\n        \"samples\": [\n          0.612903,\n          0.370968\n        ],\n        \"semantic_type\": \"\",\n        \"description\": \"\"\n      }\n    },\n    {\n      \"column\": \"ct_src_dport_ltm\",\n      \"properties\": {\n        \"dtype\": \"number\",\n        \"std\": 0.05328483553139105,\n        \"min\": 0.0,\n        \"max\": 1.0,\n        \"num_unique_values\": 24,\n        \"samples\": [\n          0.155556,\n          0.377777\n        ],\n        \"semantic_type\": \"\",\n        \"description\": \"\"\n      }\n    },\n    {\n      \"column\": \"class\",\n      \"properties\": {\n        \"dtype\": \"number\",\n        \"std\": 0,\n        \"min\": 0,\n        \"max\": 1,\n        \"num_unique_values\": 2,\n        \"samples\": [\n          1,\n          0\n        ],\n        \"semantic_type\": \"\",\n        \"description\": \"\"\n      }\n    },\n    {\n      \"column\": \"anomaly_scores\",\n      \"properties\": {\n        \"dtype\": \"number\",\n        \"std\": 0.07495226509016004,\n        \"min\": -0.2765411327258445,\n        \"max\": 0.15468665762409994,\n        \"num_unique_values\": 28787,\n        \"samples\": [\n          0.12688446728669567,\n          0.1222737135814359\n        ],\n        \"semantic_type\": \"\",\n        \"description\": \"\"\n      }\n    },\n    {\n      \"column\": \"anomaly\",\n      \"properties\": {\n        \"dtype\": \"number\",\n        \"std\": 0,\n        \"min\": -1,\n        \"max\": 1,\n        \"num_unique_values\": 2,\n        \"samples\": [\n          -1,\n          1\n        ],\n        \"semantic_type\": \"\",\n        \"description\": \"\"\n      }\n    }\n  ]\n}"
            }
          },
          "metadata": {},
          "execution_count": 16
        }
      ]
    },
    {
      "cell_type": "code",
      "source": [
        "import seaborn as sns\n",
        "import matplotlib.pyplot as plt # This should be outside the function\n",
        "\n",
        "def outlier_plot(data, outlier_method_name, x_var, y_var,\n",
        "                 xaxis_limits=[0,1], yaxis_limits=[0,1]):\n",
        "    print(f'Outlier Method: {outlier_method_name}')\n",
        "    # Compute anomaly counts\n",
        "    num_anomalies = len(data[data['anomaly'] == -1])\n",
        "    num_inliers = len(data[data['anomaly'] == 1])\n",
        "    total_values = len(data)\n",
        "    # Calculate anomaly percentage\n",
        "    anomaly_percentage = (num_anomalies / total_values) * 100\n",
        "    print(f\"Number of anomalous values: {num_anomalies}\")\n",
        "    print(f\"Number of non-anomalous values: {num_inliers}\")\n",
        "    print(f\"Total number of values: {total_values}\")\n",
        "    print(f\"Percentage of anomalous values: {anomaly_percentage:.2f}%\")\n",
        "    # Create FacetGrid plot\n",
        "    g = sns.FacetGrid(data, col='anomaly', height=4, hue='anomaly', hue_order=[1, -1], aspect=1.5) # Added aspect for better visualization\n",
        "    g.map(sns.scatterplot, x_var, y_var)\n",
        "    # Customize plot title and axes\n",
        "    g.fig.suptitle(f'Outlier Method: {outlier_method_name}', y=1.10, fontweight='bold')\n",
        "    g.set(xlim=xaxis_limits, ylim=yaxis_limits)  # Use provided limits if specified\n",
        "    axes = g.axes.flatten()\n",
        "    axes[0].set_title(f\"Outliers\\n{num_anomalies} points ({anomaly_percentage:.2f}%)\")\n",
        "    axes[1].set_title(f\"Inliers\\n{num_inliers} points ({100 - anomaly_percentage:.2f}%)\")\n",
        "    plt.tight_layout() # Improves spacing between subplots\n",
        "    plt.show() # To display the plot\n",
        "    return g\n",
        "\n",
        "outlier_plot(df, 'Isolation Forest', 'ct_dst_sport_ltm', 'sbytes', [0, df['ct_dst_sport_ltm'].max() * 1.2], [0, df['sbytes'].max() * 1.2]); #Passing x and y limits for dynamic scaling"
      ],
      "metadata": {
        "colab": {
          "base_uri": "https://localhost:8080/",
          "height": 549
        },
        "id": "UdCL9gK-hsxt",
        "outputId": "80a201d3-5e58-4a60-c7b9-aebdbb22d45b"
      },
      "execution_count": 17,
      "outputs": [
        {
          "output_type": "stream",
          "name": "stdout",
          "text": [
            "Outlier Method: Isolation Forest\n",
            "Number of anomalous values: 9533\n",
            "Number of non-anomalous values: 85796\n",
            "Total number of values: 95329\n",
            "Percentage of anomalous values: 10.00%\n"
          ]
        },
        {
          "output_type": "display_data",
          "data": {
            "text/plain": [
              "<Figure size 1200x400 with 2 Axes>"
            ],
            "image/png": "[encoded data removed]"
          },
          "metadata": {}
        }
      ]
    },
    {
      "cell_type": "markdown",
      "source": [
        "# **Isolation Forest on SMOTE**"
      ],
      "metadata": {
        "id": "NSR8bpDfi4et"
      }
    },
    {
      "cell_type": "code",
      "source": [
        "# Instead of:\n",
        "# anomaly_inputs = ['ct_dst_sport_ltm', 'proto=unas', 'proto=udp', 'sbytes', 'smean', 'ct_srv_dst', 'sload', 'ct_srv_src', 'ct_src_dport_ltm', 'class']\n",
        "\n",
        "# Get the column names from smote_sample\n",
        "anomaly_inputs = smote_sample.columns.tolist()\n",
        "\n",
        "# Remove 'attack_cat', 'anomaly_scores', and 'anomaly' if they exist\n",
        "anomaly_inputs = [col for col in anomaly_inputs if col not in ['attack_cat', 'anomaly_scores', 'anomaly']]\n",
        "\n",
        "# Now use the updated anomaly_inputs:\n",
        "model_IF.fit(smote_sample[anomaly_inputs])\n",
        "smote_sample['anomaly_scores'] = model_IF.decision_function(smote_sample[anomaly_inputs])\n",
        "smote_sample['anomaly'] = model_IF.predict(smote_sample[anomaly_inputs])\n",
        "outlier_plot(smote_sample, 'Isolation Forest', 'ct_dst_sport_ltm', 'sbytes', [0, smote_sample['ct_dst_sport_ltm'].max() * 1.2], [0, smote_sample['sbytes'].max() * 1.2]);"
      ],
      "metadata": {
        "colab": {
          "base_uri": "https://localhost:8080/",
          "height": 549
        },
        "id": "Ahu2JDIUi6BR",
        "outputId": "356526e5-a82a-479c-dc72-6d7e91dacaf1"
      },
      "execution_count": 19,
      "outputs": [
        {
          "output_type": "stream",
          "name": "stdout",
          "text": [
            "Outlier Method: Isolation Forest\n",
            "Number of anomalous values: 18392\n",
            "Number of non-anomalous values: 167608\n",
            "Total number of values: 186000\n",
            "Percentage of anomalous values: 9.89%\n"
          ]
        },
        {
          "output_type": "display_data",
          "data": {
            "text/plain": [
              "<Figure size 1200x400 with 2 Axes>"
            ],
            "image/png": "[encoded data removed]"
          },
          "metadata": {}
        }
      ]
    },
    {
      "cell_type": "markdown",
      "source": [
        "# **Isolation Forest on UPSAMPLE**"
      ],
      "metadata": {
        "id": "9m4nyMBaj261"
      }
    },
    {
      "cell_type": "code",
      "source": [
        "model_IF.fit(up_sample[anomaly_inputs])\n",
        "up_sample['anomaly_scores'] = model_IF.decision_function(up_sample[anomaly_inputs])\n",
        "up_sample['anomaly'] = model_IF.predict(up_sample[anomaly_inputs])\n",
        "outlier_plot(up_sample, 'Isolation Forest', 'ct_dst_sport_ltm', 'sbytes', [0, up_sample['ct_dst_sport_ltm'].max() * 1.2], [0, up_sample['sbytes'].max() * 1.2]);"
      ],
      "metadata": {
        "colab": {
          "base_uri": "https://localhost:8080/",
          "height": 549
        },
        "id": "4KReaczJj4Mk",
        "outputId": "223f6afc-a5e1-43d3-92e8-67194785d49e"
      },
      "execution_count": 20,
      "outputs": [
        {
          "output_type": "stream",
          "name": "stdout",
          "text": [
            "Outlier Method: Isolation Forest\n",
            "Number of anomalous values: 18102\n",
            "Number of non-anomalous values: 167898\n",
            "Total number of values: 186000\n",
            "Percentage of anomalous values: 9.73%\n"
          ]
        },
        {
          "output_type": "display_data",
          "data": {
            "text/plain": [
              "<Figure size 1200x400 with 2 Axes>"
            ],
            "image/png": "[encoded data removed]"
          },
          "metadata": {}
        }
      ]
    },
    {
      "cell_type": "markdown",
      "source": [
        "\n",
        "\n",
        "# **Isolation Forest on Downsample**"
      ],
      "metadata": {
        "id": "bF9hWDJEkONc"
      }
    },
    {
      "cell_type": "code",
      "source": [
        "model_IF.fit(down_sample[anomaly_inputs])\n",
        "down_sample['anomaly_scores'] = model_IF.decision_function(down_sample[anomaly_inputs])\n",
        "down_sample['anomaly'] = model_IF.predict(down_sample[anomaly_inputs])\n",
        "outlier_plot(down_sample, 'Isolation Forest', 'ct_dst_sport_ltm', 'sbytes', [0, down_sample['ct_dst_sport_ltm'].max() * 1.2], [0, down_sample['sbytes'].max() * 1.2]);"
      ],
      "metadata": {
        "colab": {
          "base_uri": "https://localhost:8080/",
          "height": 549
        },
        "id": "B2JHPRXmkTCd",
        "outputId": "f166fb87-e7dc-4089-9c12-7173b3d03eca"
      },
      "execution_count": 21,
      "outputs": [
        {
          "output_type": "stream",
          "name": "stdout",
          "text": [
            "Outlier Method: Isolation Forest\n",
            "Number of anomalous values: 466\n",
            "Number of non-anomalous values: 4192\n",
            "Total number of values: 4658\n",
            "Percentage of anomalous values: 10.00%\n"
          ]
        },
        {
          "output_type": "display_data",
          "data": {
            "text/plain": [
              "<Figure size 1200x400 with 2 Axes>"
            ],
            "image/png": "[encoded data removed]"
          },
          "metadata": {}
        }
      ]
    },
    {
      "cell_type": "markdown",
      "source": [
        "# **Splitting**"
      ],
      "metadata": {
        "id": "5SwQe1dFkmVj"
      }
    },
    {
      "cell_type": "markdown",
      "source": [
        "## **Splitting the SMOTE Dataset**"
      ],
      "metadata": {
        "id": "rXdzUBrpkrwO"
      }
    },
    {
      "cell_type": "code",
      "source": [
        "X_train_smote, X_test_smote, y_train_smote, y_test_smote = train_test_split(X_smote, y_smote, test_size=0.25, random_state=42, stratify=y_smote)"
      ],
      "metadata": {
        "id": "xklYX-X6ky_a"
      },
      "execution_count": 22,
      "outputs": []
    },
    {
      "cell_type": "markdown",
      "source": [
        "## **Splitting the Downsampled Dataset**\n"
      ],
      "metadata": {
        "id": "DZS_UZrUlF3e"
      }
    },
    {
      "cell_type": "code",
      "source": [
        "X_train_down, X_test_down, y_train_down, y_test_down = train_test_split(X_down, y_down, test_size=0.25, random_state=42, stratify=y_down)"
      ],
      "metadata": {
        "id": "J2re0By5lLOJ"
      },
      "execution_count": 23,
      "outputs": []
    },
    {
      "cell_type": "markdown",
      "source": [
        "## **Splitting the Upsampled Dataset**\n"
      ],
      "metadata": {
        "id": "ipTAiIsDlaSJ"
      }
    },
    {
      "cell_type": "code",
      "source": [
        "# Split the upsampled dataset\n",
        "X_train_up, X_test_up, y_train_up, y_test_up = train_test_split(X_up, y_up, test_size=0.25, random_state=42)"
      ],
      "metadata": {
        "id": "8NGVGQ7Zlswn"
      },
      "execution_count": 24,
      "outputs": []
    },
    {
      "cell_type": "markdown",
      "source": [
        "**ANN**"
      ],
      "metadata": {
        "id": "Zd642dBKlzme"
      }
    },
    {
      "cell_type": "code",
      "source": [
        "import tensorflow as tf\n",
        "from tensorflow import keras\n",
        "import pandas as pd\n",
        "\n",
        "# Assuming X_train_smote contains string columns, you need to convert them to numerical\n",
        "# Replace 'string_column_name1', 'string_column_name2' etc. with the actual names\n",
        "# of your string columns in X_train_smote\n",
        "for column in X_train_smote.select_dtypes(include=['object']).columns:\n",
        "    X_train_smote[column] = pd.factorize(X_train_smote[column])[0]\n",
        "\n",
        "# Ensure y_train_smote is also numerical (0 and 1) if it's not already:\n",
        "y_train_smote = pd.factorize(y_train_smote)[0]\n",
        "\n",
        "model = keras.Sequential([\n",
        "    keras.layers.Dense(26, input_shape=(X_train_smote.shape[1],), activation='relu'), # Adjusted input_shape\n",
        "    keras.layers.Dense(15, activation='relu'),\n",
        "    keras.layers.Dense(1, activation='sigmoid')\n",
        "])\n",
        "\n",
        "model.compile(optimizer='adam',\n",
        "              loss='binary_crossentropy',\n",
        "              metrics=['accuracy'])\n",
        "\n",
        "model.fit(X_train_smote, y_train_smote, epochs=100)"
      ],
      "metadata": {
        "colab": {
          "base_uri": "https://localhost:8080/"
        },
        "id": "zlJrMK5al2gG",
        "outputId": "6d935ab6-4717-4fba-b777-592eddcac1ae"
      },
      "execution_count": 25,
      "outputs": [
        {
          "output_type": "stream",
          "name": "stdout",
          "text": [
            "Epoch 1/100\n",
            "\u001b[1m4360/4360\u001b[0m \u001b[32m━━━━━━━━━━━━━━━━━━━━\u001b[0m\u001b[37m\u001b[0m \u001b[1m10s\u001b[0m 2ms/step - accuracy: 0.9635 - loss: 0.0885\n",
            "Epoch 2/100\n",
            "\u001b[1m4360/4360\u001b[0m \u001b[32m━━━━━━━━━━━━━━━━━━━━\u001b[0m\u001b[37m\u001b[0m \u001b[1m9s\u001b[0m 2ms/step - accuracy: 1.0000 - loss: 8.1564e-06\n",
            "Epoch 3/100\n",
            "\u001b[1m4360/4360\u001b[0m \u001b[32m━━━━━━━━━━━━━━━━━━━━\u001b[0m\u001b[37m\u001b[0m \u001b[1m9s\u001b[0m 2ms/step - accuracy: 1.0000 - loss: 5.8076e-07\n",
            "Epoch 4/100\n",
            "\u001b[1m4360/4360\u001b[0m \u001b[32m━━━━━━━━━━━━━━━━━━━━\u001b[0m\u001b[37m\u001b[0m \u001b[1m10s\u001b[0m 2ms/step - accuracy: 1.0000 - loss: 5.3204e-08\n",
            "Epoch 5/100\n",
            "\u001b[1m4360/4360\u001b[0m \u001b[32m━━━━━━━━━━━━━━━━━━━━\u001b[0m\u001b[37m\u001b[0m \u001b[1m9s\u001b[0m 2ms/step - accuracy: 1.0000 - loss: 8.0834e-09\n",
            "Epoch 6/100\n",
            "\u001b[1m4360/4360\u001b[0m \u001b[32m━━━━━━━━━━━━━━━━━━━━\u001b[0m\u001b[37m\u001b[0m \u001b[1m9s\u001b[0m 2ms/step - accuracy: 1.0000 - loss: 4.3563e-09\n",
            "Epoch 7/100\n",
            "\u001b[1m4360/4360\u001b[0m \u001b[32m━━━━━━━━━━━━━━━━━━━━\u001b[0m\u001b[37m\u001b[0m \u001b[1m11s\u001b[0m 2ms/step - accuracy: 1.0000 - loss: 4.0716e-09\n",
            "Epoch 8/100\n",
            "\u001b[1m4360/4360\u001b[0m \u001b[32m━━━━━━━━━━━━━━━━━━━━\u001b[0m\u001b[37m\u001b[0m \u001b[1m8s\u001b[0m 2ms/step - accuracy: 1.0000 - loss: 3.7765e-09\n",
            "Epoch 9/100\n",
            "\u001b[1m4360/4360\u001b[0m \u001b[32m━━━━━━━━━━━━━━━━━━━━\u001b[0m\u001b[37m\u001b[0m \u001b[1m10s\u001b[0m 2ms/step - accuracy: 1.0000 - loss: 3.6965e-09\n",
            "Epoch 10/100\n",
            "\u001b[1m4360/4360\u001b[0m \u001b[32m━━━━━━━━━━━━━━━━━━━━\u001b[0m\u001b[37m\u001b[0m \u001b[1m10s\u001b[0m 2ms/step - accuracy: 1.0000 - loss: 3.7328e-09\n",
            "Epoch 11/100\n",
            "\u001b[1m4360/4360\u001b[0m \u001b[32m━━━━━━━━━━━━━━━━━━━━\u001b[0m\u001b[37m\u001b[0m \u001b[1m8s\u001b[0m 2ms/step - accuracy: 1.0000 - loss: 3.7467e-09\n",
            "Epoch 12/100\n",
            "\u001b[1m4360/4360\u001b[0m \u001b[32m━━━━━━━━━━━━━━━━━━━━\u001b[0m\u001b[37m\u001b[0m \u001b[1m10s\u001b[0m 2ms/step - accuracy: 1.0000 - loss: 3.7450e-09\n",
            "Epoch 13/100\n",
            "\u001b[1m4360/4360\u001b[0m \u001b[32m━━━━━━━━━━━━━━━━━━━━\u001b[0m\u001b[37m\u001b[0m \u001b[1m9s\u001b[0m 2ms/step - accuracy: 1.0000 - loss: 3.7506e-09\n",
            "Epoch 14/100\n",
            "\u001b[1m4360/4360\u001b[0m \u001b[32m━━━━━━━━━━━━━━━━━━━━\u001b[0m\u001b[37m\u001b[0m \u001b[1m8s\u001b[0m 2ms/step - accuracy: 1.0000 - loss: 3.7566e-09\n",
            "Epoch 15/100\n",
            "\u001b[1m4360/4360\u001b[0m \u001b[32m━━━━━━━━━━━━━━━━━━━━\u001b[0m\u001b[37m\u001b[0m \u001b[1m9s\u001b[0m 2ms/step - accuracy: 1.0000 - loss: 3.7563e-09\n",
            "Epoch 16/100\n",
            "\u001b[1m4360/4360\u001b[0m \u001b[32m━━━━━━━━━━━━━━━━━━━━\u001b[0m\u001b[37m\u001b[0m \u001b[1m8s\u001b[0m 2ms/step - accuracy: 1.0000 - loss: 3.7598e-09\n",
            "Epoch 17/100\n",
            "\u001b[1m4360/4360\u001b[0m \u001b[32m━━━━━━━━━━━━━━━━━━━━\u001b[0m\u001b[37m\u001b[0m \u001b[1m9s\u001b[0m 2ms/step - accuracy: 1.0000 - loss: 3.7595e-09\n",
            "Epoch 18/100\n",
            "\u001b[1m4360/4360\u001b[0m \u001b[32m━━━━━━━━━━━━━━━━━━━━\u001b[0m\u001b[37m\u001b[0m \u001b[1m11s\u001b[0m 2ms/step - accuracy: 1.0000 - loss: 3.7704e-09\n",
            "Epoch 19/100\n",
            "\u001b[1m4360/4360\u001b[0m \u001b[32m━━━━━━━━━━━━━━━━━━━━\u001b[0m\u001b[37m\u001b[0m \u001b[1m9s\u001b[0m 2ms/step - accuracy: 1.0000 - loss: 3.7852e-09\n",
            "Epoch 20/100\n",
            "\u001b[1m4360/4360\u001b[0m \u001b[32m━━━━━━━━━━━━━━━━━━━━\u001b[0m\u001b[37m\u001b[0m \u001b[1m10s\u001b[0m 2ms/step - accuracy: 1.0000 - loss: 3.7691e-09\n",
            "Epoch 21/100\n",
            "\u001b[1m4360/4360\u001b[0m \u001b[32m━━━━━━━━━━━━━━━━━━━━\u001b[0m\u001b[37m\u001b[0m \u001b[1m10s\u001b[0m 2ms/step - accuracy: 1.0000 - loss: 3.7748e-09\n",
            "Epoch 22/100\n",
            "\u001b[1m4360/4360\u001b[0m \u001b[32m━━━━━━━━━━━━━━━━━━━━\u001b[0m\u001b[37m\u001b[0m \u001b[1m9s\u001b[0m 2ms/step - accuracy: 1.0000 - loss: 3.7699e-09\n",
            "Epoch 23/100\n",
            "\u001b[1m4360/4360\u001b[0m \u001b[32m━━━━━━━━━━━━━━━━━━━━\u001b[0m\u001b[37m\u001b[0m \u001b[1m9s\u001b[0m 2ms/step - accuracy: 1.0000 - loss: 3.7775e-09\n",
            "Epoch 24/100\n",
            "\u001b[1m4360/4360\u001b[0m \u001b[32m━━━━━━━━━━━━━━━━━━━━\u001b[0m\u001b[37m\u001b[0m \u001b[1m9s\u001b[0m 2ms/step - accuracy: 1.0000 - loss: 3.7938e-09\n",
            "Epoch 25/100\n",
            "\u001b[1m4360/4360\u001b[0m \u001b[32m━━━━━━━━━━━━━━━━━━━━\u001b[0m\u001b[37m\u001b[0m \u001b[1m8s\u001b[0m 2ms/step - accuracy: 1.0000 - loss: 3.8031e-09\n",
            "Epoch 26/100\n",
            "\u001b[1m4360/4360\u001b[0m \u001b[32m━━━━━━━━━━━━━━━━━━━━\u001b[0m\u001b[37m\u001b[0m \u001b[1m10s\u001b[0m 2ms/step - accuracy: 1.0000 - loss: 3.7512e-09\n",
            "Epoch 27/100\n",
            "\u001b[1m4360/4360\u001b[0m \u001b[32m━━━━━━━━━━━━━━━━━━━━\u001b[0m\u001b[37m\u001b[0m \u001b[1m10s\u001b[0m 2ms/step - accuracy: 1.0000 - loss: 3.7951e-09\n",
            "Epoch 28/100\n",
            "\u001b[1m4360/4360\u001b[0m \u001b[32m━━━━━━━━━━━━━━━━━━━━\u001b[0m\u001b[37m\u001b[0m \u001b[1m8s\u001b[0m 2ms/step - accuracy: 1.0000 - loss: 3.7645e-09\n",
            "Epoch 29/100\n",
            "\u001b[1m4360/4360\u001b[0m \u001b[32m━━━━━━━━━━━━━━━━━━━━\u001b[0m\u001b[37m\u001b[0m \u001b[1m9s\u001b[0m 2ms/step - accuracy: 1.0000 - loss: 3.7442e-09\n",
            "Epoch 30/100\n",
            "\u001b[1m4360/4360\u001b[0m \u001b[32m━━━━━━━━━━━━━━━━━━━━\u001b[0m\u001b[37m\u001b[0m \u001b[1m10s\u001b[0m 2ms/step - accuracy: 1.0000 - loss: 3.7327e-09\n",
            "Epoch 31/100\n",
            "\u001b[1m4360/4360\u001b[0m \u001b[32m━━━━━━━━━━━━━━━━━━━━\u001b[0m\u001b[37m\u001b[0m \u001b[1m7s\u001b[0m 2ms/step - accuracy: 1.0000 - loss: 3.7656e-09\n",
            "Epoch 32/100\n",
            "\u001b[1m4360/4360\u001b[0m \u001b[32m━━━━━━━━━━━━━━━━━━━━\u001b[0m\u001b[37m\u001b[0m \u001b[1m10s\u001b[0m 2ms/step - accuracy: 1.0000 - loss: 3.7540e-09\n",
            "Epoch 33/100\n",
            "\u001b[1m4360/4360\u001b[0m \u001b[32m━━━━━━━━━━━━━━━━━━━━\u001b[0m\u001b[37m\u001b[0m \u001b[1m9s\u001b[0m 2ms/step - accuracy: 1.0000 - loss: 3.7883e-09\n",
            "Epoch 34/100\n",
            "\u001b[1m4360/4360\u001b[0m \u001b[32m━━━━━━━━━━━━━━━━━━━━\u001b[0m\u001b[37m\u001b[0m \u001b[1m8s\u001b[0m 2ms/step - accuracy: 1.0000 - loss: 3.7998e-09\n",
            "Epoch 35/100\n",
            "\u001b[1m4360/4360\u001b[0m \u001b[32m━━━━━━━━━━━━━━━━━━━━\u001b[0m\u001b[37m\u001b[0m \u001b[1m9s\u001b[0m 2ms/step - accuracy: 1.0000 - loss: 3.7579e-09\n",
            "Epoch 36/100\n",
            "\u001b[1m4360/4360\u001b[0m \u001b[32m━━━━━━━━━━━━━━━━━━━━\u001b[0m\u001b[37m\u001b[0m \u001b[1m9s\u001b[0m 2ms/step - accuracy: 1.0000 - loss: 3.7535e-09\n",
            "Epoch 37/100\n",
            "\u001b[1m4360/4360\u001b[0m \u001b[32m━━━━━━━━━━━━━━━━━━━━\u001b[0m\u001b[37m\u001b[0m \u001b[1m7s\u001b[0m 2ms/step - accuracy: 1.0000 - loss: 3.7595e-09\n",
            "Epoch 38/100\n",
            "\u001b[1m4360/4360\u001b[0m \u001b[32m━━━━━━━━━━━━━━━━━━━━\u001b[0m\u001b[37m\u001b[0m \u001b[1m12s\u001b[0m 2ms/step - accuracy: 1.0000 - loss: 3.7689e-09\n",
            "Epoch 39/100\n",
            "\u001b[1m4360/4360\u001b[0m \u001b[32m━━━━━━━━━━━━━━━━━━━━\u001b[0m\u001b[37m\u001b[0m \u001b[1m10s\u001b[0m 2ms/step - accuracy: 1.0000 - loss: 3.7807e-09\n",
            "Epoch 40/100\n",
            "\u001b[1m4360/4360\u001b[0m \u001b[32m━━━━━━━━━━━━━━━━━━━━\u001b[0m\u001b[37m\u001b[0m \u001b[1m8s\u001b[0m 2ms/step - accuracy: 1.0000 - loss: 3.7479e-09\n",
            "Epoch 41/100\n",
            "\u001b[1m4360/4360\u001b[0m \u001b[32m━━━━━━━━━━━━━━━━━━━━\u001b[0m\u001b[37m\u001b[0m \u001b[1m10s\u001b[0m 2ms/step - accuracy: 1.0000 - loss: 3.7745e-09\n",
            "Epoch 42/100\n",
            "\u001b[1m4360/4360\u001b[0m \u001b[32m━━━━━━━━━━━━━━━━━━━━\u001b[0m\u001b[37m\u001b[0m \u001b[1m12s\u001b[0m 2ms/step - accuracy: 1.0000 - loss: 3.8015e-09\n",
            "Epoch 43/100\n",
            "\u001b[1m4360/4360\u001b[0m \u001b[32m━━━━━━━━━━━━━━━━━━━━\u001b[0m\u001b[37m\u001b[0m \u001b[1m9s\u001b[0m 2ms/step - accuracy: 1.0000 - loss: 3.7794e-09\n",
            "Epoch 44/100\n",
            "\u001b[1m4360/4360\u001b[0m \u001b[32m━━━━━━━━━━━━━━━━━━━━\u001b[0m\u001b[37m\u001b[0m \u001b[1m8s\u001b[0m 2ms/step - accuracy: 1.0000 - loss: 3.7877e-09\n",
            "Epoch 45/100\n",
            "\u001b[1m4360/4360\u001b[0m \u001b[32m━━━━━━━━━━━━━━━━━━━━\u001b[0m\u001b[37m\u001b[0m \u001b[1m10s\u001b[0m 2ms/step - accuracy: 1.0000 - loss: 3.7701e-09\n",
            "Epoch 46/100\n",
            "\u001b[1m4360/4360\u001b[0m \u001b[32m━━━━━━━━━━━━━━━━━━━━\u001b[0m\u001b[37m\u001b[0m \u001b[1m12s\u001b[0m 2ms/step - accuracy: 1.0000 - loss: 3.7526e-09\n",
            "Epoch 47/100\n",
            "\u001b[1m4360/4360\u001b[0m \u001b[32m━━━━━━━━━━━━━━━━━━━━\u001b[0m\u001b[37m\u001b[0m \u001b[1m10s\u001b[0m 2ms/step - accuracy: 1.0000 - loss: 3.7736e-09\n",
            "Epoch 48/100\n",
            "\u001b[1m4360/4360\u001b[0m \u001b[32m━━━━━━━━━━━━━━━━━━━━\u001b[0m\u001b[37m\u001b[0m \u001b[1m9s\u001b[0m 2ms/step - accuracy: 1.0000 - loss: 3.8173e-09\n",
            "Epoch 49/100\n",
            "\u001b[1m4360/4360\u001b[0m \u001b[32m━━━━━━━━━━━━━━━━━━━━\u001b[0m\u001b[37m\u001b[0m \u001b[1m10s\u001b[0m 2ms/step - accuracy: 1.0000 - loss: 3.7808e-09\n",
            "Epoch 50/100\n",
            "\u001b[1m4360/4360\u001b[0m \u001b[32m━━━━━━━━━━━━━━━━━━━━\u001b[0m\u001b[37m\u001b[0m \u001b[1m12s\u001b[0m 2ms/step - accuracy: 1.0000 - loss: 3.8046e-09\n",
            "Epoch 51/100\n",
            "\u001b[1m4360/4360\u001b[0m \u001b[32m━━━━━━━━━━━━━━━━━━━━\u001b[0m\u001b[37m\u001b[0m \u001b[1m11s\u001b[0m 2ms/step - accuracy: 1.0000 - loss: 3.7506e-09\n",
            "Epoch 52/100\n",
            "\u001b[1m4360/4360\u001b[0m \u001b[32m━━━━━━━━━━━━━━━━━━━━\u001b[0m\u001b[37m\u001b[0m \u001b[1m8s\u001b[0m 2ms/step - accuracy: 1.0000 - loss: 3.7842e-09\n",
            "Epoch 53/100\n",
            "\u001b[1m4360/4360\u001b[0m \u001b[32m━━━━━━━━━━━━━━━━━━━━\u001b[0m\u001b[37m\u001b[0m \u001b[1m9s\u001b[0m 2ms/step - accuracy: 1.0000 - loss: 3.7809e-09\n",
            "Epoch 54/100\n",
            "\u001b[1m4360/4360\u001b[0m \u001b[32m━━━━━━━━━━━━━━━━━━━━\u001b[0m\u001b[37m\u001b[0m \u001b[1m10s\u001b[0m 2ms/step - accuracy: 1.0000 - loss: 3.7685e-09\n",
            "Epoch 55/100\n",
            "\u001b[1m4360/4360\u001b[0m \u001b[32m━━━━━━━━━━━━━━━━━━━━\u001b[0m\u001b[37m\u001b[0m \u001b[1m8s\u001b[0m 2ms/step - accuracy: 1.0000 - loss: 3.7964e-09\n",
            "Epoch 56/100\n",
            "\u001b[1m4360/4360\u001b[0m \u001b[32m━━━━━━━━━━━━━━━━━━━━\u001b[0m\u001b[37m\u001b[0m \u001b[1m9s\u001b[0m 2ms/step - accuracy: 1.0000 - loss: 3.7522e-09\n",
            "Epoch 57/100\n",
            "\u001b[1m4360/4360\u001b[0m \u001b[32m━━━━━━━━━━━━━━━━━━━━\u001b[0m\u001b[37m\u001b[0m \u001b[1m8s\u001b[0m 2ms/step - accuracy: 1.0000 - loss: 3.7584e-09\n",
            "Epoch 58/100\n",
            "\u001b[1m4360/4360\u001b[0m \u001b[32m━━━━━━━━━━━━━━━━━━━━\u001b[0m\u001b[37m\u001b[0m \u001b[1m9s\u001b[0m 2ms/step - accuracy: 1.0000 - loss: 3.7700e-09\n",
            "Epoch 59/100\n",
            "\u001b[1m4360/4360\u001b[0m \u001b[32m━━━━━━━━━━━━━━━━━━━━\u001b[0m\u001b[37m\u001b[0m \u001b[1m11s\u001b[0m 2ms/step - accuracy: 1.0000 - loss: 3.8087e-09\n",
            "Epoch 60/100\n",
            "\u001b[1m4360/4360\u001b[0m \u001b[32m━━━━━━━━━━━━━━━━━━━━\u001b[0m\u001b[37m\u001b[0m \u001b[1m8s\u001b[0m 2ms/step - accuracy: 1.0000 - loss: 3.8065e-09\n",
            "Epoch 61/100\n",
            "\u001b[1m4360/4360\u001b[0m \u001b[32m━━━━━━━━━━━━━━━━━━━━\u001b[0m\u001b[37m\u001b[0m \u001b[1m10s\u001b[0m 2ms/step - accuracy: 1.0000 - loss: 3.8027e-09\n",
            "Epoch 62/100\n",
            "\u001b[1m4360/4360\u001b[0m \u001b[32m━━━━━━━━━━━━━━━━━━━━\u001b[0m\u001b[37m\u001b[0m \u001b[1m11s\u001b[0m 2ms/step - accuracy: 1.0000 - loss: 3.7582e-09\n",
            "Epoch 63/100\n",
            "\u001b[1m4360/4360\u001b[0m \u001b[32m━━━━━━━━━━━━━━━━━━━━\u001b[0m\u001b[37m\u001b[0m \u001b[1m11s\u001b[0m 2ms/step - accuracy: 1.0000 - loss: 3.8059e-09\n",
            "Epoch 64/100\n",
            "\u001b[1m4360/4360\u001b[0m \u001b[32m━━━━━━━━━━━━━━━━━━━━\u001b[0m\u001b[37m\u001b[0m \u001b[1m8s\u001b[0m 2ms/step - accuracy: 1.0000 - loss: 3.8095e-09\n",
            "Epoch 65/100\n",
            "\u001b[1m4360/4360\u001b[0m \u001b[32m━━━━━━━━━━━━━━━━━━━━\u001b[0m\u001b[37m\u001b[0m \u001b[1m10s\u001b[0m 2ms/step - accuracy: 1.0000 - loss: 3.7910e-09\n",
            "Epoch 66/100\n",
            "\u001b[1m4360/4360\u001b[0m \u001b[32m━━━━━━━━━━━━━━━━━━━━\u001b[0m\u001b[37m\u001b[0m \u001b[1m12s\u001b[0m 2ms/step - accuracy: 1.0000 - loss: 3.7612e-09\n",
            "Epoch 67/100\n",
            "\u001b[1m4360/4360\u001b[0m \u001b[32m━━━━━━━━━━━━━━━━━━━━\u001b[0m\u001b[37m\u001b[0m \u001b[1m9s\u001b[0m 2ms/step - accuracy: 1.0000 - loss: 3.7783e-09\n",
            "Epoch 68/100\n",
            "\u001b[1m4360/4360\u001b[0m \u001b[32m━━━━━━━━━━━━━━━━━━━━\u001b[0m\u001b[37m\u001b[0m \u001b[1m8s\u001b[0m 2ms/step - accuracy: 1.0000 - loss: 3.7816e-09\n",
            "Epoch 69/100\n",
            "\u001b[1m4360/4360\u001b[0m \u001b[32m━━━━━━━━━━━━━━━━━━━━\u001b[0m\u001b[37m\u001b[0m \u001b[1m11s\u001b[0m 2ms/step - accuracy: 1.0000 - loss: 3.7750e-09\n",
            "Epoch 70/100\n",
            "\u001b[1m4360/4360\u001b[0m \u001b[32m━━━━━━━━━━━━━━━━━━━━\u001b[0m\u001b[37m\u001b[0m \u001b[1m9s\u001b[0m 2ms/step - accuracy: 1.0000 - loss: 3.8062e-09\n",
            "Epoch 71/100\n",
            "\u001b[1m4360/4360\u001b[0m \u001b[32m━━━━━━━━━━━━━━━━━━━━\u001b[0m\u001b[37m\u001b[0m \u001b[1m9s\u001b[0m 2ms/step - accuracy: 1.0000 - loss: 3.8040e-09\n",
            "Epoch 72/100\n",
            "\u001b[1m4360/4360\u001b[0m \u001b[32m━━━━━━━━━━━━━━━━━━━━\u001b[0m\u001b[37m\u001b[0m \u001b[1m10s\u001b[0m 2ms/step - accuracy: 1.0000 - loss: 3.7703e-09\n",
            "Epoch 73/100\n",
            "\u001b[1m4360/4360\u001b[0m \u001b[32m━━━━━━━━━━━━━━━━━━━━\u001b[0m\u001b[37m\u001b[0m \u001b[1m12s\u001b[0m 2ms/step - accuracy: 1.0000 - loss: 3.7947e-09\n",
            "Epoch 74/100\n",
            "\u001b[1m4360/4360\u001b[0m \u001b[32m━━━━━━━━━━━━━━━━━━━━\u001b[0m\u001b[37m\u001b[0m \u001b[1m12s\u001b[0m 2ms/step - accuracy: 1.0000 - loss: 3.7728e-09\n",
            "Epoch 75/100\n",
            "\u001b[1m4360/4360\u001b[0m \u001b[32m━━━━━━━━━━━━━━━━━━━━\u001b[0m\u001b[37m\u001b[0m \u001b[1m17s\u001b[0m 2ms/step - accuracy: 1.0000 - loss: 3.8132e-09\n",
            "Epoch 76/100\n",
            "\u001b[1m4360/4360\u001b[0m \u001b[32m━━━━━━━━━━━━━━━━━━━━\u001b[0m\u001b[37m\u001b[0m \u001b[1m12s\u001b[0m 2ms/step - accuracy: 1.0000 - loss: 3.7450e-09\n",
            "Epoch 77/100\n",
            "\u001b[1m4360/4360\u001b[0m \u001b[32m━━━━━━━━━━━━━━━━━━━━\u001b[0m\u001b[37m\u001b[0m \u001b[1m11s\u001b[0m 2ms/step - accuracy: 1.0000 - loss: 3.7636e-09\n",
            "Epoch 78/100\n",
            "\u001b[1m4360/4360\u001b[0m \u001b[32m━━━━━━━━━━━━━━━━━━━━\u001b[0m\u001b[37m\u001b[0m \u001b[1m8s\u001b[0m 2ms/step - accuracy: 1.0000 - loss: 3.7826e-09\n",
            "Epoch 79/100\n",
            "\u001b[1m4360/4360\u001b[0m \u001b[32m━━━━━━━━━━━━━━━━━━━━\u001b[0m\u001b[37m\u001b[0m \u001b[1m9s\u001b[0m 2ms/step - accuracy: 1.0000 - loss: 3.7469e-09\n",
            "Epoch 80/100\n",
            "\u001b[1m4360/4360\u001b[0m \u001b[32m━━━━━━━━━━━━━━━━━━━━\u001b[0m\u001b[37m\u001b[0m \u001b[1m11s\u001b[0m 2ms/step - accuracy: 1.0000 - loss: 3.7999e-09\n",
            "Epoch 81/100\n",
            "\u001b[1m4360/4360\u001b[0m \u001b[32m━━━━━━━━━━━━━━━━━━━━\u001b[0m\u001b[37m\u001b[0m \u001b[1m9s\u001b[0m 2ms/step - accuracy: 1.0000 - loss: 3.8161e-09\n",
            "Epoch 82/100\n",
            "\u001b[1m4360/4360\u001b[0m \u001b[32m━━━━━━━━━━━━━━━━━━━━\u001b[0m\u001b[37m\u001b[0m \u001b[1m10s\u001b[0m 2ms/step - accuracy: 1.0000 - loss: 3.7911e-09\n",
            "Epoch 83/100\n",
            "\u001b[1m4360/4360\u001b[0m \u001b[32m━━━━━━━━━━━━━━━━━━━━\u001b[0m\u001b[37m\u001b[0m \u001b[1m11s\u001b[0m 2ms/step - accuracy: 1.0000 - loss: 3.7493e-09\n",
            "Epoch 84/100\n",
            "\u001b[1m4360/4360\u001b[0m \u001b[32m━━━━━━━━━━━━━━━━━━━━\u001b[0m\u001b[37m\u001b[0m \u001b[1m11s\u001b[0m 2ms/step - accuracy: 1.0000 - loss: 3.7586e-09\n",
            "Epoch 85/100\n",
            "\u001b[1m4360/4360\u001b[0m \u001b[32m━━━━━━━━━━━━━━━━━━━━\u001b[0m\u001b[37m\u001b[0m \u001b[1m9s\u001b[0m 2ms/step - accuracy: 1.0000 - loss: 3.8093e-09\n",
            "Epoch 86/100\n",
            "\u001b[1m4360/4360\u001b[0m \u001b[32m━━━━━━━━━━━━━━━━━━━━\u001b[0m\u001b[37m\u001b[0m \u001b[1m10s\u001b[0m 2ms/step - accuracy: 1.0000 - loss: 3.7642e-09\n",
            "Epoch 87/100\n",
            "\u001b[1m4360/4360\u001b[0m \u001b[32m━━━━━━━━━━━━━━━━━━━━\u001b[0m\u001b[37m\u001b[0m \u001b[1m11s\u001b[0m 2ms/step - accuracy: 1.0000 - loss: 3.8351e-09\n",
            "Epoch 88/100\n",
            "\u001b[1m4360/4360\u001b[0m \u001b[32m━━━━━━━━━━━━━━━━━━━━\u001b[0m\u001b[37m\u001b[0m \u001b[1m9s\u001b[0m 2ms/step - accuracy: 1.0000 - loss: 3.7751e-09\n",
            "Epoch 89/100\n",
            "\u001b[1m4360/4360\u001b[0m \u001b[32m━━━━━━━━━━━━━━━━━━━━\u001b[0m\u001b[37m\u001b[0m \u001b[1m8s\u001b[0m 2ms/step - accuracy: 1.0000 - loss: 3.7946e-09\n",
            "Epoch 90/100\n",
            "\u001b[1m4360/4360\u001b[0m \u001b[32m━━━━━━━━━━━━━━━━━━━━\u001b[0m\u001b[37m\u001b[0m \u001b[1m10s\u001b[0m 2ms/step - accuracy: 1.0000 - loss: 3.7698e-09\n",
            "Epoch 91/100\n",
            "\u001b[1m4360/4360\u001b[0m \u001b[32m━━━━━━━━━━━━━━━━━━━━\u001b[0m\u001b[37m\u001b[0m \u001b[1m10s\u001b[0m 2ms/step - accuracy: 1.0000 - loss: 3.7825e-09\n",
            "Epoch 92/100\n",
            "\u001b[1m4360/4360\u001b[0m \u001b[32m━━━━━━━━━━━━━━━━━━━━\u001b[0m\u001b[37m\u001b[0m \u001b[1m8s\u001b[0m 2ms/step - accuracy: 1.0000 - loss: 3.8310e-09\n",
            "Epoch 93/100\n",
            "\u001b[1m4360/4360\u001b[0m \u001b[32m━━━━━━━━━━━━━━━━━━━━\u001b[0m\u001b[37m\u001b[0m \u001b[1m12s\u001b[0m 2ms/step - accuracy: 1.0000 - loss: 3.7973e-09\n",
            "Epoch 94/100\n",
            "\u001b[1m4360/4360\u001b[0m \u001b[32m━━━━━━━━━━━━━━━━━━━━\u001b[0m\u001b[37m\u001b[0m \u001b[1m9s\u001b[0m 2ms/step - accuracy: 1.0000 - loss: 3.8171e-09\n",
            "Epoch 95/100\n",
            "\u001b[1m4360/4360\u001b[0m \u001b[32m━━━━━━━━━━━━━━━━━━━━\u001b[0m\u001b[37m\u001b[0m \u001b[1m8s\u001b[0m 2ms/step - accuracy: 1.0000 - loss: 3.7756e-09\n",
            "Epoch 96/100\n",
            "\u001b[1m4360/4360\u001b[0m \u001b[32m━━━━━━━━━━━━━━━━━━━━\u001b[0m\u001b[37m\u001b[0m \u001b[1m12s\u001b[0m 2ms/step - accuracy: 1.0000 - loss: 3.7792e-09\n",
            "Epoch 97/100\n",
            "\u001b[1m4360/4360\u001b[0m \u001b[32m━━━━━━━━━━━━━━━━━━━━\u001b[0m\u001b[37m\u001b[0m \u001b[1m10s\u001b[0m 2ms/step - accuracy: 1.0000 - loss: 3.8319e-09\n",
            "Epoch 98/100\n",
            "\u001b[1m4360/4360\u001b[0m \u001b[32m━━━━━━━━━━━━━━━━━━━━\u001b[0m\u001b[37m\u001b[0m \u001b[1m8s\u001b[0m 2ms/step - accuracy: 1.0000 - loss: 3.7925e-09\n",
            "Epoch 99/100\n",
            "\u001b[1m4360/4360\u001b[0m \u001b[32m━━━━━━━━━━━━━━━━━━━━\u001b[0m\u001b[37m\u001b[0m \u001b[1m9s\u001b[0m 2ms/step - accuracy: 1.0000 - loss: 3.8011e-09\n",
            "Epoch 100/100\n",
            "\u001b[1m4360/4360\u001b[0m \u001b[32m━━━━━━━━━━━━━━━━━━━━\u001b[0m\u001b[37m\u001b[0m \u001b[1m8s\u001b[0m 2ms/step - accuracy: 1.0000 - loss: 3.7920e-09\n"
          ]
        },
        {
          "output_type": "execute_result",
          "data": {
            "text/plain": [
              "<keras.src.callbacks.history.History at 0x798d0089b850>"
            ]
          },
          "metadata": {},
          "execution_count": 25
        }
      ]
    },
    {
      "cell_type": "code",
      "source": [
        "import tensorflow as tf\n",
        "from tensorflow import keras\n",
        "import pandas as pd\n",
        "\n",
        "# ... (your existing code) ...\n",
        "\n",
        "# Before evaluating the model, preprocess X_test_smote:\n",
        "for column in X_test_smote.select_dtypes(include=['object']).columns:\n",
        "    X_test_smote[column] = pd.factorize(X_test_smote[column])[0]\n",
        "\n",
        "# Ensure y_test_smote is also numerical (0 and 1) if it's not already:\n",
        "y_test_smote = pd.factorize(y_test_smote)[0] # Applying the same preprocessing for y_test_smote\n",
        "\n",
        "# Now evaluate the model:\n",
        "model.evaluate(X_test_smote, y_test_smote)"
      ],
      "metadata": {
        "colab": {
          "base_uri": "https://localhost:8080/"
        },
        "id": "AQG6qrgko46i",
        "outputId": "09762e65-668a-4e77-fa5a-3170683c7d37"
      },
      "execution_count": 26,
      "outputs": [
        {
          "output_type": "stream",
          "name": "stdout",
          "text": [
            "\u001b[1m1454/1454\u001b[0m \u001b[32m━━━━━━━━━━━━━━━━━━━━\u001b[0m\u001b[37m\u001b[0m \u001b[1m7s\u001b[0m 5ms/step - accuracy: 0.0000e+00 - loss: 25.9549\n"
          ]
        },
        {
          "output_type": "execute_result",
          "data": {
            "text/plain": [
              "[26.010709762573242, 0.0]"
            ]
          },
          "metadata": {},
          "execution_count": 26
        }
      ]
    },
    {
      "cell_type": "code",
      "source": [
        "yp = model.predict(X_test_smote)\n",
        "yp = (yp > 0.5).astype(int) # Convert probabilities to binary predictions\n",
        "yp[:5]"
      ],
      "metadata": {
        "colab": {
          "base_uri": "https://localhost:8080/"
        },
        "id": "vG4N1RW7pSOP",
        "outputId": "4b6608e8-7a04-41b8-b727-472acce49e8c"
      },
      "execution_count": 27,
      "outputs": [
        {
          "output_type": "stream",
          "name": "stdout",
          "text": [
            "\u001b[1m1454/1454\u001b[0m \u001b[32m━━━━━━━━━━━━━━━━━━━━\u001b[0m\u001b[37m\u001b[0m \u001b[1m2s\u001b[0m 1ms/step\n"
          ]
        },
        {
          "output_type": "execute_result",
          "data": {
            "text/plain": [
              "array([[1],\n",
              "       [0],\n",
              "       [0],\n",
              "       [1],\n",
              "       [0]])"
            ]
          },
          "metadata": {},
          "execution_count": 27
        }
      ]
    },
    {
      "cell_type": "code",
      "source": [
        "y_pred_smote = yp.flatten().astype(int)"
      ],
      "metadata": {
        "id": "rRyqXB9aplm2"
      },
      "execution_count": 28,
      "outputs": []
    },
    {
      "cell_type": "code",
      "source": [
        "from sklearn.metrics import confusion_matrix, classification_report\n",
        "\n",
        "print(classification_report(y_test_smote, y_pred_smote))"
      ],
      "metadata": {
        "colab": {
          "base_uri": "https://localhost:8080/"
        },
        "id": "AdivyHZUp_Ii",
        "outputId": "e52a4b41-fcea-4984-c9ea-9470165f916a"
      },
      "execution_count": 29,
      "outputs": [
        {
          "output_type": "stream",
          "name": "stdout",
          "text": [
            "              precision    recall  f1-score   support\n",
            "\n",
            "           0       0.00      0.00      0.00   23250.0\n",
            "           1       0.00      0.00      0.00   23250.0\n",
            "\n",
            "    accuracy                           0.00   46500.0\n",
            "   macro avg       0.00      0.00      0.00   46500.0\n",
            "weighted avg       0.00      0.00      0.00   46500.0\n",
            "\n"
          ]
        }
      ]
    },
    {
      "cell_type": "code",
      "source": [
        "import seaborn as sns\n",
        "cm = confusion_matrix(y_test_smote, y_pred_smote)\n",
        "plt.figure(figsize = (10,7))\n",
        "sns.heatmap(cm, annot=True, fmt='d')\n",
        "plt.xlabel('Predicted')\n",
        "plt.ylabel('Truth')\n",
        "plt.show()"
      ],
      "metadata": {
        "colab": {
          "base_uri": "https://localhost:8080/",
          "height": 619
        },
        "id": "JQomq_OFqNbg",
        "outputId": "303b62ee-eae4-40c7-9231-e4134767fea4"
      },
      "execution_count": 30,
      "outputs": [
        {
          "output_type": "display_data",
          "data": {
            "text/plain": [
              "<Figure size 1000x700 with 2 Axes>"
            ],
            "image/png": "[encoded data removed]"
          },
          "metadata": {}
        }
      ]
    },
    {
      "cell_type": "markdown",
      "source": [
        "## **ANN on SMOTE**"
      ],
      "metadata": {
        "id": "t0lE3U29_PZQ"
      }
    },
    {
      "cell_type": "code",
      "source": [
        "model = keras.Sequential([\n",
        "    keras.layers.Dense(26, input_shape=(X_train_smote.shape[1],), activation='relu'),\n",
        "    keras.layers.Dense(15, activation='relu'),\n",
        "    keras.layers.Dense(1, activation='sigmoid')\n",
        "])\n",
        "\n",
        "model.compile(optimizer='adam',\n",
        "              loss='binary_crossentropy',\n",
        "              metrics=['accuracy'])\n",
        "\n",
        "model.fit(X_train_smote, y_train_smote, epochs=100)"
      ],
      "metadata": {
        "id": "kCr5C69H_TMo",
        "outputId": "2d815759-3972-4d30-d791-69de5c42f56c",
        "colab": {
          "base_uri": "https://localhost:8080/"
        }
      },
      "execution_count": 31,
      "outputs": [
        {
          "output_type": "stream",
          "name": "stdout",
          "text": [
            "Epoch 1/100\n",
            "\u001b[1m4360/4360\u001b[0m \u001b[32m━━━━━━━━━━━━━━━━━━━━\u001b[0m\u001b[37m\u001b[0m \u001b[1m10s\u001b[0m 2ms/step - accuracy: 0.9959 - loss: 0.0703\n",
            "Epoch 2/100\n",
            "\u001b[1m4360/4360\u001b[0m \u001b[32m━━━━━━━━━━━━━━━━━━━━\u001b[0m\u001b[37m\u001b[0m \u001b[1m14s\u001b[0m 3ms/step - accuracy: 1.0000 - loss: 1.8591e-06\n",
            "Epoch 3/100\n",
            "\u001b[1m4360/4360\u001b[0m \u001b[32m━━━━━━━━━━━━━━━━━━━━\u001b[0m\u001b[37m\u001b[0m \u001b[1m17s\u001b[0m 3ms/step - accuracy: 1.0000 - loss: 1.2579e-07\n",
            "Epoch 4/100\n",
            "\u001b[1m4360/4360\u001b[0m \u001b[32m━━━━━━━━━━━━━━━━━━━━\u001b[0m\u001b[37m\u001b[0m \u001b[1m17s\u001b[0m 2ms/step - accuracy: 1.0000 - loss: 1.5194e-08\n",
            "Epoch 5/100\n",
            "\u001b[1m4360/4360\u001b[0m \u001b[32m━━━━━━━━━━━━━━━━━━━━\u001b[0m\u001b[37m\u001b[0m \u001b[1m9s\u001b[0m 2ms/step - accuracy: 1.0000 - loss: 5.5181e-09\n",
            "Epoch 6/100\n",
            "\u001b[1m4360/4360\u001b[0m \u001b[32m━━━━━━━━━━━━━━━━━━━━\u001b[0m\u001b[37m\u001b[0m \u001b[1m10s\u001b[0m 2ms/step - accuracy: 1.0000 - loss: 4.5824e-09\n",
            "Epoch 7/100\n",
            "\u001b[1m4360/4360\u001b[0m \u001b[32m━━━━━━━━━━━━━━━━━━━━\u001b[0m\u001b[37m\u001b[0m \u001b[1m8s\u001b[0m 2ms/step - accuracy: 1.0000 - loss: 4.0811e-09\n",
            "Epoch 8/100\n",
            "\u001b[1m4360/4360\u001b[0m \u001b[32m━━━━━━━━━━━━━━━━━━━━\u001b[0m\u001b[37m\u001b[0m \u001b[1m12s\u001b[0m 2ms/step - accuracy: 1.0000 - loss: 3.8195e-09\n",
            "Epoch 9/100\n",
            "\u001b[1m4360/4360\u001b[0m \u001b[32m━━━━━━━━━━━━━━━━━━━━\u001b[0m\u001b[37m\u001b[0m \u001b[1m11s\u001b[0m 3ms/step - accuracy: 1.0000 - loss: 3.6183e-09\n",
            "Epoch 10/100\n",
            "\u001b[1m4360/4360\u001b[0m \u001b[32m━━━━━━━━━━━━━━━━━━━━\u001b[0m\u001b[37m\u001b[0m \u001b[1m17s\u001b[0m 2ms/step - accuracy: 1.0000 - loss: 3.5554e-09\n",
            "Epoch 11/100\n",
            "\u001b[1m4360/4360\u001b[0m \u001b[32m━━━━━━━━━━━━━━━━━━━━\u001b[0m\u001b[37m\u001b[0m \u001b[1m10s\u001b[0m 2ms/step - accuracy: 1.0000 - loss: 3.3978e-09\n",
            "Epoch 12/100\n",
            "\u001b[1m4360/4360\u001b[0m \u001b[32m━━━━━━━━━━━━━━━━━━━━\u001b[0m\u001b[37m\u001b[0m \u001b[1m9s\u001b[0m 2ms/step - accuracy: 1.0000 - loss: 3.4330e-09\n",
            "Epoch 13/100\n",
            "\u001b[1m4360/4360\u001b[0m \u001b[32m━━━━━━━━━━━━━━━━━━━━\u001b[0m\u001b[37m\u001b[0m \u001b[1m9s\u001b[0m 2ms/step - accuracy: 1.0000 - loss: 3.3943e-09\n",
            "Epoch 14/100\n",
            "\u001b[1m4360/4360\u001b[0m \u001b[32m━━━━━━━━━━━━━━━━━━━━\u001b[0m\u001b[37m\u001b[0m \u001b[1m11s\u001b[0m 2ms/step - accuracy: 1.0000 - loss: 3.4200e-09\n",
            "Epoch 15/100\n",
            "\u001b[1m4360/4360\u001b[0m \u001b[32m━━━━━━━━━━━━━━━━━━━━\u001b[0m\u001b[37m\u001b[0m \u001b[1m8s\u001b[0m 2ms/step - accuracy: 1.0000 - loss: 3.4380e-09\n",
            "Epoch 16/100\n",
            "\u001b[1m4360/4360\u001b[0m \u001b[32m━━━━━━━━━━━━━━━━━━━━\u001b[0m\u001b[37m\u001b[0m \u001b[1m9s\u001b[0m 2ms/step - accuracy: 1.0000 - loss: 3.4299e-09\n",
            "Epoch 17/100\n",
            "\u001b[1m4360/4360\u001b[0m \u001b[32m━━━━━━━━━━━━━━━━━━━━\u001b[0m\u001b[37m\u001b[0m \u001b[1m11s\u001b[0m 2ms/step - accuracy: 1.0000 - loss: 3.4134e-09\n",
            "Epoch 18/100\n",
            "\u001b[1m4360/4360\u001b[0m \u001b[32m━━━━━━━━━━━━━━━━━━━━\u001b[0m\u001b[37m\u001b[0m \u001b[1m9s\u001b[0m 2ms/step - accuracy: 1.0000 - loss: 3.4063e-09\n",
            "Epoch 19/100\n",
            "\u001b[1m4360/4360\u001b[0m \u001b[32m━━━━━━━━━━━━━━━━━━━━\u001b[0m\u001b[37m\u001b[0m \u001b[1m9s\u001b[0m 2ms/step - accuracy: 1.0000 - loss: 3.3384e-09\n",
            "Epoch 20/100\n",
            "\u001b[1m4360/4360\u001b[0m \u001b[32m━━━━━━━━━━━━━━━━━━━━\u001b[0m\u001b[37m\u001b[0m \u001b[1m10s\u001b[0m 2ms/step - accuracy: 1.0000 - loss: 3.3818e-09\n",
            "Epoch 21/100\n",
            "\u001b[1m4360/4360\u001b[0m \u001b[32m━━━━━━━━━━━━━━━━━━━━\u001b[0m\u001b[37m\u001b[0m \u001b[1m8s\u001b[0m 2ms/step - accuracy: 1.0000 - loss: 3.3827e-09\n",
            "Epoch 22/100\n",
            "\u001b[1m4360/4360\u001b[0m \u001b[32m━━━━━━━━━━━━━━━━━━━━\u001b[0m\u001b[37m\u001b[0m \u001b[1m9s\u001b[0m 2ms/step - accuracy: 1.0000 - loss: 3.3532e-09\n",
            "Epoch 23/100\n",
            "\u001b[1m4360/4360\u001b[0m \u001b[32m━━━━━━━━━━━━━━━━━━━━\u001b[0m\u001b[37m\u001b[0m \u001b[1m10s\u001b[0m 2ms/step - accuracy: 1.0000 - loss: 3.3268e-09\n",
            "Epoch 24/100\n",
            "\u001b[1m4360/4360\u001b[0m \u001b[32m━━━━━━━━━━━━━━━━━━━━\u001b[0m\u001b[37m\u001b[0m \u001b[1m8s\u001b[0m 2ms/step - accuracy: 1.0000 - loss: 3.3553e-09\n",
            "Epoch 25/100\n",
            "\u001b[1m4360/4360\u001b[0m \u001b[32m━━━━━━━━━━━━━━━━━━━━\u001b[0m\u001b[37m\u001b[0m \u001b[1m10s\u001b[0m 2ms/step - accuracy: 1.0000 - loss: 3.3283e-09\n",
            "Epoch 26/100\n",
            "\u001b[1m4360/4360\u001b[0m \u001b[32m━━━━━━━━━━━━━━━━━━━━\u001b[0m\u001b[37m\u001b[0m \u001b[1m10s\u001b[0m 2ms/step - accuracy: 1.0000 - loss: 3.2782e-09\n",
            "Epoch 27/100\n",
            "\u001b[1m4360/4360\u001b[0m \u001b[32m━━━━━━━━━━━━━━━━━━━━\u001b[0m\u001b[37m\u001b[0m \u001b[1m8s\u001b[0m 2ms/step - accuracy: 1.0000 - loss: 3.2563e-09\n",
            "Epoch 28/100\n",
            "\u001b[1m4360/4360\u001b[0m \u001b[32m━━━━━━━━━━━━━━━━━━━━\u001b[0m\u001b[37m\u001b[0m \u001b[1m12s\u001b[0m 2ms/step - accuracy: 1.0000 - loss: 3.2635e-09\n",
            "Epoch 29/100\n",
            "\u001b[1m4360/4360\u001b[0m \u001b[32m━━━━━━━━━━━━━━━━━━━━\u001b[0m\u001b[37m\u001b[0m \u001b[1m10s\u001b[0m 2ms/step - accuracy: 1.0000 - loss: 3.1877e-09\n",
            "Epoch 30/100\n",
            "\u001b[1m4360/4360\u001b[0m \u001b[32m━━━━━━━━━━━━━━━━━━━━\u001b[0m\u001b[37m\u001b[0m \u001b[1m9s\u001b[0m 2ms/step - accuracy: 1.0000 - loss: 3.2171e-09\n",
            "Epoch 31/100\n",
            "\u001b[1m4360/4360\u001b[0m \u001b[32m━━━━━━━━━━━━━━━━━━━━\u001b[0m\u001b[37m\u001b[0m \u001b[1m11s\u001b[0m 2ms/step - accuracy: 1.0000 - loss: 3.2432e-09\n",
            "Epoch 32/100\n",
            "\u001b[1m4360/4360\u001b[0m \u001b[32m━━━━━━━━━━━━━━━━━━━━\u001b[0m\u001b[37m\u001b[0m \u001b[1m10s\u001b[0m 2ms/step - accuracy: 1.0000 - loss: 3.2499e-09\n",
            "Epoch 33/100\n",
            "\u001b[1m4360/4360\u001b[0m \u001b[32m━━━━━━━━━━━━━━━━━━━━\u001b[0m\u001b[37m\u001b[0m \u001b[1m8s\u001b[0m 2ms/step - accuracy: 1.0000 - loss: 3.2333e-09\n",
            "Epoch 34/100\n",
            "\u001b[1m4360/4360\u001b[0m \u001b[32m━━━━━━━━━━━━━━━━━━━━\u001b[0m\u001b[37m\u001b[0m \u001b[1m10s\u001b[0m 2ms/step - accuracy: 1.0000 - loss: 3.2163e-09\n",
            "Epoch 35/100\n",
            "\u001b[1m4360/4360\u001b[0m \u001b[32m━━━━━━━━━━━━━━━━━━━━\u001b[0m\u001b[37m\u001b[0m \u001b[1m10s\u001b[0m 2ms/step - accuracy: 1.0000 - loss: 3.2766e-09\n",
            "Epoch 36/100\n",
            "\u001b[1m4360/4360\u001b[0m \u001b[32m━━━━━━━━━━━━━━━━━━━━\u001b[0m\u001b[37m\u001b[0m \u001b[1m8s\u001b[0m 2ms/step - accuracy: 1.0000 - loss: 3.2140e-09\n",
            "Epoch 37/100\n",
            "\u001b[1m4360/4360\u001b[0m \u001b[32m━━━━━━━━━━━━━━━━━━━━\u001b[0m\u001b[37m\u001b[0m \u001b[1m10s\u001b[0m 2ms/step - accuracy: 1.0000 - loss: 3.2401e-09\n",
            "Epoch 38/100\n",
            "\u001b[1m4360/4360\u001b[0m \u001b[32m━━━━━━━━━━━━━━━━━━━━\u001b[0m\u001b[37m\u001b[0m \u001b[1m9s\u001b[0m 2ms/step - accuracy: 1.0000 - loss: 3.2261e-09\n",
            "Epoch 39/100\n",
            "\u001b[1m4360/4360\u001b[0m \u001b[32m━━━━━━━━━━━━━━━━━━━━\u001b[0m\u001b[37m\u001b[0m \u001b[1m9s\u001b[0m 2ms/step - accuracy: 1.0000 - loss: 3.2374e-09\n",
            "Epoch 40/100\n",
            "\u001b[1m4360/4360\u001b[0m \u001b[32m━━━━━━━━━━━━━━━━━━━━\u001b[0m\u001b[37m\u001b[0m \u001b[1m10s\u001b[0m 2ms/step - accuracy: 1.0000 - loss: 3.2406e-09\n",
            "Epoch 41/100\n",
            "\u001b[1m4360/4360\u001b[0m \u001b[32m━━━━━━━━━━━━━━━━━━━━\u001b[0m\u001b[37m\u001b[0m \u001b[1m10s\u001b[0m 2ms/step - accuracy: 1.0000 - loss: 3.2429e-09\n",
            "Epoch 42/100\n",
            "\u001b[1m4360/4360\u001b[0m \u001b[32m━━━━━━━━━━━━━━━━━━━━\u001b[0m\u001b[37m\u001b[0m \u001b[1m8s\u001b[0m 2ms/step - accuracy: 1.0000 - loss: 3.2558e-09\n",
            "Epoch 43/100\n",
            "\u001b[1m4360/4360\u001b[0m \u001b[32m━━━━━━━━━━━━━━━━━━━━\u001b[0m\u001b[37m\u001b[0m \u001b[1m10s\u001b[0m 2ms/step - accuracy: 1.0000 - loss: 3.2177e-09\n",
            "Epoch 44/100\n",
            "\u001b[1m4360/4360\u001b[0m \u001b[32m━━━━━━━━━━━━━━━━━━━━\u001b[0m\u001b[37m\u001b[0m \u001b[1m9s\u001b[0m 2ms/step - accuracy: 1.0000 - loss: 3.2293e-09\n",
            "Epoch 45/100\n",
            "\u001b[1m4360/4360\u001b[0m \u001b[32m━━━━━━━━━━━━━━━━━━━━\u001b[0m\u001b[37m\u001b[0m \u001b[1m9s\u001b[0m 2ms/step - accuracy: 1.0000 - loss: 3.2305e-09\n",
            "Epoch 46/100\n",
            "\u001b[1m4360/4360\u001b[0m \u001b[32m━━━━━━━━━━━━━━━━━━━━\u001b[0m\u001b[37m\u001b[0m \u001b[1m10s\u001b[0m 2ms/step - accuracy: 1.0000 - loss: 3.2308e-09\n",
            "Epoch 47/100\n",
            "\u001b[1m4360/4360\u001b[0m \u001b[32m━━━━━━━━━━━━━━━━━━━━\u001b[0m\u001b[37m\u001b[0m \u001b[1m8s\u001b[0m 2ms/step - accuracy: 1.0000 - loss: 3.2192e-09\n",
            "Epoch 48/100\n",
            "\u001b[1m4360/4360\u001b[0m \u001b[32m━━━━━━━━━━━━━━━━━━━━\u001b[0m\u001b[37m\u001b[0m \u001b[1m9s\u001b[0m 2ms/step - accuracy: 1.0000 - loss: 3.2041e-09\n",
            "Epoch 49/100\n",
            "\u001b[1m4360/4360\u001b[0m \u001b[32m━━━━━━━━━━━━━━━━━━━━\u001b[0m\u001b[37m\u001b[0m \u001b[1m12s\u001b[0m 2ms/step - accuracy: 1.0000 - loss: 3.2397e-09\n",
            "Epoch 50/100\n",
            "\u001b[1m4360/4360\u001b[0m \u001b[32m━━━━━━━━━━━━━━━━━━━━\u001b[0m\u001b[37m\u001b[0m \u001b[1m10s\u001b[0m 2ms/step - accuracy: 1.0000 - loss: 3.2483e-09\n",
            "Epoch 51/100\n",
            "\u001b[1m4360/4360\u001b[0m \u001b[32m━━━━━━━━━━━━━━━━━━━━\u001b[0m\u001b[37m\u001b[0m \u001b[1m8s\u001b[0m 2ms/step - accuracy: 1.0000 - loss: 3.2062e-09\n",
            "Epoch 52/100\n",
            "\u001b[1m4360/4360\u001b[0m \u001b[32m━━━━━━━━━━━━━━━━━━━━\u001b[0m\u001b[37m\u001b[0m \u001b[1m12s\u001b[0m 2ms/step - accuracy: 1.0000 - loss: 3.2284e-09\n",
            "Epoch 53/100\n",
            "\u001b[1m4360/4360\u001b[0m \u001b[32m━━━━━━━━━━━━━━━━━━━━\u001b[0m\u001b[37m\u001b[0m \u001b[1m10s\u001b[0m 2ms/step - accuracy: 1.0000 - loss: 3.2298e-09\n",
            "Epoch 54/100\n",
            "\u001b[1m4360/4360\u001b[0m \u001b[32m━━━━━━━━━━━━━━━━━━━━\u001b[0m\u001b[37m\u001b[0m \u001b[1m8s\u001b[0m 2ms/step - accuracy: 1.0000 - loss: 3.2307e-09\n",
            "Epoch 55/100\n",
            "\u001b[1m4360/4360\u001b[0m \u001b[32m━━━━━━━━━━━━━━━━━━━━\u001b[0m\u001b[37m\u001b[0m \u001b[1m9s\u001b[0m 2ms/step - accuracy: 1.0000 - loss: 3.2054e-09\n",
            "Epoch 56/100\n",
            "\u001b[1m4360/4360\u001b[0m \u001b[32m━━━━━━━━━━━━━━━━━━━━\u001b[0m\u001b[37m\u001b[0m \u001b[1m10s\u001b[0m 2ms/step - accuracy: 1.0000 - loss: 3.2417e-09\n",
            "Epoch 57/100\n",
            "\u001b[1m4360/4360\u001b[0m \u001b[32m━━━━━━━━━━━━━━━━━━━━\u001b[0m\u001b[37m\u001b[0m \u001b[1m8s\u001b[0m 2ms/step - accuracy: 1.0000 - loss: 3.2387e-09\n",
            "Epoch 58/100\n",
            "\u001b[1m4360/4360\u001b[0m \u001b[32m━━━━━━━━━━━━━━━━━━━━\u001b[0m\u001b[37m\u001b[0m \u001b[1m10s\u001b[0m 2ms/step - accuracy: 1.0000 - loss: 3.1962e-09\n",
            "Epoch 59/100\n",
            "\u001b[1m4360/4360\u001b[0m \u001b[32m━━━━━━━━━━━━━━━━━━━━\u001b[0m\u001b[37m\u001b[0m \u001b[1m10s\u001b[0m 2ms/step - accuracy: 1.0000 - loss: 3.2400e-09\n",
            "Epoch 60/100\n",
            "\u001b[1m4360/4360\u001b[0m \u001b[32m━━━━━━━━━━━━━━━━━━━━\u001b[0m\u001b[37m\u001b[0m \u001b[1m8s\u001b[0m 2ms/step - accuracy: 1.0000 - loss: 3.2389e-09\n",
            "Epoch 61/100\n",
            "\u001b[1m4360/4360\u001b[0m \u001b[32m━━━━━━━━━━━━━━━━━━━━\u001b[0m\u001b[37m\u001b[0m \u001b[1m10s\u001b[0m 2ms/step - accuracy: 1.0000 - loss: 3.2164e-09\n",
            "Epoch 62/100\n",
            "\u001b[1m4360/4360\u001b[0m \u001b[32m━━━━━━━━━━━━━━━━━━━━\u001b[0m\u001b[37m\u001b[0m \u001b[1m10s\u001b[0m 2ms/step - accuracy: 1.0000 - loss: 3.1596e-09\n",
            "Epoch 63/100\n",
            "\u001b[1m4360/4360\u001b[0m \u001b[32m━━━━━━━━━━━━━━━━━━━━\u001b[0m\u001b[37m\u001b[0m \u001b[1m8s\u001b[0m 2ms/step - accuracy: 1.0000 - loss: 3.2200e-09\n",
            "Epoch 64/100\n",
            "\u001b[1m4360/4360\u001b[0m \u001b[32m━━━━━━━━━━━━━━━━━━━━\u001b[0m\u001b[37m\u001b[0m \u001b[1m11s\u001b[0m 2ms/step - accuracy: 1.0000 - loss: 3.1833e-09\n",
            "Epoch 65/100\n",
            "\u001b[1m4360/4360\u001b[0m \u001b[32m━━━━━━━━━━━━━━━━━━━━\u001b[0m\u001b[37m\u001b[0m \u001b[1m11s\u001b[0m 2ms/step - accuracy: 1.0000 - loss: 3.2056e-09\n",
            "Epoch 66/100\n",
            "\u001b[1m4360/4360\u001b[0m \u001b[32m━━━━━━━━━━━━━━━━━━━━\u001b[0m\u001b[37m\u001b[0m \u001b[1m9s\u001b[0m 2ms/step - accuracy: 1.0000 - loss: 3.2137e-09\n",
            "Epoch 67/100\n",
            "\u001b[1m4360/4360\u001b[0m \u001b[32m━━━━━━━━━━━━━━━━━━━━\u001b[0m\u001b[37m\u001b[0m \u001b[1m8s\u001b[0m 2ms/step - accuracy: 1.0000 - loss: 3.2278e-09\n",
            "Epoch 68/100\n",
            "\u001b[1m4360/4360\u001b[0m \u001b[32m━━━━━━━━━━━━━━━━━━━━\u001b[0m\u001b[37m\u001b[0m \u001b[1m10s\u001b[0m 2ms/step - accuracy: 1.0000 - loss: 3.2220e-09\n",
            "Epoch 69/100\n",
            "\u001b[1m4360/4360\u001b[0m \u001b[32m━━━━━━━━━━━━━━━━━━━━\u001b[0m\u001b[37m\u001b[0m \u001b[1m9s\u001b[0m 2ms/step - accuracy: 1.0000 - loss: 3.1829e-09\n",
            "Epoch 70/100\n",
            "\u001b[1m4360/4360\u001b[0m \u001b[32m━━━━━━━━━━━━━━━━━━━━\u001b[0m\u001b[37m\u001b[0m \u001b[1m9s\u001b[0m 2ms/step - accuracy: 1.0000 - loss: 3.2245e-09\n",
            "Epoch 71/100\n",
            "\u001b[1m4360/4360\u001b[0m \u001b[32m━━━━━━━━━━━━━━━━━━━━\u001b[0m\u001b[37m\u001b[0m \u001b[1m11s\u001b[0m 2ms/step - accuracy: 1.0000 - loss: 3.2023e-09\n",
            "Epoch 72/100\n",
            "\u001b[1m4360/4360\u001b[0m \u001b[32m━━━━━━━━━━━━━━━━━━━━\u001b[0m\u001b[37m\u001b[0m \u001b[1m9s\u001b[0m 2ms/step - accuracy: 1.0000 - loss: 3.2212e-09\n",
            "Epoch 73/100\n",
            "\u001b[1m4360/4360\u001b[0m \u001b[32m━━━━━━━━━━━━━━━━━━━━\u001b[0m\u001b[37m\u001b[0m \u001b[1m9s\u001b[0m 2ms/step - accuracy: 1.0000 - loss: 3.1958e-09\n",
            "Epoch 74/100\n",
            "\u001b[1m4360/4360\u001b[0m \u001b[32m━━━━━━━━━━━━━━━━━━━━\u001b[0m\u001b[37m\u001b[0m \u001b[1m11s\u001b[0m 2ms/step - accuracy: 1.0000 - loss: 3.2225e-09\n",
            "Epoch 75/100\n",
            "\u001b[1m4360/4360\u001b[0m \u001b[32m━━━━━━━━━━━━━━━━━━━━\u001b[0m\u001b[37m\u001b[0m \u001b[1m9s\u001b[0m 2ms/step - accuracy: 1.0000 - loss: 3.2178e-09\n",
            "Epoch 76/100\n",
            "\u001b[1m4360/4360\u001b[0m \u001b[32m━━━━━━━━━━━━━━━━━━━━\u001b[0m\u001b[37m\u001b[0m \u001b[1m9s\u001b[0m 2ms/step - accuracy: 1.0000 - loss: 3.2364e-09\n",
            "Epoch 77/100\n",
            "\u001b[1m4360/4360\u001b[0m \u001b[32m━━━━━━━━━━━━━━━━━━━━\u001b[0m\u001b[37m\u001b[0m \u001b[1m10s\u001b[0m 2ms/step - accuracy: 1.0000 - loss: 3.2060e-09\n",
            "Epoch 78/100\n",
            "\u001b[1m4360/4360\u001b[0m \u001b[32m━━━━━━━━━━━━━━━━━━━━\u001b[0m\u001b[37m\u001b[0m \u001b[1m9s\u001b[0m 2ms/step - accuracy: 1.0000 - loss: 3.2167e-09\n",
            "Epoch 79/100\n",
            "\u001b[1m4360/4360\u001b[0m \u001b[32m━━━━━━━━━━━━━━━━━━━━\u001b[0m\u001b[37m\u001b[0m \u001b[1m9s\u001b[0m 2ms/step - accuracy: 1.0000 - loss: 3.1893e-09\n",
            "Epoch 80/100\n",
            "\u001b[1m4360/4360\u001b[0m \u001b[32m━━━━━━━━━━━━━━━━━━━━\u001b[0m\u001b[37m\u001b[0m \u001b[1m10s\u001b[0m 2ms/step - accuracy: 1.0000 - loss: 3.2156e-09\n",
            "Epoch 81/100\n",
            "\u001b[1m4360/4360\u001b[0m \u001b[32m━━━━━━━━━━━━━━━━━━━━\u001b[0m\u001b[37m\u001b[0m \u001b[1m9s\u001b[0m 2ms/step - accuracy: 1.0000 - loss: 3.2242e-09\n",
            "Epoch 82/100\n",
            "\u001b[1m4360/4360\u001b[0m \u001b[32m━━━━━━━━━━━━━━━━━━━━\u001b[0m\u001b[37m\u001b[0m \u001b[1m10s\u001b[0m 2ms/step - accuracy: 1.0000 - loss: 3.1867e-09\n",
            "Epoch 83/100\n",
            "\u001b[1m4360/4360\u001b[0m \u001b[32m━━━━━━━━━━━━━━━━━━━━\u001b[0m\u001b[37m\u001b[0m \u001b[1m12s\u001b[0m 2ms/step - accuracy: 1.0000 - loss: 3.1991e-09\n",
            "Epoch 84/100\n",
            "\u001b[1m4360/4360\u001b[0m \u001b[32m━━━━━━━━━━━━━━━━━━━━\u001b[0m\u001b[37m\u001b[0m \u001b[1m10s\u001b[0m 2ms/step - accuracy: 1.0000 - loss: 3.2094e-09\n",
            "Epoch 85/100\n",
            "\u001b[1m4360/4360\u001b[0m \u001b[32m━━━━━━━━━━━━━━━━━━━━\u001b[0m\u001b[37m\u001b[0m \u001b[1m8s\u001b[0m 2ms/step - accuracy: 1.0000 - loss: 3.2170e-09\n",
            "Epoch 86/100\n",
            "\u001b[1m4360/4360\u001b[0m \u001b[32m━━━━━━━━━━━━━━━━━━━━\u001b[0m\u001b[37m\u001b[0m \u001b[1m11s\u001b[0m 2ms/step - accuracy: 1.0000 - loss: 3.2100e-09\n",
            "Epoch 87/100\n",
            "\u001b[1m4360/4360\u001b[0m \u001b[32m━━━━━━━━━━━━━━━━━━━━\u001b[0m\u001b[37m\u001b[0m \u001b[1m10s\u001b[0m 2ms/step - accuracy: 1.0000 - loss: 3.1648e-09\n",
            "Epoch 88/100\n",
            "\u001b[1m4360/4360\u001b[0m \u001b[32m━━━━━━━━━━━━━━━━━━━━\u001b[0m\u001b[37m\u001b[0m \u001b[1m18s\u001b[0m 2ms/step - accuracy: 1.0000 - loss: 3.1970e-09\n",
            "Epoch 89/100\n",
            "\u001b[1m4360/4360\u001b[0m \u001b[32m━━━━━━━━━━━━━━━━━━━━\u001b[0m\u001b[37m\u001b[0m \u001b[1m10s\u001b[0m 2ms/step - accuracy: 1.0000 - loss: 3.1951e-09\n",
            "Epoch 90/100\n",
            "\u001b[1m4360/4360\u001b[0m \u001b[32m━━━━━━━━━━━━━━━━━━━━\u001b[0m\u001b[37m\u001b[0m \u001b[1m10s\u001b[0m 2ms/step - accuracy: 1.0000 - loss: 3.2112e-09\n",
            "Epoch 91/100\n",
            "\u001b[1m4360/4360\u001b[0m \u001b[32m━━━━━━━━━━━━━━━━━━━━\u001b[0m\u001b[37m\u001b[0m \u001b[1m8s\u001b[0m 2ms/step - accuracy: 1.0000 - loss: 3.2102e-09\n",
            "Epoch 92/100\n",
            "\u001b[1m4360/4360\u001b[0m \u001b[32m━━━━━━━━━━━━━━━━━━━━\u001b[0m\u001b[37m\u001b[0m \u001b[1m12s\u001b[0m 2ms/step - accuracy: 1.0000 - loss: 3.2054e-09\n",
            "Epoch 93/100\n",
            "\u001b[1m4360/4360\u001b[0m \u001b[32m━━━━━━━━━━━━━━━━━━━━\u001b[0m\u001b[37m\u001b[0m \u001b[1m10s\u001b[0m 2ms/step - accuracy: 1.0000 - loss: 3.1749e-09\n",
            "Epoch 94/100\n",
            "\u001b[1m4360/4360\u001b[0m \u001b[32m━━━━━━━━━━━━━━━━━━━━\u001b[0m\u001b[37m\u001b[0m \u001b[1m8s\u001b[0m 2ms/step - accuracy: 1.0000 - loss: 3.2067e-09\n",
            "Epoch 95/100\n",
            "\u001b[1m4360/4360\u001b[0m \u001b[32m━━━━━━━━━━━━━━━━━━━━\u001b[0m\u001b[37m\u001b[0m \u001b[1m10s\u001b[0m 2ms/step - accuracy: 1.0000 - loss: 3.2176e-09\n",
            "Epoch 96/100\n",
            "\u001b[1m4360/4360\u001b[0m \u001b[32m━━━━━━━━━━━━━━━━━━━━\u001b[0m\u001b[37m\u001b[0m \u001b[1m10s\u001b[0m 2ms/step - accuracy: 1.0000 - loss: 3.2205e-09\n",
            "Epoch 97/100\n",
            "\u001b[1m4360/4360\u001b[0m \u001b[32m━━━━━━━━━━━━━━━━━━━━\u001b[0m\u001b[37m\u001b[0m \u001b[1m8s\u001b[0m 2ms/step - accuracy: 1.0000 - loss: 3.1972e-09\n",
            "Epoch 98/100\n",
            "\u001b[1m4360/4360\u001b[0m \u001b[32m━━━━━━━━━━━━━━━━━━━━\u001b[0m\u001b[37m\u001b[0m \u001b[1m12s\u001b[0m 2ms/step - accuracy: 1.0000 - loss: 3.1887e-09\n",
            "Epoch 99/100\n",
            "\u001b[1m4360/4360\u001b[0m \u001b[32m━━━━━━━━━━━━━━━━━━━━\u001b[0m\u001b[37m\u001b[0m \u001b[1m10s\u001b[0m 2ms/step - accuracy: 1.0000 - loss: 3.1952e-09\n",
            "Epoch 100/100\n",
            "\u001b[1m4360/4360\u001b[0m \u001b[32m━━━━━━━━━━━━━━━━━━━━\u001b[0m\u001b[37m\u001b[0m \u001b[1m9s\u001b[0m 2ms/step - accuracy: 1.0000 - loss: 3.2269e-09\n"
          ]
        },
        {
          "output_type": "execute_result",
          "data": {
            "text/plain": [
              "<keras.src.callbacks.history.History at 0x798cf1e15210>"
            ]
          },
          "metadata": {},
          "execution_count": 31
        }
      ]
    },
    {
      "cell_type": "code",
      "source": [
        "model.evaluate(X_test_smote, y_test_smote)"
      ],
      "metadata": {
        "id": "fMyisLErDiLx",
        "outputId": "ae92616d-f9ff-4320-fe9e-c76366f94b5a",
        "colab": {
          "base_uri": "https://localhost:8080/"
        }
      },
      "execution_count": 32,
      "outputs": [
        {
          "output_type": "stream",
          "name": "stdout",
          "text": [
            "\u001b[1m1454/1454\u001b[0m \u001b[32m━━━━━━━━━━━━━━━━━━━━\u001b[0m\u001b[37m\u001b[0m \u001b[1m3s\u001b[0m 2ms/step - accuracy: 0.0000e+00 - loss: 25.6469\n"
          ]
        },
        {
          "output_type": "execute_result",
          "data": {
            "text/plain": [
              "[25.698530197143555, 0.0]"
            ]
          },
          "metadata": {},
          "execution_count": 32
        }
      ]
    },
    {
      "cell_type": "code",
      "source": [
        "yp = model.predict(X_test_smote)\n",
        "yp[:5]"
      ],
      "metadata": {
        "id": "mrbfo6ysDrAC",
        "outputId": "585e4145-5c40-4d63-84b4-249bf9cc28f6",
        "colab": {
          "base_uri": "https://localhost:8080/"
        }
      },
      "execution_count": 33,
      "outputs": [
        {
          "output_type": "stream",
          "name": "stdout",
          "text": [
            "\u001b[1m1454/1454\u001b[0m \u001b[32m━━━━━━━━━━━━━━━━━━━━\u001b[0m\u001b[37m\u001b[0m \u001b[1m2s\u001b[0m 1ms/step\n"
          ]
        },
        {
          "output_type": "execute_result",
          "data": {
            "text/plain": [
              "array([[1.0000000e+00],\n",
              "       [3.8859084e-16],\n",
              "       [6.7748834e-13],\n",
              "       [1.0000000e+00],\n",
              "       [9.8182977e-16]], dtype=float32)"
            ]
          },
          "metadata": {},
          "execution_count": 33
        }
      ]
    },
    {
      "cell_type": "code",
      "source": [
        "y_pred_smote = []\n",
        "for element in yp:\n",
        "    if element > 0.5:\n",
        "        y_pred_smote.append(1)\n",
        "    else:\n",
        "        y_pred_smote.append(0)"
      ],
      "metadata": {
        "id": "vytc0GEZDzi7"
      },
      "execution_count": 34,
      "outputs": []
    },
    {
      "cell_type": "code",
      "source": [
        "from sklearn.metrics import confusion_matrix , classification_report\n",
        "\n",
        "print(classification_report(y_test_smote,y_pred_smote))"
      ],
      "metadata": {
        "id": "tcdKsaScD6hE",
        "outputId": "f32d2329-0790-4896-c8d1-4d4829214ebb",
        "colab": {
          "base_uri": "https://localhost:8080/"
        }
      },
      "execution_count": 35,
      "outputs": [
        {
          "output_type": "stream",
          "name": "stdout",
          "text": [
            "              precision    recall  f1-score   support\n",
            "\n",
            "           0       0.00      0.00      0.00   23250.0\n",
            "           1       0.00      0.00      0.00   23250.0\n",
            "\n",
            "    accuracy                           0.00   46500.0\n",
            "   macro avg       0.00      0.00      0.00   46500.0\n",
            "weighted avg       0.00      0.00      0.00   46500.0\n",
            "\n"
          ]
        }
      ]
    },
    {
      "cell_type": "code",
      "source": [
        "cm = tf.math.confusion_matrix(labels=y_test_smote,predictions=y_pred_smote)\n",
        "\n",
        "plt.figure(figsize = (10,7))\n",
        "sns.heatmap(cm, annot=True, fmt='d') # Changed sn to sns\n",
        "plt.xlabel('Predicted')\n",
        "plt.ylabel('Truth')"
      ],
      "metadata": {
        "id": "-f3Sg3-rEAEk",
        "outputId": "922b6ce3-6186-417a-c49b-d61cd5160ece",
        "colab": {
          "base_uri": "https://localhost:8080/",
          "height": 636
        }
      },
      "execution_count": 37,
      "outputs": [
        {
          "output_type": "execute_result",
          "data": {
            "text/plain": [
              "Text(95.72222222222221, 0.5, 'Truth')"
            ]
          },
          "metadata": {},
          "execution_count": 37
        },
        {
          "output_type": "display_data",
          "data": {
            "text/plain": [
              "<Figure size 1000x700 with 2 Axes>"
            ],
            "image/png": "[encoded data removed]"
          },
          "metadata": {}
        }
      ]
    },
    {
      "cell_type": "markdown",
      "source": [
        "## **ANN on UPSAMPLE**"
      ],
      "metadata": {
        "id": "E2N0jo0VEY2I"
      }
    },
    {
      "cell_type": "code",
      "source": [
        "import pandas as pd\n",
        "import tensorflow as tf\n",
        "from tensorflow import keras\n",
        "\n",
        "# Assuming X_train_up contains string columns, you need to convert them to numerical\n",
        "# Replace 'string_column_name1', 'string_column_name2' etc. with the actual names\n",
        "# of your string columns in X_train_up\n",
        "for column in X_train_up.select_dtypes(include=['object']).columns:\n",
        "    X_train_up[column] = pd.factorize(X_train_up[column])[0]\n",
        "\n",
        "# Assuming y_train_up contains string labels like 'yes' and 'no', convert them to numerical\n",
        "y_train_up = pd.factorize(y_train_up)[0]\n",
        "\n",
        "model = keras.Sequential([\n",
        "    keras.layers.Dense(26, input_shape=(X_train_up.shape[1],), activation='relu'), # Adjusted input_shape\n",
        "    keras.layers.Dense(15, activation='relu'),\n",
        "    keras.layers.Dense(1, activation='sigmoid')\n",
        "])\n",
        "\n",
        "model.compile(optimizer='adam',\n",
        "              loss='binary_crossentropy',\n",
        "              metrics=['accuracy'])\n",
        "\n",
        "model.fit(X_train_up, y_train_up, epochs=10)"
      ],
      "metadata": {
        "id": "zLmAv5v4EcRP",
        "outputId": "ea005b26-7be8-4483-bac4-6dcb8810ed32",
        "colab": {
          "base_uri": "https://localhost:8080/"
        }
      },
      "execution_count": 39,
      "outputs": [
        {
          "output_type": "stream",
          "name": "stdout",
          "text": [
            "Epoch 1/10\n",
            "\u001b[1m4360/4360\u001b[0m \u001b[32m━━━━━━━━━━━━━━━━━━━━\u001b[0m\u001b[37m\u001b[0m \u001b[1m10s\u001b[0m 2ms/step - accuracy: 0.9926 - loss: 0.0553\n",
            "Epoch 2/10\n",
            "\u001b[1m4360/4360\u001b[0m \u001b[32m━━━━━━━━━━━━━━━━━━━━\u001b[0m\u001b[37m\u001b[0m \u001b[1m17s\u001b[0m 4ms/step - accuracy: 1.0000 - loss: 1.0155e-05\n",
            "Epoch 3/10\n",
            "\u001b[1m4360/4360\u001b[0m \u001b[32m━━━━━━━━━━━━━━━━━━━━\u001b[0m\u001b[37m\u001b[0m \u001b[1m12s\u001b[0m 2ms/step - accuracy: 1.0000 - loss: 7.0798e-07\n",
            "Epoch 4/10\n",
            "\u001b[1m4360/4360\u001b[0m \u001b[32m━━━━━━━━━━━━━━━━━━━━\u001b[0m\u001b[37m\u001b[0m \u001b[1m11s\u001b[0m 2ms/step - accuracy: 1.0000 - loss: 6.2045e-08\n",
            "Epoch 5/10\n",
            "\u001b[1m4360/4360\u001b[0m \u001b[32m━━━━━━━━━━━━━━━━━━━━\u001b[0m\u001b[37m\u001b[0m \u001b[1m10s\u001b[0m 2ms/step - accuracy: 1.0000 - loss: 6.6325e-09\n",
            "Epoch 6/10\n",
            "\u001b[1m4360/4360\u001b[0m \u001b[32m━━━━━━━━━━━━━━━━━━━━\u001b[0m\u001b[37m\u001b[0m \u001b[1m8s\u001b[0m 2ms/step - accuracy: 1.0000 - loss: 1.1870e-09\n",
            "Epoch 7/10\n",
            "\u001b[1m4360/4360\u001b[0m \u001b[32m━━━━━━━━━━━━━━━━━━━━\u001b[0m\u001b[37m\u001b[0m \u001b[1m10s\u001b[0m 2ms/step - accuracy: 1.0000 - loss: 5.1577e-10\n",
            "Epoch 8/10\n",
            "\u001b[1m4360/4360\u001b[0m \u001b[32m━━━━━━━━━━━━━━━━━━━━\u001b[0m\u001b[37m\u001b[0m \u001b[1m10s\u001b[0m 2ms/step - accuracy: 1.0000 - loss: 4.5049e-10\n",
            "Epoch 9/10\n",
            "\u001b[1m4360/4360\u001b[0m \u001b[32m━━━━━━━━━━━━━━━━━━━━\u001b[0m\u001b[37m\u001b[0m \u001b[1m9s\u001b[0m 2ms/step - accuracy: 1.0000 - loss: 4.2917e-10\n",
            "Epoch 10/10\n",
            "\u001b[1m4360/4360\u001b[0m \u001b[32m━━━━━━━━━━━━━━━━━━━━\u001b[0m\u001b[37m\u001b[0m \u001b[1m9s\u001b[0m 2ms/step - accuracy: 1.0000 - loss: 4.2020e-10\n"
          ]
        },
        {
          "output_type": "execute_result",
          "data": {
            "text/plain": [
              "<keras.src.callbacks.history.History at 0x798cfa13d000>"
            ]
          },
          "metadata": {},
          "execution_count": 39
        }
      ]
    },
    {
      "cell_type": "code",
      "source": [
        "import pandas as pd\n",
        "\n",
        "# Preprocess X_test_up to convert string columns to numerical\n",
        "for column in X_test_up.select_dtypes(include=['object']).columns:\n",
        "    X_test_up[column] = pd.factorize(X_test_up[column])[0]\n",
        "\n",
        "# Preprocess y_test_up to convert string labels to numerical\n",
        "y_test_up = pd.factorize(y_test_up)[0]\n",
        "\n",
        "# Now evaluate the model:\n",
        "model.evaluate(X_test_up, y_test_up)"
      ],
      "metadata": {
        "id": "YskXY6gFFTd1",
        "outputId": "392aedaa-9d3b-4f25-a5f5-1729bf69fdac",
        "colab": {
          "base_uri": "https://localhost:8080/"
        }
      },
      "execution_count": 41,
      "outputs": [
        {
          "output_type": "stream",
          "name": "stdout",
          "text": [
            "\u001b[1m1454/1454\u001b[0m \u001b[32m━━━━━━━━━━━━━━━━━━━━\u001b[0m\u001b[37m\u001b[0m \u001b[1m5s\u001b[0m 3ms/step - accuracy: 1.0000 - loss: 4.2955e-10\n"
          ]
        },
        {
          "output_type": "execute_result",
          "data": {
            "text/plain": [
              "[4.3650669190320457e-10, 1.0]"
            ]
          },
          "metadata": {},
          "execution_count": 41
        }
      ]
    },
    {
      "cell_type": "code",
      "source": [
        "yp = model.predict(X_test_up)\n",
        "yp[:5]"
      ],
      "metadata": {
        "id": "A9HOZfxmFojG",
        "outputId": "0d578bad-7cbf-44d4-96d8-f400adc82ceb",
        "colab": {
          "base_uri": "https://localhost:8080/"
        }
      },
      "execution_count": 42,
      "outputs": [
        {
          "output_type": "stream",
          "name": "stdout",
          "text": [
            "\u001b[1m1454/1454\u001b[0m \u001b[32m━━━━━━━━━━━━━━━━━━━━\u001b[0m\u001b[37m\u001b[0m \u001b[1m4s\u001b[0m 2ms/step\n"
          ]
        },
        {
          "output_type": "execute_result",
          "data": {
            "text/plain": [
              "array([[4.3633972e-12],\n",
              "       [1.3606701e-12],\n",
              "       [1.3603639e-12],\n",
              "       [1.0000000e+00],\n",
              "       [4.7172552e-12]], dtype=float32)"
            ]
          },
          "metadata": {},
          "execution_count": 42
        }
      ]
    },
    {
      "cell_type": "code",
      "source": [
        "y_pred_up = []\n",
        "for element in yp:\n",
        "    if element > 0.5:\n",
        "        y_pred_up.append(1)\n",
        "    else:\n",
        "        y_pred_up.append(0)"
      ],
      "metadata": {
        "id": "lrVRIqc0Frzz"
      },
      "execution_count": 43,
      "outputs": []
    },
    {
      "cell_type": "code",
      "source": [
        "print(classification_report(y_test_up,y_pred_up))"
      ],
      "metadata": {
        "id": "40nq2pKTGrnN",
        "outputId": "a4d6da8e-24bc-427c-993b-6307cb64392d",
        "colab": {
          "base_uri": "https://localhost:8080/"
        }
      },
      "execution_count": 44,
      "outputs": [
        {
          "output_type": "stream",
          "name": "stdout",
          "text": [
            "              precision    recall  f1-score   support\n",
            "\n",
            "           0       1.00      1.00      1.00     23240\n",
            "           1       1.00      1.00      1.00     23260\n",
            "\n",
            "    accuracy                           1.00     46500\n",
            "   macro avg       1.00      1.00      1.00     46500\n",
            "weighted avg       1.00      1.00      1.00     46500\n",
            "\n"
          ]
        }
      ]
    },
    {
      "cell_type": "code",
      "source": [
        "cm = tf.math.confusion_matrix(labels=y_test_up,predictions=y_pred_up)\n",
        "\n",
        "plt.figure(figsize = (10,7))\n",
        "sns.heatmap(cm, annot=True, fmt='d') # Changed sn to sns\n",
        "plt.xlabel('Predicted')\n",
        "plt.ylabel('Truth')"
      ],
      "metadata": {
        "id": "WQ6pYVIUG2wD",
        "outputId": "bc571270-d462-4acc-ace3-04ea627c91b0",
        "colab": {
          "base_uri": "https://localhost:8080/",
          "height": 636
        }
      },
      "execution_count": 46,
      "outputs": [
        {
          "output_type": "execute_result",
          "data": {
            "text/plain": [
              "Text(95.72222222222221, 0.5, 'Truth')"
            ]
          },
          "metadata": {},
          "execution_count": 46
        },
        {
          "output_type": "display_data",
          "data": {
            "text/plain": [
              "<Figure size 1000x700 with 2 Axes>"
            ],
            "image/png": "[encoded data removed]"
          },
          "metadata": {}
        }
      ]
    },
    {
      "cell_type": "markdown",
      "source": [
        "# **ANN on DOWNSAMPLE**"
      ],
      "metadata": {
        "id": "hSZOH7uzHW2y"
      }
    },
    {
      "cell_type": "code",
      "source": [
        "import pandas as pd\n",
        "import tensorflow as tf\n",
        "from tensorflow import keras\n",
        "\n",
        "# Convert string columns in X_train_down to numerical using factorize\n",
        "for column in X_train_down.select_dtypes(include=['object']).columns:\n",
        "    X_train_down[column] = pd.factorize(X_train_down[column])[0]\n",
        "\n",
        "# Ensure y_train_down is also numerical (0 and 1)\n",
        "y_train_down = pd.factorize(y_train_down)[0]\n",
        "\n",
        "# Define and compile the model (rest of your code remains the same)\n",
        "model = keras.Sequential([\n",
        "    keras.layers.Dense(26, input_shape=(X_train_down.shape[1],), activation='relu'),\n",
        "    keras.layers.Dense(15, activation='relu'),\n",
        "    keras.layers.Dense(1, activation='sigmoid')\n",
        "])\n",
        "\n",
        "model.compile(optimizer='adam',\n",
        "              loss='binary_crossentropy',\n",
        "              metrics=['accuracy'])\n",
        "\n",
        "# Now fit the model\n",
        "model.fit(X_train_down, y_train_down, epochs=10)"
      ],
      "metadata": {
        "id": "jwNaR_dJHafu",
        "outputId": "89649137-25a8-4103-a6fd-01640c6cb3e5",
        "colab": {
          "base_uri": "https://localhost:8080/"
        }
      },
      "execution_count": 48,
      "outputs": [
        {
          "output_type": "stream",
          "name": "stdout",
          "text": [
            "Epoch 1/10\n",
            "\u001b[1m110/110\u001b[0m \u001b[32m━━━━━━━━━━━━━━━━━━━━\u001b[0m\u001b[37m\u001b[0m \u001b[1m2s\u001b[0m 2ms/step - accuracy: 0.7972 - loss: 0.6415\n",
            "Epoch 2/10\n",
            "\u001b[1m110/110\u001b[0m \u001b[32m━━━━━━━━━━━━━━━━━━━━\u001b[0m\u001b[37m\u001b[0m \u001b[1m0s\u001b[0m 2ms/step - accuracy: 0.9961 - loss: 0.2553\n",
            "Epoch 3/10\n",
            "\u001b[1m110/110\u001b[0m \u001b[32m━━━━━━━━━━━━━━━━━━━━\u001b[0m\u001b[37m\u001b[0m \u001b[1m0s\u001b[0m 2ms/step - accuracy: 1.0000 - loss: 0.0531\n",
            "Epoch 4/10\n",
            "\u001b[1m110/110\u001b[0m \u001b[32m━━━━━━━━━━━━━━━━━━━━\u001b[0m\u001b[37m\u001b[0m \u001b[1m0s\u001b[0m 4ms/step - accuracy: 1.0000 - loss: 0.0145\n",
            "Epoch 5/10\n",
            "\u001b[1m110/110\u001b[0m \u001b[32m━━━━━━━━━━━━━━━━━━━━\u001b[0m\u001b[37m\u001b[0m \u001b[1m1s\u001b[0m 3ms/step - accuracy: 1.0000 - loss: 0.0055\n",
            "Epoch 6/10\n",
            "\u001b[1m110/110\u001b[0m \u001b[32m━━━━━━━━━━━━━━━━━━━━\u001b[0m\u001b[37m\u001b[0m \u001b[1m1s\u001b[0m 3ms/step - accuracy: 1.0000 - loss: 0.0028\n",
            "Epoch 7/10\n",
            "\u001b[1m110/110\u001b[0m \u001b[32m━━━━━━━━━━━━━━━━━━━━\u001b[0m\u001b[37m\u001b[0m \u001b[1m1s\u001b[0m 3ms/step - accuracy: 1.0000 - loss: 0.0016\n",
            "Epoch 8/10\n",
            "\u001b[1m110/110\u001b[0m \u001b[32m━━━━━━━━━━━━━━━━━━━━\u001b[0m\u001b[37m\u001b[0m \u001b[1m1s\u001b[0m 3ms/step - accuracy: 1.0000 - loss: 0.0011\n",
            "Epoch 9/10\n",
            "\u001b[1m110/110\u001b[0m \u001b[32m━━━━━━━━━━━━━━━━━━━━\u001b[0m\u001b[37m\u001b[0m \u001b[1m0s\u001b[0m 3ms/step - accuracy: 1.0000 - loss: 7.7214e-04\n",
            "Epoch 10/10\n",
            "\u001b[1m110/110\u001b[0m \u001b[32m━━━━━━━━━━━━━━━━━━━━\u001b[0m\u001b[37m\u001b[0m \u001b[1m1s\u001b[0m 2ms/step - accuracy: 1.0000 - loss: 5.7759e-04\n"
          ]
        },
        {
          "output_type": "execute_result",
          "data": {
            "text/plain": [
              "<keras.src.callbacks.history.History at 0x798cf3cea800>"
            ]
          },
          "metadata": {},
          "execution_count": 48
        }
      ]
    },
    {
      "cell_type": "code",
      "source": [
        "# Preprocess X_test_down similar to X_train_down\n",
        "for column in X_test_down.select_dtypes(include=['object']).columns:\n",
        "    X_test_down[column] = pd.factorize(X_test_down[column])[0]\n",
        "\n",
        "# Preprocess y_test_down to convert string labels to numerical using the same factorize mapping as y_train_down\n",
        "y_test_down = pd.factorize(y_test_down)[0]\n",
        "\n",
        "# Evaluate the model\n",
        "model.evaluate(X_test_down, y_test_down)"
      ],
      "metadata": {
        "id": "1wrcmqhrH6LY",
        "outputId": "e5f16195-417d-4ea7-d617-38d0d811c1eb",
        "colab": {
          "base_uri": "https://localhost:8080/"
        }
      },
      "execution_count": 50,
      "outputs": [
        {
          "output_type": "stream",
          "name": "stdout",
          "text": [
            "\u001b[1m37/37\u001b[0m \u001b[32m━━━━━━━━━━━━━━━━━━━━\u001b[0m\u001b[37m\u001b[0m \u001b[1m1s\u001b[0m 2ms/step - accuracy: 0.0000e+00 - loss: 8.1775\n"
          ]
        },
        {
          "output_type": "execute_result",
          "data": {
            "text/plain": [
              "[8.197321891784668, 0.0]"
            ]
          },
          "metadata": {},
          "execution_count": 50
        }
      ]
    },
    {
      "cell_type": "code",
      "source": [
        "yp = model.predict(X_test_down)\n",
        "yp[:5]"
      ],
      "metadata": {
        "id": "w9FJK_ZAIOXV",
        "outputId": "9786eafd-92a7-4f0e-a7fb-c667b7d56c2f",
        "colab": {
          "base_uri": "https://localhost:8080/"
        }
      },
      "execution_count": 51,
      "outputs": [
        {
          "output_type": "stream",
          "name": "stdout",
          "text": [
            "\u001b[1m37/37\u001b[0m \u001b[32m━━━━━━━━━━━━━━━━━━━━\u001b[0m\u001b[37m\u001b[0m \u001b[1m0s\u001b[0m 7ms/step\n"
          ]
        },
        {
          "output_type": "execute_result",
          "data": {
            "text/plain": [
              "array([[9.9995363e-01],\n",
              "       [1.6009111e-05],\n",
              "       [9.9897414e-01],\n",
              "       [9.9937069e-01],\n",
              "       [9.9944144e-01]], dtype=float32)"
            ]
          },
          "metadata": {},
          "execution_count": 51
        }
      ]
    },
    {
      "cell_type": "code",
      "source": [
        "y_pred_down = []\n",
        "for element in yp:\n",
        "    if element > 0.5:\n",
        "        y_pred_down.append(1)\n",
        "    else:\n",
        "        y_pred_down.append(0)"
      ],
      "metadata": {
        "id": "mdGMt70pIUnv"
      },
      "execution_count": 52,
      "outputs": []
    },
    {
      "cell_type": "code",
      "source": [
        "print(classification_report(y_test_down,y_pred_down))"
      ],
      "metadata": {
        "id": "Lqrwc__6IZJ5",
        "outputId": "4b3d225b-9b43-4fa2-c837-c15742a26deb",
        "colab": {
          "base_uri": "https://localhost:8080/"
        }
      },
      "execution_count": 53,
      "outputs": [
        {
          "output_type": "stream",
          "name": "stdout",
          "text": [
            "              precision    recall  f1-score   support\n",
            "\n",
            "           0       0.00      0.00      0.00     582.0\n",
            "           1       0.00      0.00      0.00     583.0\n",
            "\n",
            "    accuracy                           0.00    1165.0\n",
            "   macro avg       0.00      0.00      0.00    1165.0\n",
            "weighted avg       0.00      0.00      0.00    1165.0\n",
            "\n"
          ]
        }
      ]
    },
    {
      "cell_type": "code",
      "source": [
        "cm = tf.math.confusion_matrix(labels=y_test_down,predictions=y_pred_down)\n",
        "\n",
        "plt.figure(figsize = (10,7))\n",
        "sns.heatmap(cm, annot=True, fmt='d')\n",
        "plt.xlabel('Predicted')\n",
        "plt.ylabel('Truth')"
      ],
      "metadata": {
        "id": "T1W5GLWIIep_",
        "outputId": "30d44680-257c-45a6-d9be-79b8147701c1",
        "colab": {
          "base_uri": "https://localhost:8080/",
          "height": 636
        }
      },
      "execution_count": 55,
      "outputs": [
        {
          "output_type": "execute_result",
          "data": {
            "text/plain": [
              "Text(95.72222222222221, 0.5, 'Truth')"
            ]
          },
          "metadata": {},
          "execution_count": 55
        },
        {
          "output_type": "display_data",
          "data": {
            "text/plain": [
              "<Figure size 1000x700 with 2 Axes>"
            ],
            "image/png": "[encoded data removed]"
          },
          "metadata": {}
        }
      ]
    }
  ]
}